{
 "cells": [
  {
   "cell_type": "markdown",
   "metadata": {},
   "source": [
    "------------------------\n",
    "**EXECUTION SETUP**"
   ]
  },
  {
   "cell_type": "code",
   "execution_count": 1,
   "metadata": {},
   "outputs": [],
   "source": [
    "datapath = '/DATA/Dropbox/LOOTRPV/astro_projects/2020_IntSh2/athena4p2/bin_paper1/test10_GXpars/'\n",
    "outpath = './temp_dashboard/'\n",
    "\n",
    "# NOTE: Throughout this work, Bfield is defined such that U_B = B**2/2, unless stated otherwise\n",
    "\n",
    "# MAIN EXECUTION PARAMETERS\n",
    "unit_check = False # turns off optimization but allows to use astropy to check the units\n",
    "opt_tf = False # use tensorflow instead of numpy for GPU acceleration, x5 speedup\n",
    "opt_numba = True # use numba to pre-compile some of the functions, about 3x speedup (turned off if opt_tf is on and GPU available)\n",
    "convert_vtk = True # saves vtk and processing data as pkl -- needed to use tensorflow, but also prevents from recalculating the same data\n",
    "force_recalc = True # force recalculation of augmented data, even if present in the pkl files\n",
    "#---------------------------------------------------------------\n",
    "\n",
    "# optimization logic\n",
    "opt_tf = (not unit_check and opt_tf)\n",
    "if opt_tf:\n",
    "    import tensorflow as tf\n",
    "    gpu_list = tf.config.list_physical_devices('GPU')\n",
    "    # do not use tensorflow if no GPU detected, use numba instead\n",
    "    opt_tf = (len(gpu_list) > 0)\n",
    "\n",
    "opt_numba = (not unit_check and not opt_tf and opt_numba)\n",
    "opt_fastmath = (opt_numba and True) # 20% speedup, but less precision\n",
    "\n",
    "# general imports\n",
    "import glob\n",
    "import os\n",
    "from tqdm import tqdm\n",
    "import numpy as np\n",
    "import pickle as pkl\n",
    "from collections.abc import Iterable\n",
    "from numba import jit, prange\n",
    "\n",
    "# vtk file loading if available\n",
    "try:\n",
    "    import vtk as _\n",
    "    from read_vtk import vtk\n",
    "except ImportError:\n",
    "    def vtk(x, out_dt):\n",
    "        print('VTK module not available. Please convert to pkl files and use those instead.', flush=True)\n",
    "        import sys; sys.exit()"
   ]
  },
  {
   "cell_type": "code",
   "execution_count": 2,
   "metadata": {},
   "outputs": [],
   "source": [
    "# tensorflow optimization wrappers\n",
    "if opt_tf:\n",
    "    print(\"Tensorflow %s\" % tf.__version__)\n",
    "    print(gpu_list)\n",
    "    def tf_convert (*arg):\n",
    "        '''Convert all arguments to tf.const for GPU processing'''\n",
    "        return (tf.convert_to_tensor(x, dtype='float64') for x in arg)\n",
    "    def tf_deconvert (x):\n",
    "        '''Use tensor.to_numpy() to perform tf operations'''\n",
    "        return x.numpy()\n",
    "    where = tf.where\n",
    "    exp = tf.math.exp\n",
    "    linspace = tf.linspace\n",
    "    meshgrid = tf.meshgrid\n",
    "    npsum = tf.math.reduce_sum\n",
    "    log = tf.math.log\n",
    "    reshape = tf.reshape\n",
    "    sqrt = tf.math.sqrt\n",
    "    def logspace (xmin,xmax,n):\n",
    "        return 10.**tf.linspace(xmin,xmax,n)\n",
    "    def log10 (x):\n",
    "        ten, = tf_convert(10.)\n",
    "        return tf.math.log(x) / tf.math.log(ten)\n",
    "    def nansum (x, axis):\n",
    "        return tf.math.reduce_sum(tf.where(tf.math.is_nan(x),tf.zeros_like(x),x), axis=axis)\n",
    "else:\n",
    "    @jit(nopython=opt_numba, parallel=opt_numba, fastmath=opt_fastmath, forceobj=(not opt_numba))\n",
    "    def tf_convert (*arg):\n",
    "        return arg\n",
    "    @jit(nopython=opt_numba, parallel=opt_numba, fastmath=opt_fastmath, forceobj=(not opt_numba))\n",
    "    def tf_deconvert (arg):\n",
    "        return arg\n",
    "    where = np.where\n",
    "    exp = np.exp\n",
    "    linspace = np.linspace\n",
    "    meshgrid = np.meshgrid\n",
    "    npsum = np.sum\n",
    "    log = np.log\n",
    "    reshape = np.reshape\n",
    "    sqrt = np.sqrt\n",
    "    logspace = np.logspace\n",
    "    log10 = np.log10\n",
    "    nansum = np.nansum"
   ]
  },
  {
   "cell_type": "code",
   "execution_count": 3,
   "metadata": {},
   "outputs": [],
   "source": [
    "# constants\n",
    "from astropy.constants import e, c, m_e\n",
    "import astropy.units as u\n",
    "from scipy.special import gamma\n",
    "e = e.esu.value * u.cm**1.5 * u.g**0.5 / u.s\n",
    "\n",
    "if unit_check:\n",
    "    #units\n",
    "    cm = u.cm\n",
    "    gram = u.g\n",
    "    sec = u.s\n",
    "    Hz = u.Hz\n",
    "    kpc = u.kpc\n",
    "    Msun = u.Msun\n",
    "    erg = u.erg\n",
    "    def get_cgs (x): return x.cgs\n",
    "    def get_cgs_value (x): return x.cgs.value\n",
    "else:\n",
    "    #constants\n",
    "    e = e.cgs.value\n",
    "    c = c.cgs.value\n",
    "    m_e = m_e.cgs.value\n",
    "    #units\n",
    "    cm = 1.0\n",
    "    gram = 1.0\n",
    "    sec = 1.0\n",
    "    Hz = 1.0\n",
    "    kpc = (1.*u.kpc).cgs.value\n",
    "    Msun = (1.*u.Msun).cgs.value\n",
    "    erg = (1.*u.erg).cgs.value\n",
    "    @jit(nopython=opt_numba, fastmath=opt_fastmath, forceobj=(not opt_numba))\n",
    "    def get_cgs (x): return x\n",
    "    @jit(nopython=opt_numba, fastmath=opt_fastmath, forceobj=(not opt_numba))\n",
    "    def get_cgs_value (x): return x\n",
    "    \n",
    "# simulation units\n",
    "# anchor points\n",
    "simu_rho = get_cgs(10**(-15) * gram/cm**3)\n",
    "simu_t = get_cgs(1.*sec)\n",
    "simu_len = get_cgs(c*simu_t)\n",
    "# derivative units\n",
    "simu_mass = get_cgs(simu_rho * simu_len**3)\n",
    "simu_en = simu_mass * get_cgs(c)**2 # erg\n",
    "simu_press = simu_en / simu_len**3 # erg / cm^3\n",
    "simu_B = np.sqrt(2.*simu_press) # sqrt( erg / cm^3 )\n",
    "simu_B_8piCorr = np.sqrt(8.*np.pi*simu_press) # sqrt( erg / cm^3 )"
   ]
  },
  {
   "cell_type": "code",
   "execution_count": 4,
   "metadata": {},
   "outputs": [
    {
     "name": "stdout",
     "output_type": "stream",
     "text": [
      "4752.702529631214\n",
      "2.694400241737399e+16 2.421606170851221e+37\n"
     ]
    }
   ],
   "source": [
    "print(simu_B_8piCorr)\n",
    "print(simu_mass, simu_en)"
   ]
  },
  {
   "cell_type": "markdown",
   "metadata": {},
   "source": [
    "--------------------\n",
    "**PHYSICS**"
   ]
  },
  {
   "cell_type": "code",
   "execution_count": 5,
   "metadata": {},
   "outputs": [],
   "source": [
    "# read the file list\n",
    "if not os.path.exists(outpath):\n",
    "    os.makedirs(outpath)\n",
    "    \n",
    "out_dt_vtk = 0.1\n",
    "adiab_idx = 1.33333333333\n",
    "\n",
    "vtk_filenames = sorted(glob.glob(datapath + 'joined_vtk/*.vtk'))"
   ]
  },
  {
   "cell_type": "code",
   "execution_count": 6,
   "metadata": {},
   "outputs": [],
   "source": [
    "# sychrotron emission treatment\n",
    "# general parameters, see Malzac (2014,2018)\n",
    "gmin = 1.0e1\n",
    "gmax = 1.0e6\n",
    "p = 2.5\n",
    "xi_e = 1.0 # electron equipartition parameter, U_e = xi_e* U_B\n",
    "\n",
    "# choice of emitting region size and frequency for plotting\n",
    "#R_choice = 6.0e-18 # ensures tau~1 at nu~10^14 (in the IR), it is low due to our high Bfield\n",
    "R_choice = 6.0e8 # IR core, see Shidatsu et al. (2011)\n",
    "nu_choice = 1.4e14 # Hz # see Malzac et al. (2018)\n",
    "\n",
    "# observer-frame frequency range for flux integration\n",
    "# IR-opt range: 300GHz - 3PHz\n",
    "nu_int_min = 300.0e9\n",
    "nu_int_max = 3.0e15\n",
    "\n",
    "# system properties (see overleaf)\n",
    "beta_jet = 0.75\n",
    "gamma_jet = 2.0\n",
    "incl = 23.0 * np.pi / 180.\n",
    "theta_j = 2.3 * np.pi / 180.\n",
    "dist = 8. * kpc\n",
    "mbh = 10. * Msun\n",
    "\n",
    "# See Malzac (2014), appendix A\n",
    "\n",
    "if p != 2.0:\n",
    "    gamma_e_bar = ((1-p)/(2-p)) * (gmax**(2-p) - gmin**(2-p)) / (gmax**(1-p) - gmin**(1-p))\n",
    "else:\n",
    "    gamma_e_bar = (1-p) * np.log(gmax/gmin) / (gmax**(1-p) - gmin**(1-p))\n",
    "\n",
    "i_gamma = ( gamma_e_bar * (1/(1-p)) * (gmax**(1-p) - gmin**(1-p)) )**(-1)\n",
    "\n",
    "K_j = ( (np.sqrt(3.) * e**3 * i_gamma) / (16*np.pi**2 * m_e**2 * c**4 * (p+1)) ) \\\n",
    "    * gamma((3*p+19)/12.) * gamma((3*p-1)/12.) * (m_e*c/(3*e))**(-(p-1)/2.)\n",
    "    \n",
    "K_a = ( (np.sqrt(3.) * e**3 * i_gamma) / (64*np.pi**2 * m_e**3 * c**4) ) \\\n",
    "    * (3.*e / (2.*np.pi*m_e*c))**(0.5*p) \\\n",
    "    * gamma((3.*p+2)/12.) * gamma((3.*p+22)/12.)\n",
    "    \n",
    "# j_nu, nu in fluid frame\n",
    "@jit(nopython=opt_numba, parallel=opt_numba, fastmath=opt_fastmath, forceobj=(not opt_numba))\n",
    "def j_nu (nu_fl, B):\n",
    "    '''Warning: B is expected in simulation units, and is converted to physical here.\n",
    "    Unit: g / (cm s**2) = erg / cm**3'''\n",
    "    nu_fl, B = tf_convert(nu_fl, B*simu_B_8piCorr)\n",
    "    return get_cgs(K_j * xi_e * (B*(erg/cm**3)**0.5)**((p+5)/2.) * (nu_fl*Hz)**(-(p-1)/2.))\n",
    "@jit(nopython=opt_numba, parallel=opt_numba, fastmath=opt_fastmath, forceobj=(not opt_numba))\n",
    "def alpha_nu (nu_fl, B):\n",
    "    '''Warning: B is expected in simulation units, and is converted to physical here.\n",
    "    Unit: 1/cm'''\n",
    "    nu_fl, B = tf_convert(nu_fl, B*simu_B_8piCorr)\n",
    "    return get_cgs(K_a * xi_e * (B*(erg/cm**3)**0.5)**(0.5*p+3) * (nu_fl*Hz)**(-(p+4)/2.))\n",
    "@jit(nopython=opt_numba, parallel=opt_numba, fastmath=opt_fastmath, forceobj=(not opt_numba))\n",
    "def j_over_alpha_nu (nu_fl, B):\n",
    "    '''Warning: B is expected in simulation units, and is converted to physical here.\n",
    "    Unit: erg / (cm**2)'''\n",
    "    nu_fl, B = tf_convert(nu_fl, B*simu_B_8piCorr)\n",
    "    return get_cgs((K_j/K_a) * (B*(erg/cm**3)**0.5)**(-0.5) * (nu_fl*Hz)**(2.5))\n",
    "@jit(nopython=opt_numba, parallel=opt_numba, fastmath=opt_fastmath, forceobj=(not opt_numba))\n",
    "def intensity (nu_fl, B, R):\n",
    "    '''Warning: B is expected in simulation units.\n",
    "    Unit: g/s**2 = erg / cm**2'''\n",
    "    nu_fl, B, R = tf_convert(nu_fl, B, R)\n",
    "    # for small alphae, we need to use a Taylor expansion\n",
    "    alpha = alpha_nu(nu_fl,B)\n",
    "    #return j_nu(nu_fl, B) * R*cm\n",
    "    return where(\n",
    "        alpha*R*cm < 1.0e-3,\n",
    "        j_nu(nu_fl, B) * R*cm,\n",
    "        j_over_alpha_nu(nu_fl, B) * (1.0-exp(-alpha*R*cm))\n",
    "    )\n",
    "    \n",
    "# observables\n",
    "doppler_factor = 1.0 / (gamma_jet*(1.0-beta_jet*np.cos(incl)))\n",
    "@jit(nopython=opt_numba, parallel=opt_numba, fastmath=opt_fastmath, forceobj=(not opt_numba))\n",
    "def nu2nu_fl (nu):\n",
    "    return nu/doppler_factor\n",
    "@jit(nopython=opt_numba, parallel=opt_numba, fastmath=opt_fastmath, forceobj=(not opt_numba))\n",
    "def flux_nu_per_dS (nu, B, R, filling_factor=1.0):\n",
    "    '''Observer-frame synchrotron flux from the given simulation unit surface.\n",
    "    Unit: erg / (s cm**2 Hz) / cm**2'''\n",
    "    nu, B, R, filling_factor = tf_convert(nu, B, R, filling_factor)\n",
    "    return (doppler_factor**2 * gamma_jet / (2.*dist**2)) \\\n",
    "             * filling_factor* intensity(nu/doppler_factor,B,R)\n",
    "             #* (dS*simu_len**2) # perp. surface element, instead of (beta c dt R)\n",
    "# total flux within the IR-opt range: 300GHz - 3PHz\n",
    "@jit(nopython=opt_numba, parallel=opt_numba, fastmath=opt_fastmath, forceobj=(not opt_numba))\n",
    "def _flux_total_integrate (nu_grid,B_grid,R,dlognu_grid, filling_factor=1.0):\n",
    "    nu_grid,B_grid,R,dlognu_grid, filling_factor = tf_convert(nu_grid,B_grid,R,dlognu_grid, filling_factor)\n",
    "    integrand = nu_grid*Hz * get_cgs(flux_nu_per_dS(nu_grid,B_grid,R,filling_factor))\n",
    "    return npsum(integrand*dlognu_grid, axis=-1)\n",
    "# Do NOT use numba for flux_total. It does not understand np.meshgrid, and alternative implementations cause the code to be extremely slow.\n",
    "def flux_total_per_dS (B,R, nu_min=nu_int_min, nu_max=nu_int_max, resolution=1024, filling_factor=1.0):\n",
    "    '''Total observer-frame flux from dS within the IR-opt range: 300GHz - 3PHz.\n",
    "    Unit: erg/(cm**2*sec)'''\n",
    "    B,R, nu_min,nu_max = tf_convert(B,R, nu_min,nu_max)\n",
    "    Bshape = B.shape\n",
    "    # log-integrate the flux\n",
    "    lognu = linspace(log(nu_min), log(nu_max), resolution)\n",
    "    dlognu = lognu[1:] - lognu[:-1]\n",
    "    lognu = 0.5 * (lognu[1:] + lognu[:-1])\n",
    "    nu = exp(lognu)\n",
    "    B_grid, nu_grid = meshgrid(B, nu, indexing='ij')\n",
    "    B_grid, dlognu_grid = meshgrid(B, dlognu, indexing='ij')\n",
    "    return get_cgs(reshape(_flux_total_integrate(nu_grid,B_grid,R, dlognu_grid, filling_factor), Bshape))"
   ]
  },
  {
   "cell_type": "code",
   "execution_count": 7,
   "metadata": {},
   "outputs": [],
   "source": [
    "if unit_check:\n",
    "    %timeit j_nu(12., 12.)\n",
    "    print(j_nu(12., 12.))\n",
    "    print(alpha_nu(12., 12.))\n",
    "    print(intensity(12., 12.,12.))\n",
    "    print(flux_total_per_dS(np.array([12.,]),12.,0.5))\n",
    "    if unit_check:\n",
    "        print(\"Check that dimensionless: \", get_cgs(j_over_alpha_nu(12., 12.) / (erg / (cm**2))),\n",
    "          get_cgs(flux_total(np.array([12.,]),12.,0.5)) / get_cgs(erg/(cm**2*sec)))"
   ]
  },
  {
   "cell_type": "code",
   "execution_count": 8,
   "metadata": {},
   "outputs": [],
   "source": [
    "# other frequently used functions, moved here to enable numba optimization\n",
    "\n",
    "# vector operations\n",
    "@jit(nopython=opt_numba, parallel=opt_numba, fastmath=opt_fastmath, forceobj=(not opt_numba))\n",
    "def sqr_vec_l2 (x,y,z):\n",
    "    x,y,z = tf_convert(x,y,z)\n",
    "    return x**2 + y**2 + z**2\n",
    "@jit(nopython=opt_numba, parallel=opt_numba, fastmath=opt_fastmath, forceobj=(not opt_numba))\n",
    "def norm_vec_l2 (x,y,z):\n",
    "    x,y,z = tf_convert(x,y,z)\n",
    "    return sqrt(x**2 + y**2 + z**2)\n",
    "\n",
    "# SR operations\n",
    "# NOTE: in Athena 4.2 vel1, vel2, vel3 are 3-velocities. Instead Athena++ uses 4-velocities in the code (so they would need to be translated).\n",
    "@jit(nopython=opt_numba, parallel=opt_numba, fastmath=opt_fastmath, forceobj=(not opt_numba))\n",
    "def v2gamma (v):\n",
    "    v, = tf_convert(v)\n",
    "    return 1.0/sqrt(1.0-v**2)\n",
    "@jit(nopython=opt_numba, parallel=opt_numba, fastmath=opt_fastmath, forceobj=(not opt_numba))\n",
    "def vsqr2gamma (vsqr):\n",
    "    vsqr, = tf_convert(vsqr)\n",
    "    return 1.0/sqrt(1.0-vsqr)\n",
    "\n",
    "# Bcc in the fluid frame\n",
    "@jit(nopython=opt_numba, parallel=opt_numba, fastmath=opt_fastmath, forceobj=(not opt_numba))\n",
    "def BccFl0 (gamma, v1,v2,v3, b1,b2,b3):\n",
    "    gamma, v1,v2,v3, b1,b2,b3 = tf_convert(gamma, v1,v2,v3, b1,b2,b3)\n",
    "    return gamma * (v1*b1 + v2*b2 + v3*b3)\n",
    "@jit(nopython=opt_numba, parallel=opt_numba, fastmath=opt_fastmath, forceobj=(not opt_numba))\n",
    "def BccFli (gamma, v,b, bFl0):\n",
    "    gamma, v,b, bFl0 = tf_convert(gamma, v,b, bFl0)\n",
    "    return b / gamma + bFl0 * v\n",
    "\n",
    "# plasma parameters\n",
    "@jit(nopython=opt_numba, parallel=opt_numba, fastmath=opt_fastmath, forceobj=(not opt_numba))\n",
    "def plasma_beta (press, Bflsqr):\n",
    "    press, Bflsqr = tf_convert(press, Bflsqr)\n",
    "    return 2.*press / Bflsqr\n",
    "@jit(nopython=opt_numba, parallel=opt_numba, fastmath=opt_fastmath, forceobj=(not opt_numba))\n",
    "def magnetization (Bflsqr, rho):\n",
    "    Bflsqr, rho = tf_convert(Bflsqr, rho)\n",
    "    return 0.5 * Bflsqr / rho\n",
    "\n",
    "# internal energy in the fluid frame, see Beckwith & Stone (2011)\n",
    "@jit(nopython=opt_numba, parallel=opt_numba, fastmath=opt_fastmath, forceobj=(not opt_numba))\n",
    "def enthalpy (adiab_idx, press, rho):\n",
    "    '''Fluid-frame gas enthalpy per unit mass.'''\n",
    "    adiab_idx, press, rho = tf_convert(adiab_idx, press, rho)\n",
    "    return 1.0 + ((adiab_idx)/(adiab_idx-1.0)) * press / rho\n",
    "@jit(nopython=opt_numba, parallel=opt_numba, fastmath=opt_fastmath, forceobj=(not opt_numba))\n",
    "def internal_energy (rho, enthalpy, gamma, press, Bflsqr):\n",
    "    '''Fluid-frame total internal energy per unit volume.\n",
    "     - see Beckwith & Stone (2011), https://github.com/PrincetonUniversity/athena/wiki/Special-Relativity'''\n",
    "    rho, enthalpy, gamma, press, Bflsqr = tf_convert(rho, enthalpy, gamma, press, Bflsqr)\n",
    "    return rho * enthalpy * gamma**2 - press + 0.5 * Bflsqr # warning!: includes rest mass"
   ]
  },
  {
   "cell_type": "code",
   "execution_count": 9,
   "metadata": {},
   "outputs": [],
   "source": [
    "sim2phys = {\n",
    "    'Time':simu_t, # sec\n",
    "    'x1f':simu_len, # cm\n",
    "    'x2f':simu_len, # cm\n",
    "    'x3f':simu_len, # cm\n",
    "    'x1v':simu_len, # cm\n",
    "    'x2v':simu_len, # cm\n",
    "    'x3v':simu_len, # cm\n",
    "    'rho':simu_mass/simu_len**3, # g / cm^3\n",
    "    'press':simu_mass * (simu_len/simu_t)**2 / simu_len**3, # erg / cm^3\n",
    "    'vel1': 1.0, # c\n",
    "    'vel2': 1.0, # c\n",
    "    'vel3': 1.0, # c\n",
    "    'vel_tot': 1.0, # c\n",
    "    'Bcc1': simu_B, # sqrt(erg / cm^3)\n",
    "    'Bcc2': simu_B, # sqrt(erg / cm^3)\n",
    "    'Bcc3': simu_B, # sqrt(erg / cm^3)\n",
    "    'Bcc_tot': simu_B, # sqrt(erg / cm^3)\n",
    "    'Bcc_fluid_0': simu_B, # sqrt(erg / cm^3)\n",
    "    'Bcc_fluid_1': simu_B, # sqrt(erg / cm^3)\n",
    "    'Bcc_fluid_2': simu_B, # sqrt(erg / cm^3)\n",
    "    'Bcc_fluid_3': simu_B, # sqrt(erg / cm^3)\n",
    "    'Bcc_fluid_tot': simu_B, # sqrt(erg / cm^3)\n",
    "    'Bcc_fluid_tot_vsZ': simu_B, # sqrt(erg / cm^3)\n",
    "    'enthalpy': simu_mass * (simu_len/simu_t)**2 / simu_mass, # erg/g\n",
    "    'internal_energy': simu_mass * (simu_len/simu_t)**2 / simu_len**3, # erg / cm^3\n",
    "    'internal_energy_vsZ': simu_mass * (simu_len/simu_t)**2 / simu_len**3, # erg / cm^3\n",
    "    'j_nu': 1.0, # erg / cm**3\n",
    "    'j_nu_vsZ': 1.0, # erg / cm**3\n",
    "    'j_over_alpha_nu': 1.0, # erg / cm**2\n",
    "    'j_over_alpha_nu_vsZ': 1.0, # erg / cm**2\n",
    "    'flux_density': 1.0, # erg/(cm**2*sec) / cm**2\n",
    "    'flux_density_vsZ': 1.0, # erg/(cm**2*sec) / cm**2\n",
    "    'spectrum': (1.0, 1.0), # (Hz, erg / (s cm**2 Hz) / cm**2)\n",
    "    'ddt_internal_energy': simu_mass * (simu_len/simu_t)**2 / simu_len**3 / simu_t, # erg / cm^3 / s\n",
    "    'ddt_internal_energy_vsZ': simu_mass * (simu_len/simu_t)**2 / simu_len**3 / simu_t, # erg / cm^3 / s\n",
    "}"
   ]
  },
  {
   "cell_type": "code",
   "execution_count": 10,
   "metadata": {},
   "outputs": [],
   "source": [
    "def do_vertical_avg (data_vtk, quantity):\n",
    "    yrange = (data_vtk['x2v'][1] - data_vtk['x2v'][0]) * len(data_vtk['x2v'])\n",
    "    data_vtk[quantity+'_vsZ'] = tf_deconvert(npsum(data_vtk[quantity], axis=0) / yrange)\n",
    "    \n",
    "default_augment_kwargs = {\n",
    "    'nu_res':128, 'nu_min':1., 'nu_max':1.0e32,\n",
    "    'nu_int_min':nu_int_min, 'nu_int_max':nu_int_max,\n",
    "    'R_selection':R_choice, 'nu_selection':nu_choice,\n",
    "    'filling_factor':1.0\n",
    "}\n",
    "\n",
    "def augment_vtk_data (data_vtk, previous_data_vtk=None, \n",
    "                      nu_res=128, nu_min=1., nu_max=1.1*nu_int_max,\n",
    "                      nu_int_min=nu_int_min, nu_int_max=nu_int_max,\n",
    "                      R_selection=R_choice, nu_selection=nu_choice,\n",
    "                      filling_factor=1.0):\n",
    "    \n",
    "    ''' calculate auxiliary data '''\n",
    "    \n",
    "    xrange = (data_vtk['x1v'][1] - data_vtk['x1v'][0]) * len(data_vtk['x1v'])\n",
    "    yrange = (data_vtk['x2v'][1] - data_vtk['x2v'][0]) * len(data_vtk['x2v'])\n",
    "    \n",
    "    # SR quantities\n",
    "    # NOTE: in Athena 4.2 vel1, vel2, vel3 are 3-velocities. Instead Athena++ uses 4-velocities in the code (so they would need to be translated).\n",
    "    vel_tot_sqr = sqr_vec_l2(data_vtk['vel1'], data_vtk['vel2'], data_vtk['vel3'])\n",
    "    data_vtk['vel_tot'] = tf_deconvert(sqrt(vel_tot_sqr))\n",
    "    gam = vsqr2gamma(vel_tot_sqr)\n",
    "    data_vtk['gamma'] = tf_deconvert(gam)\n",
    "    del vel_tot_sqr\n",
    "\n",
    "    # total Bcc in observer frame\n",
    "    data_vtk['Bcc_tot'] = tf_deconvert(norm_vec_l2(data_vtk['Bcc1'], data_vtk['Bcc2'], data_vtk['Bcc3']))\n",
    "\n",
    "    # Bcc in the fluid frame\n",
    "    Bfl0 = BccFl0(\n",
    "        gam,\n",
    "        data_vtk['vel1'],data_vtk['vel2'],data_vtk['vel3'],\n",
    "        data_vtk['Bcc1'],data_vtk['Bcc2'],data_vtk['Bcc3'],\n",
    "    )\n",
    "    Bfl1 = BccFli(\n",
    "        gam, \n",
    "        data_vtk['vel1'], data_vtk['Bcc1'],\n",
    "        Bfl0\n",
    "    )\n",
    "    Bfl2 = BccFli(\n",
    "        gam, \n",
    "        data_vtk['vel2'], data_vtk['Bcc2'],\n",
    "        Bfl0\n",
    "    )\n",
    "    Bfl3 = BccFli(\n",
    "        gam, \n",
    "        data_vtk['vel3'], data_vtk['Bcc3'],\n",
    "        Bfl0\n",
    "    )\n",
    "    Bcc_fluid_tot_sqr = sqr_vec_l2(Bfl1, Bfl2, Bfl3)\n",
    "    Bcc_fluid_tot = sqrt(Bcc_fluid_tot_sqr)\n",
    "    data_vtk['Bcc_fluid_0'] = tf_deconvert(Bfl0)\n",
    "    data_vtk['Bcc_fluid_1'] = tf_deconvert(Bfl1)\n",
    "    data_vtk['Bcc_fluid_2'] = tf_deconvert(Bfl2)\n",
    "    data_vtk['Bcc_fluid_3'] = tf_deconvert(Bfl3)\n",
    "    data_vtk['Bcc_fluid_tot'] = tf_deconvert(Bcc_fluid_tot)\n",
    "    do_vertical_avg(data_vtk, 'Bcc_fluid_tot')\n",
    "\n",
    "    # plasma parameters\n",
    "    data_vtk['plasma_beta'] = tf_deconvert(plasma_beta(data_vtk['press'], Bcc_fluid_tot_sqr))\n",
    "    data_vtk['magnetization'] = tf_deconvert(magnetization(Bcc_fluid_tot_sqr, data_vtk['rho']))\n",
    "    \n",
    "    # internal energy in the fluid frame\n",
    "    # see Beckwith & Stone (2011), https://github.com/PrincetonUniversity/athena/wiki/Special-Relativity\n",
    "    enth = enthalpy(adiab_idx, data_vtk['press'], data_vtk['rho'])\n",
    "    data_vtk['enthalpy'] = tf_deconvert(enth)\n",
    "    data_vtk['internal_energy'] = tf_deconvert(internal_energy(data_vtk['rho'], enth, gam, data_vtk['press'], Bcc_fluid_tot_sqr)) # warning!: includes rest mass\n",
    "    do_vertical_avg(data_vtk, 'internal_energy')\n",
    "    \n",
    "    del Bcc_fluid_tot_sqr, enth\n",
    "    \n",
    "    # synchrotron emission diagnostics\n",
    "    jnu = j_nu(nu2nu_fl(nu_selection), Bcc_fluid_tot)\n",
    "    data_vtk['j_nu'] = tf_deconvert(jnu)\n",
    "    do_vertical_avg(data_vtk, 'j_nu')\n",
    "    alphanu = alpha_nu(nu2nu_fl(nu_selection), Bcc_fluid_tot)\n",
    "    data_vtk['alpha_nu'] = tf_deconvert(alphanu)\n",
    "    do_vertical_avg(data_vtk, 'alpha_nu')\n",
    "    janu = j_over_alpha_nu(nu2nu_fl(nu_selection), Bcc_fluid_tot)\n",
    "    data_vtk['j_over_alpha_nu'] = tf_deconvert(janu)\n",
    "    do_vertical_avg(data_vtk, 'j_over_alpha_nu')\n",
    "    flux_tot = flux_total_per_dS(B=Bcc_fluid_tot, R=R_selection, nu_min=nu_int_min, nu_max=nu_int_max)\n",
    "    data_vtk['flux_density'] = tf_deconvert(flux_tot)\n",
    "    do_vertical_avg(data_vtk, 'flux_density')\n",
    "    \n",
    "    nu_min, nu_max = tf_convert(nu_min, nu_max)\n",
    "    freqs = logspace(log10(nu_min), log10(nu_max), nu_res)\n",
    "    \n",
    "    dS = (data_vtk['x1v'][1] - data_vtk['x1v'][0]) * (data_vtk['x2v'][1] - data_vtk['x2v'][0])\n",
    "    nu_grid, B_grid = meshgrid(freqs, Bcc_fluid_tot, indexing='ij')\n",
    "    data_vtk['spectrum'] = [\n",
    "        tf_deconvert(freqs),\n",
    "        tf_deconvert(nansum(flux_nu_per_dS(nu=nu_grid, B=B_grid, R=R_selection, filling_factor=filling_factor)*dS, axis=-1) / (xrange*yrange))\n",
    "    ]\n",
    "    \n",
    "    # time derivatives\n",
    "    if type(previous_data_vtk) is dict:\n",
    "        for quantity in ['internal_energy','internal_energy_vsZ']:\n",
    "            data_vtk['ddt_'+quantity] = (data_vtk[quantity]-previous_data_vtk[quantity]) / (data_vtk['Time']-previous_data_vtk['Time'])\n",
    "    \n",
    "    return data_vtk"
   ]
  },
  {
   "cell_type": "code",
   "execution_count": 11,
   "metadata": {},
   "outputs": [],
   "source": [
    "def read_vtk_file (vtk_filename, previous_data_vtk=None, out_dt=out_dt_vtk, augment_kwargs=default_augment_kwargs):\n",
    "    '''read and augment the data'''\n",
    "    if os.path.isfile(vtk_filename + '.pkl'):\n",
    "        with open(vtk_filename + '.pkl', 'rb') as f:\n",
    "            data_vtk, augment_kwargs_loaded = pkl.load(f)\n",
    "        # recalculate augmentation if needed\n",
    "        if force_recalc or augment_kwargs_loaded != augment_kwargs:\n",
    "            data_vtk = augment_vtk_data(data_vtk, previous_data_vtk=previous_data_vtk, **augment_kwargs)\n",
    "            if convert_vtk:\n",
    "                with open(vtk_filename + '.pkl','wb') as f:\n",
    "                    pkl.dump((data_vtk, augment_kwargs), f)\n",
    "    else:\n",
    "        data_vtk = augment_vtk_data(vtk(vtk_filename, out_dt=out_dt_vtk), previous_data_vtk=previous_data_vtk, **augment_kwargs)\n",
    "        if convert_vtk:\n",
    "            with open(vtk_filename + '.pkl','wb') as f:\n",
    "                pkl.dump((data_vtk, augment_kwargs), f)\n",
    "    return data_vtk"
   ]
  },
  {
   "cell_type": "code",
   "execution_count": 12,
   "metadata": {},
   "outputs": [],
   "source": [
    "def precalc_history (vtk_filenames, out_dt=out_dt_vtk, augment_kwargs=default_augment_kwargs):\n",
    "    previous_data_vtk = None\n",
    "    history = {}\n",
    "    quantities = ['times', 'internal_energy', 'flux_density']\n",
    "    for quantity in quantities:\n",
    "        history[quantity] = []\n",
    "    for vtk_filename in tqdm(vtk_filenames):\n",
    "        fileno = int(vtk_filename.split('/')[-1].split('.')[-2])\n",
    "        # read and augment the data\n",
    "        data_vtk = read_vtk_file(vtk_filename, previous_data_vtk, out_dt=out_dt, augment_kwargs=augment_kwargs)\n",
    "        # calculate history variables\n",
    "        xrange = (data_vtk['x1v'][1] - data_vtk['x1v'][0]) * len(data_vtk['x1v'])\n",
    "        history['times'].append(fileno*out_dt)\n",
    "        dl = (data_vtk['x1v'][1] - data_vtk['x1v'][0])\n",
    "        history['internal_energy'].append(np.sum(data_vtk['internal_energy_vsZ']*dl)/xrange)\n",
    "        history['flux_density'].append(get_cgs_value(np.sum(data_vtk['flux_density_vsZ']*dl))/xrange)\n",
    "        # move on\n",
    "        del previous_data_vtk\n",
    "        previous_data_vtk = data_vtk\n",
    "    for quantity in quantities:\n",
    "        history[quantity] = np.array(history[quantity])\n",
    "    history['ddt_internal_energy'] = (history['internal_energy'][1:] - history['internal_energy'][:-1]) / (history['times'][1:] - history['times'][:-1])\n",
    "    history['ddt_internal_energy'] = np.insert(history['ddt_internal_energy'], 0, np.nan)\n",
    "    return history"
   ]
  },
  {
   "cell_type": "code",
   "execution_count": 13,
   "metadata": {},
   "outputs": [],
   "source": [
    "# WARNING: add_snapshot_FIFO below is NOT embarassingly parallelizable, but does significantly save memory\n",
    "def dashboard_frame (i_vtk, verbose=False, save=True, recalculate=False, previous_data_vtk=None, history=None, augment_kwargs=default_augment_kwargs):\n",
    "\n",
    "    import numpy as np\n",
    "    import matplotlib.pyplot as plt\n",
    "    import matplotlib.gridspec as gridspec\n",
    "\n",
    "    from read_vtk import vtk\n",
    "    \n",
    "    fileno = int(vtk_filenames[i_vtk].split('/')[-1].split('.')[-2])\n",
    "    vtk_time = fileno * out_dt_vtk # presumably we can trust this..\n",
    "    \n",
    "    print('Processing vtk no %i, vtk_time = %.2e..' % (i_vtk, vtk_time), flush=True)\n",
    "    \n",
    "    # see whether we can skip the file as already plotted\n",
    "    outfile = (outpath + 'dashboard_%05i.png') % fileno\n",
    "    if save and not recalculate and os.path.exists(outfile):\n",
    "        print(' - file already plotted, skipping.', flush=True)\n",
    "        return\n",
    "\n",
    "    # initialize the plot\n",
    "    fig = plt.figure(figsize=(24,12))\n",
    "    gs = gridspec.GridSpec(4,8, width_ratios=[1,0.1,0.1,1,0.1,0.1,1,0.1])\n",
    "    plt.suptitle('Time = %.2f sec.' % (vtk_time * sim2phys['Time'],))\n",
    "\n",
    "    # ----------------------------------------------------------\n",
    "\n",
    "    if verbose:\n",
    "        print(' - processing vtk data..', flush=True)\n",
    "\n",
    "    # load, process, and plot the vtk file (mhd quantities)\n",
    "    \n",
    "    if previous_data_vtk == None and i_vtk > 0:\n",
    "        previous_data_vtk = read_vtk_file(vtk_filenames[i_vtk-1], previous_data_vtk=None, out_dt=out_dt_vtk, augment_kwargs=augment_kwargs)\n",
    "\n",
    "    data_vtk = read_vtk_file(vtk_filenames[i_vtk], previous_data_vtk=previous_data_vtk, out_dt=out_dt_vtk, augment_kwargs=augment_kwargs)\n",
    "\n",
    "    # plot\n",
    "\n",
    "    plt.subplot(gs[0,0])\n",
    "    plt.contourf(data_vtk['x1v'], data_vtk['x2v'], data_vtk['magnetization'])\n",
    "    plt.gca().axes.xaxis.set_ticklabels([])\n",
    "    plt.title('Magnetization (fl. frame)')\n",
    "    plt.ylabel('y [lt-sec]')\n",
    "    plt.colorbar(cax=plt.subplot(gs[0,1]))\n",
    "\n",
    "    plt.subplot(gs[1,0])\n",
    "    plt.contourf(data_vtk['x1v'], data_vtk['x2v'], data_vtk['Bcc_fluid_tot'] * sim2phys['Bcc_fluid_tot'])\n",
    "    plt.title('Bfield (fl. frame) [ ( erg $/$ cm$^3 $)$^{1/2}$ ]')\n",
    "    plt.ylabel('y [lt-sec]')\n",
    "    plt.gca().axes.xaxis.set_ticklabels([])\n",
    "    plt.colorbar(cax=plt.subplot(gs[1,1]))\n",
    "    \n",
    "    ax = plt.subplot(gs[2,0])\n",
    "    plt.plot(data_vtk['x1v'], data_vtk['Bcc_fluid_tot_vsZ'] * sim2phys['Bcc_fluid_tot_vsZ'], 'k-')\n",
    "    plt.gca().axes.xaxis.set_ticklabels([])\n",
    "    plt.ylabel('y [lt-sec]')\n",
    "    plt.title('Bfield (fl. frame) [ ( erg $/$ cm$^3 $)$^{1/2}$ ]')\n",
    "    ax.set_xlim(min(data_vtk['x1v']), max(data_vtk['x1v']))\n",
    "\n",
    "    ax = plt.subplot(gs[3,0])\n",
    "    plt.contourf(data_vtk['x1v'], data_vtk['x2v'], data_vtk['plasma_beta'])\n",
    "    plt.title('Plasma $\\\\beta$')\n",
    "    plt.ylabel('y [lt-sec]')\n",
    "    plt.xlabel('x [lt-sec]')\n",
    "    plt.colorbar(cax=plt.subplot(gs[3,1]))\n",
    "    ax.set_xlim(min(data_vtk['x1v']), max(data_vtk['x1v']))\n",
    "    ax.set_ylim(min(data_vtk['x2v']), max(data_vtk['x2v']))\n",
    "\n",
    "    plt.subplot(gs[0,3])\n",
    "    plt.contourf(data_vtk['x1v'], data_vtk['x2v'], data_vtk['rho'] * sim2phys['rho'])\n",
    "    plt.title('Density (fl. frame) [ g $/$ cm$^3$ ]')\n",
    "    plt.gca().axes.xaxis.set_ticklabels([])\n",
    "    plt.ylabel('y [lt-sec]')\n",
    "    plt.colorbar(cax=plt.subplot(gs[0,4]))\n",
    "\n",
    "    plt.subplot(gs[1,3])\n",
    "    plt.contourf(data_vtk['x1v'], data_vtk['x2v'], data_vtk['flux_density'] * sim2phys['flux_density'])\n",
    "    plt.title('Syn. flux / dS [ erg $/$ (cm$^2$ s) $/$ cm$^2$ ]')\n",
    "    plt.gca().axes.xaxis.set_ticklabels([])\n",
    "    plt.ylabel('y [lt-sec]')\n",
    "    plt.colorbar(cax=plt.subplot(gs[1,4]))\n",
    "    \n",
    "    ax = plt.subplot(gs[2,3])\n",
    "    plt.plot(data_vtk['x1v'], data_vtk['j_nu_vsZ'] * sim2phys['j_nu_vsZ'], 'k-')\n",
    "    plt.gca().axes.xaxis.set_ticklabels([])\n",
    "    plt.ylabel('$j_{\\\\nu}(1.4$ PHz$)$ [ erg $/$ cm$^3$ ]')\n",
    "    ax.set_xlim(min(data_vtk['x1v']), max(data_vtk['x1v']))\n",
    "    ax2 = plt.twinx()\n",
    "    plt.plot(data_vtk['x1v'], data_vtk['j_over_alpha_nu_vsZ'] * sim2phys['j_over_alpha_nu_vsZ'], 'b-')\n",
    "    plt.ylabel('$j_{\\\\nu}/\\\\alpha_{\\\\nu}(1.4$ PHz$)$ [ erg $/$ cm$^2$ ]')\n",
    "    ax2.spines['right'].set_color('b')\n",
    "    ax2.tick_params(axis='y', which='both', colors='b')\n",
    "    ax2.yaxis.label.set_color('b')\n",
    "    \n",
    "    plt.subplot(gs[0,6])\n",
    "    plt.contourf(data_vtk['x1v'], data_vtk['x2v'], data_vtk['internal_energy'] * sim2phys['internal_energy'])\n",
    "    plt.title('Internal energy, $U$ (fl. frame) [ erg $/$ cm$^3$ ]')\n",
    "    plt.gca().axes.xaxis.set_ticklabels([])\n",
    "    plt.ylabel('y [lt-sec]')\n",
    "    plt.colorbar(cax=plt.subplot(gs[0,7]))\n",
    "\n",
    "    if 'ddt_internal_energy' in data_vtk.keys():\n",
    "        plt.subplot(gs[1,6])\n",
    "        plt.contourf(data_vtk['x1v'], data_vtk['x2v'], data_vtk['ddt_internal_energy'] * sim2phys['ddt_internal_energy'])\n",
    "        plt.title('d(Internal energy)/dt, $\\\\dot{U}$ (fl. frame) [ erg $/$ (cm$^3$ s) ]')\n",
    "        plt.gca().axes.xaxis.set_ticklabels([])\n",
    "        plt.ylabel('y [lt-sec]')\n",
    "        plt.colorbar(cax=plt.subplot(gs[1,7]))\n",
    "\n",
    "        ax = plt.subplot(gs[2,6])\n",
    "        plt.plot(data_vtk['x1v'], data_vtk['internal_energy_vsZ'] * sim2phys['internal_energy_vsZ'], 'k-')\n",
    "        plt.gca().axes.xaxis.set_ticklabels([])\n",
    "        plt.ylabel('$U$ [ erg $/$ cm$^3$ ]')\n",
    "        ax.set_xlim(min(data_vtk['x1v']), max(data_vtk['x1v']))\n",
    "        ax2 = plt.twinx()\n",
    "        plt.plot(data_vtk['x1v'], data_vtk['ddt_internal_energy_vsZ'] * sim2phys['ddt_internal_energy_vsZ'], 'b-')\n",
    "        plt.ylabel('$\\\\dot{U}_{\\\\rm avg}$ [ erg $/$ (cm$^3$ s) ]')\n",
    "        ax2.spines['right'].set_color('b')\n",
    "        ax2.tick_params(axis='y', which='both', colors='b')\n",
    "        ax2.yaxis.label.set_color('b')\n",
    "    \n",
    "    ax = plt.subplot(gs[3,6])\n",
    "    plt.plot(\n",
    "        data_vtk['spectrum'][0] * sim2phys['spectrum'][0], \n",
    "        data_vtk['spectrum'][1] * sim2phys['spectrum'][1], 'k-')\n",
    "    ax.set_xscale('log')\n",
    "    ax.set_yscale('log')\n",
    "    plt.xlabel('$\\\\nu$ [Hz]')\n",
    "    plt.ylabel('$F_{\\\\nu\\\\rm,syn}$ [ erg $/$ (s cm$^2$ Hz) $/$ cm$^2$ ]')\n",
    "    plt.axvline(augment_kwargs['nu_int_min'], color='k', ls=':')\n",
    "    plt.axvline(augment_kwargs['nu_int_max'], color='k', ls=':')\n",
    "    \n",
    "    # set the plot range to vtk data\n",
    "    for j in range(2):\n",
    "        for i in range(3):\n",
    "            ax = plt.subplot(gs[j,3*i])\n",
    "            ax.set_xlim(min(data_vtk['x1v']), max(data_vtk['x1v']))\n",
    "            ax.set_ylim(min(data_vtk['x2v']), max(data_vtk['x2v']))\n",
    "            \n",
    "    # plot the history data\n",
    "    if type(history) == dict:\n",
    "        ax = plt.subplot(gs[3,3])\n",
    "        mask = history['times'] < vtk_time\n",
    "        plt.plot(\n",
    "            history['times'][mask] * sim2phys['Time'], \n",
    "            history['ddt_internal_energy'][mask] * sim2phys['ddt_internal_energy'], 'r-')\n",
    "        mask = history['times'] == vtk_time\n",
    "        plt.scatter(\n",
    "            history['times'][mask] * sim2phys['Time'], \n",
    "            history['ddt_internal_energy'][mask] * sim2phys['ddt_internal_energy'], color='r', s=8)\n",
    "        mask = history['times'] > vtk_time\n",
    "        plt.plot(\n",
    "            history['times'][mask] * sim2phys['Time'], \n",
    "            history['ddt_internal_energy'][mask] * sim2phys['ddt_internal_energy'], 'r:')\n",
    "        plt.ylabel('$\\dot{U}_{\\\\rm avg}$ [erg $/$ (cm$^3$ s)]')\n",
    "        plt.xlabel('Time [sec]')\n",
    "        ax.spines['left'].set_color('r')\n",
    "        ax.tick_params(axis='y', which='both', colors='r')\n",
    "        ax.yaxis.label.set_color('r')\n",
    "        ax2 = plt.twinx()\n",
    "        mask = history['times'] < vtk_time\n",
    "        plt.plot(\n",
    "            history['times'][mask] * sim2phys['Time'],\n",
    "            history['flux_density'][mask] * sim2phys['flux_density'], 'b-')\n",
    "        mask = history['times'] == vtk_time\n",
    "        plt.scatter(\n",
    "            history['times'][mask] * sim2phys['Time'],\n",
    "            history['flux_density'][mask] * sim2phys['flux_density'], color='b', s=8)\n",
    "        mask = history['times'] > vtk_time\n",
    "        plt.plot(\n",
    "            history['times'][mask] * sim2phys['Time'],\n",
    "            history['flux_density'][mask] * sim2phys['flux_density'], 'b:')\n",
    "        plt.ylabel('Avg. syn. flux / dS [${\\\\rm erg}/({\\\\rm cm}^2{\\\\rm s}) / {\\\\rm cm}^2$]')\n",
    "        ax2.spines['right'].set_color('b')\n",
    "        ax2.tick_params(axis='y', which='both', colors='b')\n",
    "        ax2.yaxis.label.set_color('b')\n",
    "\n",
    "    # clean up\n",
    "    del data_vtk\n",
    "\n",
    "    if verbose:\n",
    "        print('     done.', flush=True)\n",
    "\n",
    "    #plt.tight_layout()\n",
    "    if save:\n",
    "        plt.savefig(outfile, format='png', dpi=300, facecolor='w')\n",
    "    else:\n",
    "        plt.show()\n",
    "    plt.close()\n",
    "    \n",
    "    print(' - frame done.', flush=True)\n",
    "    \n",
    "    #return data_vtk"
   ]
  },
  {
   "cell_type": "code",
   "execution_count": 14,
   "metadata": {},
   "outputs": [
    {
     "name": "stderr",
     "output_type": "stream",
     "text": [
      "100%|██████████| 201/201 [00:19<00:00, 10.27it/s]\n"
     ]
    }
   ],
   "source": [
    "history = precalc_history(vtk_filenames, out_dt=out_dt_vtk)\n",
    "force_recalc = False # recalc done"
   ]
  },
  {
   "cell_type": "code",
   "execution_count": 15,
   "metadata": {},
   "outputs": [
    {
     "name": "stdout",
     "output_type": "stream",
     "text": [
      "Processing vtk no 0, vtk_time = 0.00e+00..\n",
      "Processing vtk no 61, vtk_time = 6.10e+00..\n",
      "Processing vtk no 121, vtk_time = 1.21e+01..\n",
      "Processing vtk no 101, vtk_time = 1.01e+01..\n",
      "Processing vtk no 21, vtk_time = 2.10e+00..\n",
      "Processing vtk no 41, vtk_time = 4.10e+00..\n",
      "Processing vtk no 81, vtk_time = 8.10e+00..\n",
      "Processing vtk no 181, vtk_time = 1.81e+01..\n",
      "Processing vtk no 141, vtk_time = 1.41e+01..\n",
      "Processing vtk no 161, vtk_time = 1.61e+01..\n"
     ]
    },
    {
     "name": "stderr",
     "output_type": "stream",
     "text": [
      "/home/ppjanka/anaconda3/envs/intsh2/lib/python3.6/site-packages/ipykernel_launcher.py:137: MatplotlibDeprecationWarning: Adding an axes using the same arguments as a previous axes currently reuses the earlier instance.  In a future version, a new instance will always be created and returned.  Meanwhile, this warning can be suppressed, and the future behavior ensured, by passing a unique label to each axes instance.\n",
      "/home/ppjanka/anaconda3/envs/intsh2/lib/python3.6/site-packages/ipykernel_launcher.py:137: MatplotlibDeprecationWarning: Adding an axes using the same arguments as a previous axes currently reuses the earlier instance.  In a future version, a new instance will always be created and returned.  Meanwhile, this warning can be suppressed, and the future behavior ensured, by passing a unique label to each axes instance.\n",
      "/home/ppjanka/anaconda3/envs/intsh2/lib/python3.6/site-packages/ipykernel_launcher.py:137: MatplotlibDeprecationWarning: Adding an axes using the same arguments as a previous axes currently reuses the earlier instance.  In a future version, a new instance will always be created and returned.  Meanwhile, this warning can be suppressed, and the future behavior ensured, by passing a unique label to each axes instance.\n",
      "/home/ppjanka/anaconda3/envs/intsh2/lib/python3.6/site-packages/ipykernel_launcher.py:137: MatplotlibDeprecationWarning: Adding an axes using the same arguments as a previous axes currently reuses the earlier instance.  In a future version, a new instance will always be created and returned.  Meanwhile, this warning can be suppressed, and the future behavior ensured, by passing a unique label to each axes instance.\n",
      "/home/ppjanka/anaconda3/envs/intsh2/lib/python3.6/site-packages/ipykernel_launcher.py:137: MatplotlibDeprecationWarning: Adding an axes using the same arguments as a previous axes currently reuses the earlier instance.  In a future version, a new instance will always be created and returned.  Meanwhile, this warning can be suppressed, and the future behavior ensured, by passing a unique label to each axes instance.\n",
      "/home/ppjanka/anaconda3/envs/intsh2/lib/python3.6/site-packages/ipykernel_launcher.py:137: MatplotlibDeprecationWarning: Adding an axes using the same arguments as a previous axes currently reuses the earlier instance.  In a future version, a new instance will always be created and returned.  Meanwhile, this warning can be suppressed, and the future behavior ensured, by passing a unique label to each axes instance.\n",
      "/home/ppjanka/anaconda3/envs/intsh2/lib/python3.6/site-packages/ipykernel_launcher.py:137: MatplotlibDeprecationWarning: Adding an axes using the same arguments as a previous axes currently reuses the earlier instance.  In a future version, a new instance will always be created and returned.  Meanwhile, this warning can be suppressed, and the future behavior ensured, by passing a unique label to each axes instance.\n",
      "/home/ppjanka/anaconda3/envs/intsh2/lib/python3.6/site-packages/ipykernel_launcher.py:137: MatplotlibDeprecationWarning: Adding an axes using the same arguments as a previous axes currently reuses the earlier instance.  In a future version, a new instance will always be created and returned.  Meanwhile, this warning can be suppressed, and the future behavior ensured, by passing a unique label to each axes instance.\n",
      "/home/ppjanka/anaconda3/envs/intsh2/lib/python3.6/site-packages/ipykernel_launcher.py:137: MatplotlibDeprecationWarning: Adding an axes using the same arguments as a previous axes currently reuses the earlier instance.  In a future version, a new instance will always be created and returned.  Meanwhile, this warning can be suppressed, and the future behavior ensured, by passing a unique label to each axes instance.\n",
      "/home/ppjanka/anaconda3/envs/intsh2/lib/python3.6/site-packages/ipykernel_launcher.py:137: MatplotlibDeprecationWarning: Adding an axes using the same arguments as a previous axes currently reuses the earlier instance.  In a future version, a new instance will always be created and returned.  Meanwhile, this warning can be suppressed, and the future behavior ensured, by passing a unique label to each axes instance.\n"
     ]
    },
    {
     "name": "stdout",
     "output_type": "stream",
     "text": [
      " - frame done.\n",
      "Processing vtk no 22, vtk_time = 2.20e+00..\n",
      " - frame done.\n",
      "Processing vtk no 42, vtk_time = 4.20e+00..\n"
     ]
    },
    {
     "name": "stderr",
     "output_type": "stream",
     "text": [
      "/home/ppjanka/anaconda3/envs/intsh2/lib/python3.6/site-packages/ipykernel_launcher.py:137: MatplotlibDeprecationWarning: Adding an axes using the same arguments as a previous axes currently reuses the earlier instance.  In a future version, a new instance will always be created and returned.  Meanwhile, this warning can be suppressed, and the future behavior ensured, by passing a unique label to each axes instance.\n",
      "/home/ppjanka/anaconda3/envs/intsh2/lib/python3.6/site-packages/ipykernel_launcher.py:137: MatplotlibDeprecationWarning: Adding an axes using the same arguments as a previous axes currently reuses the earlier instance.  In a future version, a new instance will always be created and returned.  Meanwhile, this warning can be suppressed, and the future behavior ensured, by passing a unique label to each axes instance.\n"
     ]
    },
    {
     "name": "stdout",
     "output_type": "stream",
     "text": [
      " - frame done.\n",
      "Processing vtk no 102, vtk_time = 1.02e+01..\n",
      " - frame done.\n",
      "Processing vtk no 1, vtk_time = 1.00e-01..\n",
      " - frame done.\n",
      "Processing vtk no 62, vtk_time = 6.20e+00..\n",
      " - frame done.\n",
      "Processing vtk no 142, vtk_time = 1.42e+01..\n",
      " - frame done.\n",
      "Processing vtk no 82, vtk_time = 8.20e+00..\n",
      " - frame done.\n",
      "Processing vtk no 182, vtk_time = 1.82e+01..\n"
     ]
    },
    {
     "name": "stderr",
     "output_type": "stream",
     "text": [
      "/home/ppjanka/anaconda3/envs/intsh2/lib/python3.6/site-packages/ipykernel_launcher.py:137: MatplotlibDeprecationWarning: Adding an axes using the same arguments as a previous axes currently reuses the earlier instance.  In a future version, a new instance will always be created and returned.  Meanwhile, this warning can be suppressed, and the future behavior ensured, by passing a unique label to each axes instance.\n"
     ]
    },
    {
     "name": "stdout",
     "output_type": "stream",
     "text": [
      " - frame done.\n",
      "Processing vtk no 122, vtk_time = 1.22e+01..\n",
      " - frame done.\n",
      "Processing vtk no 162, vtk_time = 1.62e+01..\n"
     ]
    },
    {
     "name": "stderr",
     "output_type": "stream",
     "text": [
      "/home/ppjanka/anaconda3/envs/intsh2/lib/python3.6/site-packages/ipykernel_launcher.py:137: MatplotlibDeprecationWarning: Adding an axes using the same arguments as a previous axes currently reuses the earlier instance.  In a future version, a new instance will always be created and returned.  Meanwhile, this warning can be suppressed, and the future behavior ensured, by passing a unique label to each axes instance.\n",
      "/home/ppjanka/anaconda3/envs/intsh2/lib/python3.6/site-packages/ipykernel_launcher.py:137: MatplotlibDeprecationWarning: Adding an axes using the same arguments as a previous axes currently reuses the earlier instance.  In a future version, a new instance will always be created and returned.  Meanwhile, this warning can be suppressed, and the future behavior ensured, by passing a unique label to each axes instance.\n",
      "/home/ppjanka/anaconda3/envs/intsh2/lib/python3.6/site-packages/ipykernel_launcher.py:137: MatplotlibDeprecationWarning: Adding an axes using the same arguments as a previous axes currently reuses the earlier instance.  In a future version, a new instance will always be created and returned.  Meanwhile, this warning can be suppressed, and the future behavior ensured, by passing a unique label to each axes instance.\n",
      "/home/ppjanka/anaconda3/envs/intsh2/lib/python3.6/site-packages/ipykernel_launcher.py:137: MatplotlibDeprecationWarning: Adding an axes using the same arguments as a previous axes currently reuses the earlier instance.  In a future version, a new instance will always be created and returned.  Meanwhile, this warning can be suppressed, and the future behavior ensured, by passing a unique label to each axes instance.\n",
      "/home/ppjanka/anaconda3/envs/intsh2/lib/python3.6/site-packages/ipykernel_launcher.py:137: MatplotlibDeprecationWarning: Adding an axes using the same arguments as a previous axes currently reuses the earlier instance.  In a future version, a new instance will always be created and returned.  Meanwhile, this warning can be suppressed, and the future behavior ensured, by passing a unique label to each axes instance.\n",
      "/home/ppjanka/anaconda3/envs/intsh2/lib/python3.6/site-packages/ipykernel_launcher.py:137: MatplotlibDeprecationWarning: Adding an axes using the same arguments as a previous axes currently reuses the earlier instance.  In a future version, a new instance will always be created and returned.  Meanwhile, this warning can be suppressed, and the future behavior ensured, by passing a unique label to each axes instance.\n",
      "/home/ppjanka/anaconda3/envs/intsh2/lib/python3.6/site-packages/ipykernel_launcher.py:137: MatplotlibDeprecationWarning: Adding an axes using the same arguments as a previous axes currently reuses the earlier instance.  In a future version, a new instance will always be created and returned.  Meanwhile, this warning can be suppressed, and the future behavior ensured, by passing a unique label to each axes instance.\n"
     ]
    },
    {
     "name": "stdout",
     "output_type": "stream",
     "text": [
      " - frame done.\n",
      "Processing vtk no 43, vtk_time = 4.30e+00..\n",
      " - frame done.\n",
      "Processing vtk no 23, vtk_time = 2.30e+00..\n",
      " - frame done.\n",
      "Processing vtk no 163, vtk_time = 1.63e+01..\n"
     ]
    },
    {
     "name": "stderr",
     "output_type": "stream",
     "text": [
      "/home/ppjanka/anaconda3/envs/intsh2/lib/python3.6/site-packages/ipykernel_launcher.py:137: MatplotlibDeprecationWarning: Adding an axes using the same arguments as a previous axes currently reuses the earlier instance.  In a future version, a new instance will always be created and returned.  Meanwhile, this warning can be suppressed, and the future behavior ensured, by passing a unique label to each axes instance.\n"
     ]
    },
    {
     "name": "stdout",
     "output_type": "stream",
     "text": [
      " - frame done.\n",
      "Processing vtk no 143, vtk_time = 1.43e+01..\n",
      " - frame done.\n",
      "Processing vtk no 2, vtk_time = 2.00e-01..\n"
     ]
    },
    {
     "name": "stderr",
     "output_type": "stream",
     "text": [
      "/home/ppjanka/anaconda3/envs/intsh2/lib/python3.6/site-packages/ipykernel_launcher.py:137: MatplotlibDeprecationWarning: Adding an axes using the same arguments as a previous axes currently reuses the earlier instance.  In a future version, a new instance will always be created and returned.  Meanwhile, this warning can be suppressed, and the future behavior ensured, by passing a unique label to each axes instance.\n",
      "/home/ppjanka/anaconda3/envs/intsh2/lib/python3.6/site-packages/ipykernel_launcher.py:137: MatplotlibDeprecationWarning: Adding an axes using the same arguments as a previous axes currently reuses the earlier instance.  In a future version, a new instance will always be created and returned.  Meanwhile, this warning can be suppressed, and the future behavior ensured, by passing a unique label to each axes instance.\n"
     ]
    },
    {
     "name": "stdout",
     "output_type": "stream",
     "text": [
      " - frame done.\n",
      "Processing vtk no 103, vtk_time = 1.03e+01..\n"
     ]
    },
    {
     "name": "stderr",
     "output_type": "stream",
     "text": [
      "/home/ppjanka/anaconda3/envs/intsh2/lib/python3.6/site-packages/ipykernel_launcher.py:137: MatplotlibDeprecationWarning: Adding an axes using the same arguments as a previous axes currently reuses the earlier instance.  In a future version, a new instance will always be created and returned.  Meanwhile, this warning can be suppressed, and the future behavior ensured, by passing a unique label to each axes instance.\n"
     ]
    },
    {
     "name": "stdout",
     "output_type": "stream",
     "text": [
      " - frame done.\n",
      "Processing vtk no 63, vtk_time = 6.30e+00..\n"
     ]
    },
    {
     "name": "stderr",
     "output_type": "stream",
     "text": [
      "/home/ppjanka/anaconda3/envs/intsh2/lib/python3.6/site-packages/ipykernel_launcher.py:137: MatplotlibDeprecationWarning: Adding an axes using the same arguments as a previous axes currently reuses the earlier instance.  In a future version, a new instance will always be created and returned.  Meanwhile, this warning can be suppressed, and the future behavior ensured, by passing a unique label to each axes instance.\n"
     ]
    },
    {
     "name": "stdout",
     "output_type": "stream",
     "text": [
      " - frame done.\n",
      "Processing vtk no 83, vtk_time = 8.30e+00..\n",
      " - frame done.\n",
      "Processing vtk no 183, vtk_time = 1.83e+01..\n"
     ]
    },
    {
     "name": "stderr",
     "output_type": "stream",
     "text": [
      "/home/ppjanka/anaconda3/envs/intsh2/lib/python3.6/site-packages/ipykernel_launcher.py:137: MatplotlibDeprecationWarning: Adding an axes using the same arguments as a previous axes currently reuses the earlier instance.  In a future version, a new instance will always be created and returned.  Meanwhile, this warning can be suppressed, and the future behavior ensured, by passing a unique label to each axes instance.\n"
     ]
    },
    {
     "name": "stdout",
     "output_type": "stream",
     "text": [
      " - frame done.\n",
      "Processing vtk no 123, vtk_time = 1.23e+01..\n"
     ]
    },
    {
     "name": "stderr",
     "output_type": "stream",
     "text": [
      "/home/ppjanka/anaconda3/envs/intsh2/lib/python3.6/site-packages/ipykernel_launcher.py:137: MatplotlibDeprecationWarning: Adding an axes using the same arguments as a previous axes currently reuses the earlier instance.  In a future version, a new instance will always be created and returned.  Meanwhile, this warning can be suppressed, and the future behavior ensured, by passing a unique label to each axes instance.\n",
      "/home/ppjanka/anaconda3/envs/intsh2/lib/python3.6/site-packages/ipykernel_launcher.py:137: MatplotlibDeprecationWarning: Adding an axes using the same arguments as a previous axes currently reuses the earlier instance.  In a future version, a new instance will always be created and returned.  Meanwhile, this warning can be suppressed, and the future behavior ensured, by passing a unique label to each axes instance.\n",
      "/home/ppjanka/anaconda3/envs/intsh2/lib/python3.6/site-packages/ipykernel_launcher.py:137: MatplotlibDeprecationWarning: Adding an axes using the same arguments as a previous axes currently reuses the earlier instance.  In a future version, a new instance will always be created and returned.  Meanwhile, this warning can be suppressed, and the future behavior ensured, by passing a unique label to each axes instance.\n",
      "/home/ppjanka/anaconda3/envs/intsh2/lib/python3.6/site-packages/ipykernel_launcher.py:137: MatplotlibDeprecationWarning: Adding an axes using the same arguments as a previous axes currently reuses the earlier instance.  In a future version, a new instance will always be created and returned.  Meanwhile, this warning can be suppressed, and the future behavior ensured, by passing a unique label to each axes instance.\n"
     ]
    },
    {
     "name": "stdout",
     "output_type": "stream",
     "text": [
      " - frame done.\n",
      "Processing vtk no 44, vtk_time = 4.40e+00..\n",
      " - frame done.\n",
      "Processing vtk no 104, vtk_time = 1.04e+01..\n",
      " - frame done.\n",
      "Processing vtk no 24, vtk_time = 2.40e+00..\n",
      " - frame done.\n",
      "Processing vtk no 164, vtk_time = 1.64e+01..\n",
      " - frame done.\n",
      "Processing vtk no 144, vtk_time = 1.44e+01..\n"
     ]
    },
    {
     "name": "stderr",
     "output_type": "stream",
     "text": [
      "/home/ppjanka/anaconda3/envs/intsh2/lib/python3.6/site-packages/ipykernel_launcher.py:137: MatplotlibDeprecationWarning: Adding an axes using the same arguments as a previous axes currently reuses the earlier instance.  In a future version, a new instance will always be created and returned.  Meanwhile, this warning can be suppressed, and the future behavior ensured, by passing a unique label to each axes instance.\n",
      "/home/ppjanka/anaconda3/envs/intsh2/lib/python3.6/site-packages/ipykernel_launcher.py:137: MatplotlibDeprecationWarning: Adding an axes using the same arguments as a previous axes currently reuses the earlier instance.  In a future version, a new instance will always be created and returned.  Meanwhile, this warning can be suppressed, and the future behavior ensured, by passing a unique label to each axes instance.\n"
     ]
    },
    {
     "name": "stdout",
     "output_type": "stream",
     "text": [
      " - frame done.\n",
      "Processing vtk no 3, vtk_time = 3.00e-01..\n"
     ]
    },
    {
     "name": "stderr",
     "output_type": "stream",
     "text": [
      "/home/ppjanka/anaconda3/envs/intsh2/lib/python3.6/site-packages/ipykernel_launcher.py:137: MatplotlibDeprecationWarning: Adding an axes using the same arguments as a previous axes currently reuses the earlier instance.  In a future version, a new instance will always be created and returned.  Meanwhile, this warning can be suppressed, and the future behavior ensured, by passing a unique label to each axes instance.\n",
      "/home/ppjanka/anaconda3/envs/intsh2/lib/python3.6/site-packages/ipykernel_launcher.py:137: MatplotlibDeprecationWarning: Adding an axes using the same arguments as a previous axes currently reuses the earlier instance.  In a future version, a new instance will always be created and returned.  Meanwhile, this warning can be suppressed, and the future behavior ensured, by passing a unique label to each axes instance.\n",
      "/home/ppjanka/anaconda3/envs/intsh2/lib/python3.6/site-packages/ipykernel_launcher.py:137: MatplotlibDeprecationWarning: Adding an axes using the same arguments as a previous axes currently reuses the earlier instance.  In a future version, a new instance will always be created and returned.  Meanwhile, this warning can be suppressed, and the future behavior ensured, by passing a unique label to each axes instance.\n"
     ]
    },
    {
     "name": "stdout",
     "output_type": "stream",
     "text": [
      " - frame done.\n",
      "Processing vtk no 124, vtk_time = 1.24e+01..\n",
      " - frame done.\n",
      "Processing vtk no 84, vtk_time = 8.40e+00..\n"
     ]
    },
    {
     "name": "stderr",
     "output_type": "stream",
     "text": [
      "/home/ppjanka/anaconda3/envs/intsh2/lib/python3.6/site-packages/ipykernel_launcher.py:137: MatplotlibDeprecationWarning: Adding an axes using the same arguments as a previous axes currently reuses the earlier instance.  In a future version, a new instance will always be created and returned.  Meanwhile, this warning can be suppressed, and the future behavior ensured, by passing a unique label to each axes instance.\n"
     ]
    },
    {
     "name": "stdout",
     "output_type": "stream",
     "text": [
      " - frame done.\n",
      "Processing vtk no 64, vtk_time = 6.40e+00..\n",
      " - frame done.\n",
      "Processing vtk no 184, vtk_time = 1.84e+01..\n"
     ]
    },
    {
     "name": "stderr",
     "output_type": "stream",
     "text": [
      "/home/ppjanka/anaconda3/envs/intsh2/lib/python3.6/site-packages/ipykernel_launcher.py:137: MatplotlibDeprecationWarning: Adding an axes using the same arguments as a previous axes currently reuses the earlier instance.  In a future version, a new instance will always be created and returned.  Meanwhile, this warning can be suppressed, and the future behavior ensured, by passing a unique label to each axes instance.\n",
      "/home/ppjanka/anaconda3/envs/intsh2/lib/python3.6/site-packages/ipykernel_launcher.py:137: MatplotlibDeprecationWarning: Adding an axes using the same arguments as a previous axes currently reuses the earlier instance.  In a future version, a new instance will always be created and returned.  Meanwhile, this warning can be suppressed, and the future behavior ensured, by passing a unique label to each axes instance.\n",
      "/home/ppjanka/anaconda3/envs/intsh2/lib/python3.6/site-packages/ipykernel_launcher.py:137: MatplotlibDeprecationWarning: Adding an axes using the same arguments as a previous axes currently reuses the earlier instance.  In a future version, a new instance will always be created and returned.  Meanwhile, this warning can be suppressed, and the future behavior ensured, by passing a unique label to each axes instance.\n",
      "/home/ppjanka/anaconda3/envs/intsh2/lib/python3.6/site-packages/ipykernel_launcher.py:137: MatplotlibDeprecationWarning: Adding an axes using the same arguments as a previous axes currently reuses the earlier instance.  In a future version, a new instance will always be created and returned.  Meanwhile, this warning can be suppressed, and the future behavior ensured, by passing a unique label to each axes instance.\n"
     ]
    },
    {
     "name": "stdout",
     "output_type": "stream",
     "text": [
      " - frame done.\n",
      "Processing vtk no 25, vtk_time = 2.50e+00..\n",
      " - frame done.\n",
      "Processing vtk no 105, vtk_time = 1.05e+01..\n",
      " - frame done.\n",
      "Processing vtk no 4, vtk_time = 4.00e-01..\n"
     ]
    },
    {
     "name": "stderr",
     "output_type": "stream",
     "text": [
      "/home/ppjanka/anaconda3/envs/intsh2/lib/python3.6/site-packages/ipykernel_launcher.py:137: MatplotlibDeprecationWarning: Adding an axes using the same arguments as a previous axes currently reuses the earlier instance.  In a future version, a new instance will always be created and returned.  Meanwhile, this warning can be suppressed, and the future behavior ensured, by passing a unique label to each axes instance.\n"
     ]
    },
    {
     "name": "stdout",
     "output_type": "stream",
     "text": [
      " - frame done.\n",
      "Processing vtk no 45, vtk_time = 4.50e+00..\n",
      " - frame done.\n",
      "Processing vtk no 165, vtk_time = 1.65e+01..\n"
     ]
    },
    {
     "name": "stderr",
     "output_type": "stream",
     "text": [
      "/home/ppjanka/anaconda3/envs/intsh2/lib/python3.6/site-packages/ipykernel_launcher.py:137: MatplotlibDeprecationWarning: Adding an axes using the same arguments as a previous axes currently reuses the earlier instance.  In a future version, a new instance will always be created and returned.  Meanwhile, this warning can be suppressed, and the future behavior ensured, by passing a unique label to each axes instance.\n",
      "/home/ppjanka/anaconda3/envs/intsh2/lib/python3.6/site-packages/ipykernel_launcher.py:137: MatplotlibDeprecationWarning: Adding an axes using the same arguments as a previous axes currently reuses the earlier instance.  In a future version, a new instance will always be created and returned.  Meanwhile, this warning can be suppressed, and the future behavior ensured, by passing a unique label to each axes instance.\n"
     ]
    },
    {
     "name": "stdout",
     "output_type": "stream",
     "text": [
      " - frame done.\n",
      "Processing vtk no 145, vtk_time = 1.45e+01..\n"
     ]
    },
    {
     "name": "stderr",
     "output_type": "stream",
     "text": [
      "/home/ppjanka/anaconda3/envs/intsh2/lib/python3.6/site-packages/ipykernel_launcher.py:137: MatplotlibDeprecationWarning: Adding an axes using the same arguments as a previous axes currently reuses the earlier instance.  In a future version, a new instance will always be created and returned.  Meanwhile, this warning can be suppressed, and the future behavior ensured, by passing a unique label to each axes instance.\n"
     ]
    },
    {
     "name": "stdout",
     "output_type": "stream",
     "text": [
      " - frame done.\n",
      "Processing vtk no 65, vtk_time = 6.50e+00..\n"
     ]
    },
    {
     "name": "stderr",
     "output_type": "stream",
     "text": [
      "/home/ppjanka/anaconda3/envs/intsh2/lib/python3.6/site-packages/ipykernel_launcher.py:137: MatplotlibDeprecationWarning: Adding an axes using the same arguments as a previous axes currently reuses the earlier instance.  In a future version, a new instance will always be created and returned.  Meanwhile, this warning can be suppressed, and the future behavior ensured, by passing a unique label to each axes instance.\n",
      "/home/ppjanka/anaconda3/envs/intsh2/lib/python3.6/site-packages/ipykernel_launcher.py:137: MatplotlibDeprecationWarning: Adding an axes using the same arguments as a previous axes currently reuses the earlier instance.  In a future version, a new instance will always be created and returned.  Meanwhile, this warning can be suppressed, and the future behavior ensured, by passing a unique label to each axes instance.\n"
     ]
    },
    {
     "name": "stdout",
     "output_type": "stream",
     "text": [
      " - frame done.\n",
      "Processing vtk no 125, vtk_time = 1.25e+01..\n",
      " - frame done.\n",
      "Processing vtk no 85, vtk_time = 8.50e+00..\n",
      " - frame done.\n",
      "Processing vtk no 185, vtk_time = 1.85e+01..\n"
     ]
    },
    {
     "name": "stderr",
     "output_type": "stream",
     "text": [
      "/home/ppjanka/anaconda3/envs/intsh2/lib/python3.6/site-packages/ipykernel_launcher.py:137: MatplotlibDeprecationWarning: Adding an axes using the same arguments as a previous axes currently reuses the earlier instance.  In a future version, a new instance will always be created and returned.  Meanwhile, this warning can be suppressed, and the future behavior ensured, by passing a unique label to each axes instance.\n",
      "/home/ppjanka/anaconda3/envs/intsh2/lib/python3.6/site-packages/ipykernel_launcher.py:137: MatplotlibDeprecationWarning: Adding an axes using the same arguments as a previous axes currently reuses the earlier instance.  In a future version, a new instance will always be created and returned.  Meanwhile, this warning can be suppressed, and the future behavior ensured, by passing a unique label to each axes instance.\n",
      "/home/ppjanka/anaconda3/envs/intsh2/lib/python3.6/site-packages/ipykernel_launcher.py:137: MatplotlibDeprecationWarning: Adding an axes using the same arguments as a previous axes currently reuses the earlier instance.  In a future version, a new instance will always be created and returned.  Meanwhile, this warning can be suppressed, and the future behavior ensured, by passing a unique label to each axes instance.\n",
      "/home/ppjanka/anaconda3/envs/intsh2/lib/python3.6/site-packages/ipykernel_launcher.py:137: MatplotlibDeprecationWarning: Adding an axes using the same arguments as a previous axes currently reuses the earlier instance.  In a future version, a new instance will always be created and returned.  Meanwhile, this warning can be suppressed, and the future behavior ensured, by passing a unique label to each axes instance.\n"
     ]
    },
    {
     "name": "stdout",
     "output_type": "stream",
     "text": [
      " - frame done.\n",
      "Processing vtk no 26, vtk_time = 2.60e+00..\n",
      " - frame done.\n",
      "Processing vtk no 106, vtk_time = 1.06e+01..\n",
      " - frame done.\n",
      "Processing vtk no 5, vtk_time = 5.00e-01..\n"
     ]
    },
    {
     "name": "stderr",
     "output_type": "stream",
     "text": [
      "/home/ppjanka/anaconda3/envs/intsh2/lib/python3.6/site-packages/ipykernel_launcher.py:137: MatplotlibDeprecationWarning: Adding an axes using the same arguments as a previous axes currently reuses the earlier instance.  In a future version, a new instance will always be created and returned.  Meanwhile, this warning can be suppressed, and the future behavior ensured, by passing a unique label to each axes instance.\n"
     ]
    },
    {
     "name": "stdout",
     "output_type": "stream",
     "text": [
      " - frame done.\n",
      "Processing vtk no 46, vtk_time = 4.60e+00..\n",
      " - frame done.\n",
      "Processing vtk no 146, vtk_time = 1.46e+01..\n"
     ]
    },
    {
     "name": "stderr",
     "output_type": "stream",
     "text": [
      "/home/ppjanka/anaconda3/envs/intsh2/lib/python3.6/site-packages/ipykernel_launcher.py:137: MatplotlibDeprecationWarning: Adding an axes using the same arguments as a previous axes currently reuses the earlier instance.  In a future version, a new instance will always be created and returned.  Meanwhile, this warning can be suppressed, and the future behavior ensured, by passing a unique label to each axes instance.\n",
      "/home/ppjanka/anaconda3/envs/intsh2/lib/python3.6/site-packages/ipykernel_launcher.py:137: MatplotlibDeprecationWarning: Adding an axes using the same arguments as a previous axes currently reuses the earlier instance.  In a future version, a new instance will always be created and returned.  Meanwhile, this warning can be suppressed, and the future behavior ensured, by passing a unique label to each axes instance.\n"
     ]
    },
    {
     "name": "stdout",
     "output_type": "stream",
     "text": [
      " - frame done.\n",
      "Processing vtk no 166, vtk_time = 1.66e+01..\n",
      " - frame done.\n",
      "Processing vtk no 66, vtk_time = 6.60e+00..\n"
     ]
    },
    {
     "name": "stderr",
     "output_type": "stream",
     "text": [
      "/home/ppjanka/anaconda3/envs/intsh2/lib/python3.6/site-packages/ipykernel_launcher.py:137: MatplotlibDeprecationWarning: Adding an axes using the same arguments as a previous axes currently reuses the earlier instance.  In a future version, a new instance will always be created and returned.  Meanwhile, this warning can be suppressed, and the future behavior ensured, by passing a unique label to each axes instance.\n",
      "/home/ppjanka/anaconda3/envs/intsh2/lib/python3.6/site-packages/ipykernel_launcher.py:137: MatplotlibDeprecationWarning: Adding an axes using the same arguments as a previous axes currently reuses the earlier instance.  In a future version, a new instance will always be created and returned.  Meanwhile, this warning can be suppressed, and the future behavior ensured, by passing a unique label to each axes instance.\n"
     ]
    },
    {
     "name": "stdout",
     "output_type": "stream",
     "text": [
      " - frame done.\n"
     ]
    },
    {
     "name": "stderr",
     "output_type": "stream",
     "text": [
      "/home/ppjanka/anaconda3/envs/intsh2/lib/python3.6/site-packages/ipykernel_launcher.py:137: MatplotlibDeprecationWarning: Adding an axes using the same arguments as a previous axes currently reuses the earlier instance.  In a future version, a new instance will always be created and returned.  Meanwhile, this warning can be suppressed, and the future behavior ensured, by passing a unique label to each axes instance.\n"
     ]
    },
    {
     "name": "stdout",
     "output_type": "stream",
     "text": [
      "Processing vtk no 86, vtk_time = 8.60e+00..\n",
      " - frame done.\n",
      "Processing vtk no 186, vtk_time = 1.86e+01..\n"
     ]
    },
    {
     "name": "stderr",
     "output_type": "stream",
     "text": [
      "/home/ppjanka/anaconda3/envs/intsh2/lib/python3.6/site-packages/ipykernel_launcher.py:137: MatplotlibDeprecationWarning: Adding an axes using the same arguments as a previous axes currently reuses the earlier instance.  In a future version, a new instance will always be created and returned.  Meanwhile, this warning can be suppressed, and the future behavior ensured, by passing a unique label to each axes instance.\n"
     ]
    },
    {
     "name": "stdout",
     "output_type": "stream",
     "text": [
      " - frame done.\n",
      "Processing vtk no 126, vtk_time = 1.26e+01..\n"
     ]
    },
    {
     "name": "stderr",
     "output_type": "stream",
     "text": [
      "/home/ppjanka/anaconda3/envs/intsh2/lib/python3.6/site-packages/ipykernel_launcher.py:137: MatplotlibDeprecationWarning: Adding an axes using the same arguments as a previous axes currently reuses the earlier instance.  In a future version, a new instance will always be created and returned.  Meanwhile, this warning can be suppressed, and the future behavior ensured, by passing a unique label to each axes instance.\n",
      "/home/ppjanka/anaconda3/envs/intsh2/lib/python3.6/site-packages/ipykernel_launcher.py:137: MatplotlibDeprecationWarning: Adding an axes using the same arguments as a previous axes currently reuses the earlier instance.  In a future version, a new instance will always be created and returned.  Meanwhile, this warning can be suppressed, and the future behavior ensured, by passing a unique label to each axes instance.\n",
      "/home/ppjanka/anaconda3/envs/intsh2/lib/python3.6/site-packages/ipykernel_launcher.py:137: MatplotlibDeprecationWarning: Adding an axes using the same arguments as a previous axes currently reuses the earlier instance.  In a future version, a new instance will always be created and returned.  Meanwhile, this warning can be suppressed, and the future behavior ensured, by passing a unique label to each axes instance.\n"
     ]
    },
    {
     "name": "stdout",
     "output_type": "stream",
     "text": [
      " - frame done.\n",
      "Processing vtk no 6, vtk_time = 6.00e-01..\n",
      " - frame done.\n",
      "Processing vtk no 27, vtk_time = 2.70e+00..\n",
      " - frame done.\n",
      "Processing vtk no 107, vtk_time = 1.07e+01..\n"
     ]
    },
    {
     "name": "stderr",
     "output_type": "stream",
     "text": [
      "/home/ppjanka/anaconda3/envs/intsh2/lib/python3.6/site-packages/ipykernel_launcher.py:137: MatplotlibDeprecationWarning: Adding an axes using the same arguments as a previous axes currently reuses the earlier instance.  In a future version, a new instance will always be created and returned.  Meanwhile, this warning can be suppressed, and the future behavior ensured, by passing a unique label to each axes instance.\n",
      "/home/ppjanka/anaconda3/envs/intsh2/lib/python3.6/site-packages/ipykernel_launcher.py:137: MatplotlibDeprecationWarning: Adding an axes using the same arguments as a previous axes currently reuses the earlier instance.  In a future version, a new instance will always be created and returned.  Meanwhile, this warning can be suppressed, and the future behavior ensured, by passing a unique label to each axes instance.\n",
      "/home/ppjanka/anaconda3/envs/intsh2/lib/python3.6/site-packages/ipykernel_launcher.py:137: MatplotlibDeprecationWarning: Adding an axes using the same arguments as a previous axes currently reuses the earlier instance.  In a future version, a new instance will always be created and returned.  Meanwhile, this warning can be suppressed, and the future behavior ensured, by passing a unique label to each axes instance.\n"
     ]
    },
    {
     "name": "stdout",
     "output_type": "stream",
     "text": [
      " - frame done.\n",
      "Processing vtk no 47, vtk_time = 4.70e+00..\n",
      " - frame done.\n",
      "Processing vtk no 147, vtk_time = 1.47e+01..\n",
      " - frame done.\n",
      "Processing vtk no 127, vtk_time = 1.27e+01..\n",
      " - frame done.\n",
      "Processing vtk no 167, vtk_time = 1.67e+01..\n",
      " - frame done.\n",
      "Processing vtk no 67, vtk_time = 6.70e+00..\n"
     ]
    },
    {
     "name": "stderr",
     "output_type": "stream",
     "text": [
      "/home/ppjanka/anaconda3/envs/intsh2/lib/python3.6/site-packages/ipykernel_launcher.py:137: MatplotlibDeprecationWarning: Adding an axes using the same arguments as a previous axes currently reuses the earlier instance.  In a future version, a new instance will always be created and returned.  Meanwhile, this warning can be suppressed, and the future behavior ensured, by passing a unique label to each axes instance.\n",
      "/home/ppjanka/anaconda3/envs/intsh2/lib/python3.6/site-packages/ipykernel_launcher.py:137: MatplotlibDeprecationWarning: Adding an axes using the same arguments as a previous axes currently reuses the earlier instance.  In a future version, a new instance will always be created and returned.  Meanwhile, this warning can be suppressed, and the future behavior ensured, by passing a unique label to each axes instance.\n",
      "/home/ppjanka/anaconda3/envs/intsh2/lib/python3.6/site-packages/ipykernel_launcher.py:137: MatplotlibDeprecationWarning: Adding an axes using the same arguments as a previous axes currently reuses the earlier instance.  In a future version, a new instance will always be created and returned.  Meanwhile, this warning can be suppressed, and the future behavior ensured, by passing a unique label to each axes instance.\n"
     ]
    },
    {
     "name": "stdout",
     "output_type": "stream",
     "text": [
      " - frame done.\n",
      "Processing vtk no 87, vtk_time = 8.70e+00..\n",
      " - frame done.\n",
      "Processing vtk no 187, vtk_time = 1.87e+01..\n"
     ]
    },
    {
     "name": "stderr",
     "output_type": "stream",
     "text": [
      "/home/ppjanka/anaconda3/envs/intsh2/lib/python3.6/site-packages/ipykernel_launcher.py:137: MatplotlibDeprecationWarning: Adding an axes using the same arguments as a previous axes currently reuses the earlier instance.  In a future version, a new instance will always be created and returned.  Meanwhile, this warning can be suppressed, and the future behavior ensured, by passing a unique label to each axes instance.\n",
      "/home/ppjanka/anaconda3/envs/intsh2/lib/python3.6/site-packages/ipykernel_launcher.py:137: MatplotlibDeprecationWarning: Adding an axes using the same arguments as a previous axes currently reuses the earlier instance.  In a future version, a new instance will always be created and returned.  Meanwhile, this warning can be suppressed, and the future behavior ensured, by passing a unique label to each axes instance.\n",
      "/home/ppjanka/anaconda3/envs/intsh2/lib/python3.6/site-packages/ipykernel_launcher.py:137: MatplotlibDeprecationWarning: Adding an axes using the same arguments as a previous axes currently reuses the earlier instance.  In a future version, a new instance will always be created and returned.  Meanwhile, this warning can be suppressed, and the future behavior ensured, by passing a unique label to each axes instance.\n",
      "/home/ppjanka/anaconda3/envs/intsh2/lib/python3.6/site-packages/ipykernel_launcher.py:137: MatplotlibDeprecationWarning: Adding an axes using the same arguments as a previous axes currently reuses the earlier instance.  In a future version, a new instance will always be created and returned.  Meanwhile, this warning can be suppressed, and the future behavior ensured, by passing a unique label to each axes instance.\n"
     ]
    },
    {
     "name": "stdout",
     "output_type": "stream",
     "text": [
      " - frame done.\n",
      "Processing vtk no 7, vtk_time = 7.00e-01..\n",
      " - frame done.\n",
      "Processing vtk no 108, vtk_time = 1.08e+01..\n",
      " - frame done.\n",
      "Processing vtk no 28, vtk_time = 2.80e+00..\n"
     ]
    },
    {
     "name": "stderr",
     "output_type": "stream",
     "text": [
      "/home/ppjanka/anaconda3/envs/intsh2/lib/python3.6/site-packages/ipykernel_launcher.py:137: MatplotlibDeprecationWarning: Adding an axes using the same arguments as a previous axes currently reuses the earlier instance.  In a future version, a new instance will always be created and returned.  Meanwhile, this warning can be suppressed, and the future behavior ensured, by passing a unique label to each axes instance.\n",
      "/home/ppjanka/anaconda3/envs/intsh2/lib/python3.6/site-packages/ipykernel_launcher.py:137: MatplotlibDeprecationWarning: Adding an axes using the same arguments as a previous axes currently reuses the earlier instance.  In a future version, a new instance will always be created and returned.  Meanwhile, this warning can be suppressed, and the future behavior ensured, by passing a unique label to each axes instance.\n",
      "/home/ppjanka/anaconda3/envs/intsh2/lib/python3.6/site-packages/ipykernel_launcher.py:137: MatplotlibDeprecationWarning: Adding an axes using the same arguments as a previous axes currently reuses the earlier instance.  In a future version, a new instance will always be created and returned.  Meanwhile, this warning can be suppressed, and the future behavior ensured, by passing a unique label to each axes instance.\n"
     ]
    },
    {
     "name": "stdout",
     "output_type": "stream",
     "text": [
      " - frame done.\n",
      "Processing vtk no 88, vtk_time = 8.80e+00..\n",
      " - frame done.\n",
      "Processing vtk no 48, vtk_time = 4.80e+00..\n",
      " - frame done.\n",
      "Processing vtk no 68, vtk_time = 6.80e+00..\n",
      " - frame done.\n",
      "Processing vtk no 148, vtk_time = 1.48e+01..\n"
     ]
    },
    {
     "name": "stderr",
     "output_type": "stream",
     "text": [
      "/home/ppjanka/anaconda3/envs/intsh2/lib/python3.6/site-packages/ipykernel_launcher.py:137: MatplotlibDeprecationWarning: Adding an axes using the same arguments as a previous axes currently reuses the earlier instance.  In a future version, a new instance will always be created and returned.  Meanwhile, this warning can be suppressed, and the future behavior ensured, by passing a unique label to each axes instance.\n"
     ]
    },
    {
     "name": "stdout",
     "output_type": "stream",
     "text": [
      " - frame done.\n",
      "Processing vtk no 168, vtk_time = 1.68e+01..\n",
      " - frame done.\n",
      "Processing vtk no 128, vtk_time = 1.28e+01..\n"
     ]
    },
    {
     "name": "stderr",
     "output_type": "stream",
     "text": [
      "/home/ppjanka/anaconda3/envs/intsh2/lib/python3.6/site-packages/ipykernel_launcher.py:137: MatplotlibDeprecationWarning: Adding an axes using the same arguments as a previous axes currently reuses the earlier instance.  In a future version, a new instance will always be created and returned.  Meanwhile, this warning can be suppressed, and the future behavior ensured, by passing a unique label to each axes instance.\n",
      "/home/ppjanka/anaconda3/envs/intsh2/lib/python3.6/site-packages/ipykernel_launcher.py:137: MatplotlibDeprecationWarning: Adding an axes using the same arguments as a previous axes currently reuses the earlier instance.  In a future version, a new instance will always be created and returned.  Meanwhile, this warning can be suppressed, and the future behavior ensured, by passing a unique label to each axes instance.\n",
      "/home/ppjanka/anaconda3/envs/intsh2/lib/python3.6/site-packages/ipykernel_launcher.py:137: MatplotlibDeprecationWarning: Adding an axes using the same arguments as a previous axes currently reuses the earlier instance.  In a future version, a new instance will always be created and returned.  Meanwhile, this warning can be suppressed, and the future behavior ensured, by passing a unique label to each axes instance.\n",
      "/home/ppjanka/anaconda3/envs/intsh2/lib/python3.6/site-packages/ipykernel_launcher.py:137: MatplotlibDeprecationWarning: Adding an axes using the same arguments as a previous axes currently reuses the earlier instance.  In a future version, a new instance will always be created and returned.  Meanwhile, this warning can be suppressed, and the future behavior ensured, by passing a unique label to each axes instance.\n",
      "/home/ppjanka/anaconda3/envs/intsh2/lib/python3.6/site-packages/ipykernel_launcher.py:137: MatplotlibDeprecationWarning: Adding an axes using the same arguments as a previous axes currently reuses the earlier instance.  In a future version, a new instance will always be created and returned.  Meanwhile, this warning can be suppressed, and the future behavior ensured, by passing a unique label to each axes instance.\n"
     ]
    },
    {
     "name": "stdout",
     "output_type": "stream",
     "text": [
      " - frame done.\n",
      "Processing vtk no 188, vtk_time = 1.88e+01..\n",
      " - frame done.\n",
      "Processing vtk no 109, vtk_time = 1.09e+01..\n"
     ]
    },
    {
     "name": "stderr",
     "output_type": "stream",
     "text": [
      "/home/ppjanka/anaconda3/envs/intsh2/lib/python3.6/site-packages/ipykernel_launcher.py:137: MatplotlibDeprecationWarning: Adding an axes using the same arguments as a previous axes currently reuses the earlier instance.  In a future version, a new instance will always be created and returned.  Meanwhile, this warning can be suppressed, and the future behavior ensured, by passing a unique label to each axes instance.\n"
     ]
    },
    {
     "name": "stdout",
     "output_type": "stream",
     "text": [
      " - frame done.\n",
      "Processing vtk no 8, vtk_time = 8.00e-01..\n"
     ]
    },
    {
     "name": "stderr",
     "output_type": "stream",
     "text": [
      "/home/ppjanka/anaconda3/envs/intsh2/lib/python3.6/site-packages/ipykernel_launcher.py:137: MatplotlibDeprecationWarning: Adding an axes using the same arguments as a previous axes currently reuses the earlier instance.  In a future version, a new instance will always be created and returned.  Meanwhile, this warning can be suppressed, and the future behavior ensured, by passing a unique label to each axes instance.\n"
     ]
    },
    {
     "name": "stdout",
     "output_type": "stream",
     "text": [
      " - frame done.\n",
      "Processing vtk no 29, vtk_time = 2.90e+00..\n"
     ]
    },
    {
     "name": "stderr",
     "output_type": "stream",
     "text": [
      "/home/ppjanka/anaconda3/envs/intsh2/lib/python3.6/site-packages/ipykernel_launcher.py:137: MatplotlibDeprecationWarning: Adding an axes using the same arguments as a previous axes currently reuses the earlier instance.  In a future version, a new instance will always be created and returned.  Meanwhile, this warning can be suppressed, and the future behavior ensured, by passing a unique label to each axes instance.\n"
     ]
    },
    {
     "name": "stdout",
     "output_type": "stream",
     "text": [
      " - frame done.\n",
      "Processing vtk no 49, vtk_time = 4.90e+00..\n",
      " - frame done.\n",
      "Processing vtk no 69, vtk_time = 6.90e+00..\n"
     ]
    },
    {
     "name": "stderr",
     "output_type": "stream",
     "text": [
      "/home/ppjanka/anaconda3/envs/intsh2/lib/python3.6/site-packages/ipykernel_launcher.py:137: MatplotlibDeprecationWarning: Adding an axes using the same arguments as a previous axes currently reuses the earlier instance.  In a future version, a new instance will always be created and returned.  Meanwhile, this warning can be suppressed, and the future behavior ensured, by passing a unique label to each axes instance.\n",
      "/home/ppjanka/anaconda3/envs/intsh2/lib/python3.6/site-packages/ipykernel_launcher.py:137: MatplotlibDeprecationWarning: Adding an axes using the same arguments as a previous axes currently reuses the earlier instance.  In a future version, a new instance will always be created and returned.  Meanwhile, this warning can be suppressed, and the future behavior ensured, by passing a unique label to each axes instance.\n"
     ]
    },
    {
     "name": "stdout",
     "output_type": "stream",
     "text": [
      " - frame done.\n",
      "Processing vtk no 149, vtk_time = 1.49e+01..\n",
      " - frame done.\n",
      "Processing vtk no 89, vtk_time = 8.90e+00..\n"
     ]
    },
    {
     "name": "stderr",
     "output_type": "stream",
     "text": [
      "/home/ppjanka/anaconda3/envs/intsh2/lib/python3.6/site-packages/ipykernel_launcher.py:137: MatplotlibDeprecationWarning: Adding an axes using the same arguments as a previous axes currently reuses the earlier instance.  In a future version, a new instance will always be created and returned.  Meanwhile, this warning can be suppressed, and the future behavior ensured, by passing a unique label to each axes instance.\n",
      "/home/ppjanka/anaconda3/envs/intsh2/lib/python3.6/site-packages/ipykernel_launcher.py:137: MatplotlibDeprecationWarning: Adding an axes using the same arguments as a previous axes currently reuses the earlier instance.  In a future version, a new instance will always be created and returned.  Meanwhile, this warning can be suppressed, and the future behavior ensured, by passing a unique label to each axes instance.\n"
     ]
    },
    {
     "name": "stdout",
     "output_type": "stream",
     "text": [
      " - frame done.\n",
      "Processing vtk no 169, vtk_time = 1.69e+01..\n",
      " - frame done.\n",
      "Processing vtk no 129, vtk_time = 1.29e+01..\n"
     ]
    },
    {
     "name": "stderr",
     "output_type": "stream",
     "text": [
      "/home/ppjanka/anaconda3/envs/intsh2/lib/python3.6/site-packages/ipykernel_launcher.py:137: MatplotlibDeprecationWarning: Adding an axes using the same arguments as a previous axes currently reuses the earlier instance.  In a future version, a new instance will always be created and returned.  Meanwhile, this warning can be suppressed, and the future behavior ensured, by passing a unique label to each axes instance.\n",
      "/home/ppjanka/anaconda3/envs/intsh2/lib/python3.6/site-packages/ipykernel_launcher.py:137: MatplotlibDeprecationWarning: Adding an axes using the same arguments as a previous axes currently reuses the earlier instance.  In a future version, a new instance will always be created and returned.  Meanwhile, this warning can be suppressed, and the future behavior ensured, by passing a unique label to each axes instance.\n",
      "/home/ppjanka/anaconda3/envs/intsh2/lib/python3.6/site-packages/ipykernel_launcher.py:137: MatplotlibDeprecationWarning: Adding an axes using the same arguments as a previous axes currently reuses the earlier instance.  In a future version, a new instance will always be created and returned.  Meanwhile, this warning can be suppressed, and the future behavior ensured, by passing a unique label to each axes instance.\n"
     ]
    },
    {
     "name": "stdout",
     "output_type": "stream",
     "text": [
      " - frame done.\n",
      "Processing vtk no 189, vtk_time = 1.89e+01..\n",
      " - frame done.\n",
      "Processing vtk no 9, vtk_time = 9.00e-01..\n",
      " - frame done.\n",
      "Processing vtk no 110, vtk_time = 1.10e+01..\n"
     ]
    },
    {
     "name": "stderr",
     "output_type": "stream",
     "text": [
      "/home/ppjanka/anaconda3/envs/intsh2/lib/python3.6/site-packages/ipykernel_launcher.py:137: MatplotlibDeprecationWarning: Adding an axes using the same arguments as a previous axes currently reuses the earlier instance.  In a future version, a new instance will always be created and returned.  Meanwhile, this warning can be suppressed, and the future behavior ensured, by passing a unique label to each axes instance.\n",
      "/home/ppjanka/anaconda3/envs/intsh2/lib/python3.6/site-packages/ipykernel_launcher.py:137: MatplotlibDeprecationWarning: Adding an axes using the same arguments as a previous axes currently reuses the earlier instance.  In a future version, a new instance will always be created and returned.  Meanwhile, this warning can be suppressed, and the future behavior ensured, by passing a unique label to each axes instance.\n",
      "/home/ppjanka/anaconda3/envs/intsh2/lib/python3.6/site-packages/ipykernel_launcher.py:137: MatplotlibDeprecationWarning: Adding an axes using the same arguments as a previous axes currently reuses the earlier instance.  In a future version, a new instance will always be created and returned.  Meanwhile, this warning can be suppressed, and the future behavior ensured, by passing a unique label to each axes instance.\n"
     ]
    },
    {
     "name": "stdout",
     "output_type": "stream",
     "text": [
      " - frame done.\n",
      "Processing vtk no 30, vtk_time = 3.00e+00..\n",
      " - frame done.\n",
      "Processing vtk no 70, vtk_time = 7.00e+00..\n",
      " - frame done.\n",
      "Processing vtk no 50, vtk_time = 5.00e+00..\n"
     ]
    },
    {
     "name": "stderr",
     "output_type": "stream",
     "text": [
      "/home/ppjanka/anaconda3/envs/intsh2/lib/python3.6/site-packages/ipykernel_launcher.py:137: MatplotlibDeprecationWarning: Adding an axes using the same arguments as a previous axes currently reuses the earlier instance.  In a future version, a new instance will always be created and returned.  Meanwhile, this warning can be suppressed, and the future behavior ensured, by passing a unique label to each axes instance.\n"
     ]
    },
    {
     "name": "stdout",
     "output_type": "stream",
     "text": [
      " - frame done.\n",
      "Processing vtk no 150, vtk_time = 1.50e+01..\n",
      " - frame done.\n",
      "Processing vtk no 130, vtk_time = 1.30e+01..\n"
     ]
    },
    {
     "name": "stderr",
     "output_type": "stream",
     "text": [
      "/home/ppjanka/anaconda3/envs/intsh2/lib/python3.6/site-packages/ipykernel_launcher.py:137: MatplotlibDeprecationWarning: Adding an axes using the same arguments as a previous axes currently reuses the earlier instance.  In a future version, a new instance will always be created and returned.  Meanwhile, this warning can be suppressed, and the future behavior ensured, by passing a unique label to each axes instance.\n",
      "/home/ppjanka/anaconda3/envs/intsh2/lib/python3.6/site-packages/ipykernel_launcher.py:137: MatplotlibDeprecationWarning: Adding an axes using the same arguments as a previous axes currently reuses the earlier instance.  In a future version, a new instance will always be created and returned.  Meanwhile, this warning can be suppressed, and the future behavior ensured, by passing a unique label to each axes instance.\n",
      "/home/ppjanka/anaconda3/envs/intsh2/lib/python3.6/site-packages/ipykernel_launcher.py:137: MatplotlibDeprecationWarning: Adding an axes using the same arguments as a previous axes currently reuses the earlier instance.  In a future version, a new instance will always be created and returned.  Meanwhile, this warning can be suppressed, and the future behavior ensured, by passing a unique label to each axes instance.\n"
     ]
    },
    {
     "name": "stdout",
     "output_type": "stream",
     "text": [
      " - frame done.\n",
      "Processing vtk no 90, vtk_time = 9.00e+00..\n"
     ]
    },
    {
     "name": "stderr",
     "output_type": "stream",
     "text": [
      "/home/ppjanka/anaconda3/envs/intsh2/lib/python3.6/site-packages/ipykernel_launcher.py:137: MatplotlibDeprecationWarning: Adding an axes using the same arguments as a previous axes currently reuses the earlier instance.  In a future version, a new instance will always be created and returned.  Meanwhile, this warning can be suppressed, and the future behavior ensured, by passing a unique label to each axes instance.\n"
     ]
    },
    {
     "name": "stdout",
     "output_type": "stream",
     "text": [
      " - frame done.\n",
      "Processing vtk no 170, vtk_time = 1.70e+01..\n"
     ]
    },
    {
     "name": "stderr",
     "output_type": "stream",
     "text": [
      "/home/ppjanka/anaconda3/envs/intsh2/lib/python3.6/site-packages/ipykernel_launcher.py:137: MatplotlibDeprecationWarning: Adding an axes using the same arguments as a previous axes currently reuses the earlier instance.  In a future version, a new instance will always be created and returned.  Meanwhile, this warning can be suppressed, and the future behavior ensured, by passing a unique label to each axes instance.\n",
      "/home/ppjanka/anaconda3/envs/intsh2/lib/python3.6/site-packages/ipykernel_launcher.py:137: MatplotlibDeprecationWarning: Adding an axes using the same arguments as a previous axes currently reuses the earlier instance.  In a future version, a new instance will always be created and returned.  Meanwhile, this warning can be suppressed, and the future behavior ensured, by passing a unique label to each axes instance.\n"
     ]
    },
    {
     "name": "stdout",
     "output_type": "stream",
     "text": [
      " - frame done.\n",
      "Processing vtk no 190, vtk_time = 1.90e+01..\n",
      " - frame done.\n",
      "Processing vtk no 10, vtk_time = 1.00e+00..\n",
      " - frame done.\n",
      "Processing vtk no 111, vtk_time = 1.11e+01..\n"
     ]
    },
    {
     "name": "stderr",
     "output_type": "stream",
     "text": [
      "/home/ppjanka/anaconda3/envs/intsh2/lib/python3.6/site-packages/ipykernel_launcher.py:137: MatplotlibDeprecationWarning: Adding an axes using the same arguments as a previous axes currently reuses the earlier instance.  In a future version, a new instance will always be created and returned.  Meanwhile, this warning can be suppressed, and the future behavior ensured, by passing a unique label to each axes instance.\n",
      "/home/ppjanka/anaconda3/envs/intsh2/lib/python3.6/site-packages/ipykernel_launcher.py:137: MatplotlibDeprecationWarning: Adding an axes using the same arguments as a previous axes currently reuses the earlier instance.  In a future version, a new instance will always be created and returned.  Meanwhile, this warning can be suppressed, and the future behavior ensured, by passing a unique label to each axes instance.\n"
     ]
    },
    {
     "name": "stdout",
     "output_type": "stream",
     "text": [
      " - frame done.\n",
      "Processing vtk no 151, vtk_time = 1.51e+01..\n",
      " - frame done.\n",
      "Processing vtk no 51, vtk_time = 5.10e+00..\n"
     ]
    },
    {
     "name": "stderr",
     "output_type": "stream",
     "text": [
      "/home/ppjanka/anaconda3/envs/intsh2/lib/python3.6/site-packages/ipykernel_launcher.py:137: MatplotlibDeprecationWarning: Adding an axes using the same arguments as a previous axes currently reuses the earlier instance.  In a future version, a new instance will always be created and returned.  Meanwhile, this warning can be suppressed, and the future behavior ensured, by passing a unique label to each axes instance.\n"
     ]
    },
    {
     "name": "stdout",
     "output_type": "stream",
     "text": [
      " - frame done.\n",
      "Processing vtk no 31, vtk_time = 3.10e+00..\n",
      " - frame done.\n",
      "Processing vtk no 71, vtk_time = 7.10e+00..\n"
     ]
    },
    {
     "name": "stderr",
     "output_type": "stream",
     "text": [
      "/home/ppjanka/anaconda3/envs/intsh2/lib/python3.6/site-packages/ipykernel_launcher.py:137: MatplotlibDeprecationWarning: Adding an axes using the same arguments as a previous axes currently reuses the earlier instance.  In a future version, a new instance will always be created and returned.  Meanwhile, this warning can be suppressed, and the future behavior ensured, by passing a unique label to each axes instance.\n",
      "/home/ppjanka/anaconda3/envs/intsh2/lib/python3.6/site-packages/ipykernel_launcher.py:137: MatplotlibDeprecationWarning: Adding an axes using the same arguments as a previous axes currently reuses the earlier instance.  In a future version, a new instance will always be created and returned.  Meanwhile, this warning can be suppressed, and the future behavior ensured, by passing a unique label to each axes instance.\n",
      "/home/ppjanka/anaconda3/envs/intsh2/lib/python3.6/site-packages/ipykernel_launcher.py:137: MatplotlibDeprecationWarning: Adding an axes using the same arguments as a previous axes currently reuses the earlier instance.  In a future version, a new instance will always be created and returned.  Meanwhile, this warning can be suppressed, and the future behavior ensured, by passing a unique label to each axes instance.\n"
     ]
    },
    {
     "name": "stdout",
     "output_type": "stream",
     "text": [
      " - frame done.\n",
      "Processing vtk no 131, vtk_time = 1.31e+01..\n"
     ]
    },
    {
     "name": "stderr",
     "output_type": "stream",
     "text": [
      "/home/ppjanka/anaconda3/envs/intsh2/lib/python3.6/site-packages/ipykernel_launcher.py:137: MatplotlibDeprecationWarning: Adding an axes using the same arguments as a previous axes currently reuses the earlier instance.  In a future version, a new instance will always be created and returned.  Meanwhile, this warning can be suppressed, and the future behavior ensured, by passing a unique label to each axes instance.\n",
      "/home/ppjanka/anaconda3/envs/intsh2/lib/python3.6/site-packages/ipykernel_launcher.py:137: MatplotlibDeprecationWarning: Adding an axes using the same arguments as a previous axes currently reuses the earlier instance.  In a future version, a new instance will always be created and returned.  Meanwhile, this warning can be suppressed, and the future behavior ensured, by passing a unique label to each axes instance.\n"
     ]
    },
    {
     "name": "stdout",
     "output_type": "stream",
     "text": [
      " - frame done.\n",
      "Processing vtk no 91, vtk_time = 9.10e+00..\n",
      " - frame done.\n",
      "Processing vtk no 171, vtk_time = 1.71e+01..\n"
     ]
    },
    {
     "name": "stderr",
     "output_type": "stream",
     "text": [
      "/home/ppjanka/anaconda3/envs/intsh2/lib/python3.6/site-packages/ipykernel_launcher.py:137: MatplotlibDeprecationWarning: Adding an axes using the same arguments as a previous axes currently reuses the earlier instance.  In a future version, a new instance will always be created and returned.  Meanwhile, this warning can be suppressed, and the future behavior ensured, by passing a unique label to each axes instance.\n",
      "/home/ppjanka/anaconda3/envs/intsh2/lib/python3.6/site-packages/ipykernel_launcher.py:137: MatplotlibDeprecationWarning: Adding an axes using the same arguments as a previous axes currently reuses the earlier instance.  In a future version, a new instance will always be created and returned.  Meanwhile, this warning can be suppressed, and the future behavior ensured, by passing a unique label to each axes instance.\n"
     ]
    },
    {
     "name": "stdout",
     "output_type": "stream",
     "text": [
      " - frame done.\n",
      "Processing vtk no 112, vtk_time = 1.12e+01..\n",
      " - frame done.\n",
      "Processing vtk no 11, vtk_time = 1.10e+00..\n",
      " - frame done.\n",
      "Processing vtk no 191, vtk_time = 1.91e+01..\n",
      " - frame done.\n",
      "Processing vtk no 32, vtk_time = 3.20e+00..\n"
     ]
    },
    {
     "name": "stderr",
     "output_type": "stream",
     "text": [
      "/home/ppjanka/anaconda3/envs/intsh2/lib/python3.6/site-packages/ipykernel_launcher.py:137: MatplotlibDeprecationWarning: Adding an axes using the same arguments as a previous axes currently reuses the earlier instance.  In a future version, a new instance will always be created and returned.  Meanwhile, this warning can be suppressed, and the future behavior ensured, by passing a unique label to each axes instance.\n"
     ]
    },
    {
     "name": "stdout",
     "output_type": "stream",
     "text": [
      " - frame done.\n",
      "Processing vtk no 152, vtk_time = 1.52e+01..\n"
     ]
    },
    {
     "name": "stderr",
     "output_type": "stream",
     "text": [
      "/home/ppjanka/anaconda3/envs/intsh2/lib/python3.6/site-packages/ipykernel_launcher.py:137: MatplotlibDeprecationWarning: Adding an axes using the same arguments as a previous axes currently reuses the earlier instance.  In a future version, a new instance will always be created and returned.  Meanwhile, this warning can be suppressed, and the future behavior ensured, by passing a unique label to each axes instance.\n",
      "/home/ppjanka/anaconda3/envs/intsh2/lib/python3.6/site-packages/ipykernel_launcher.py:137: MatplotlibDeprecationWarning: Adding an axes using the same arguments as a previous axes currently reuses the earlier instance.  In a future version, a new instance will always be created and returned.  Meanwhile, this warning can be suppressed, and the future behavior ensured, by passing a unique label to each axes instance.\n"
     ]
    },
    {
     "name": "stdout",
     "output_type": "stream",
     "text": [
      " - frame done.\n",
      "Processing vtk no 132, vtk_time = 1.32e+01..\n",
      " - frame done.\n",
      "Processing vtk no 52, vtk_time = 5.20e+00..\n"
     ]
    },
    {
     "name": "stderr",
     "output_type": "stream",
     "text": [
      "/home/ppjanka/anaconda3/envs/intsh2/lib/python3.6/site-packages/ipykernel_launcher.py:137: MatplotlibDeprecationWarning: Adding an axes using the same arguments as a previous axes currently reuses the earlier instance.  In a future version, a new instance will always be created and returned.  Meanwhile, this warning can be suppressed, and the future behavior ensured, by passing a unique label to each axes instance.\n"
     ]
    },
    {
     "name": "stdout",
     "output_type": "stream",
     "text": [
      " - frame done.\n",
      "Processing vtk no 72, vtk_time = 7.20e+00..\n"
     ]
    },
    {
     "name": "stderr",
     "output_type": "stream",
     "text": [
      "/home/ppjanka/anaconda3/envs/intsh2/lib/python3.6/site-packages/ipykernel_launcher.py:137: MatplotlibDeprecationWarning: Adding an axes using the same arguments as a previous axes currently reuses the earlier instance.  In a future version, a new instance will always be created and returned.  Meanwhile, this warning can be suppressed, and the future behavior ensured, by passing a unique label to each axes instance.\n",
      "/home/ppjanka/anaconda3/envs/intsh2/lib/python3.6/site-packages/ipykernel_launcher.py:137: MatplotlibDeprecationWarning: Adding an axes using the same arguments as a previous axes currently reuses the earlier instance.  In a future version, a new instance will always be created and returned.  Meanwhile, this warning can be suppressed, and the future behavior ensured, by passing a unique label to each axes instance.\n",
      "/home/ppjanka/anaconda3/envs/intsh2/lib/python3.6/site-packages/ipykernel_launcher.py:137: MatplotlibDeprecationWarning: Adding an axes using the same arguments as a previous axes currently reuses the earlier instance.  In a future version, a new instance will always be created and returned.  Meanwhile, this warning can be suppressed, and the future behavior ensured, by passing a unique label to each axes instance.\n",
      "/home/ppjanka/anaconda3/envs/intsh2/lib/python3.6/site-packages/ipykernel_launcher.py:137: MatplotlibDeprecationWarning: Adding an axes using the same arguments as a previous axes currently reuses the earlier instance.  In a future version, a new instance will always be created and returned.  Meanwhile, this warning can be suppressed, and the future behavior ensured, by passing a unique label to each axes instance.\n"
     ]
    },
    {
     "name": "stdout",
     "output_type": "stream",
     "text": [
      " - frame done.\n",
      "Processing vtk no 92, vtk_time = 9.20e+00..\n",
      " - frame done.\n",
      "Processing vtk no 172, vtk_time = 1.72e+01..\n"
     ]
    },
    {
     "name": "stderr",
     "output_type": "stream",
     "text": [
      "/home/ppjanka/anaconda3/envs/intsh2/lib/python3.6/site-packages/ipykernel_launcher.py:137: MatplotlibDeprecationWarning: Adding an axes using the same arguments as a previous axes currently reuses the earlier instance.  In a future version, a new instance will always be created and returned.  Meanwhile, this warning can be suppressed, and the future behavior ensured, by passing a unique label to each axes instance.\n"
     ]
    },
    {
     "name": "stdout",
     "output_type": "stream",
     "text": [
      " - frame done.\n",
      "Processing vtk no 113, vtk_time = 1.13e+01..\n",
      " - frame done.\n",
      "Processing vtk no 192, vtk_time = 1.92e+01..\n"
     ]
    },
    {
     "name": "stderr",
     "output_type": "stream",
     "text": [
      "/home/ppjanka/anaconda3/envs/intsh2/lib/python3.6/site-packages/ipykernel_launcher.py:137: MatplotlibDeprecationWarning: Adding an axes using the same arguments as a previous axes currently reuses the earlier instance.  In a future version, a new instance will always be created and returned.  Meanwhile, this warning can be suppressed, and the future behavior ensured, by passing a unique label to each axes instance.\n",
      "/home/ppjanka/anaconda3/envs/intsh2/lib/python3.6/site-packages/ipykernel_launcher.py:137: MatplotlibDeprecationWarning: Adding an axes using the same arguments as a previous axes currently reuses the earlier instance.  In a future version, a new instance will always be created and returned.  Meanwhile, this warning can be suppressed, and the future behavior ensured, by passing a unique label to each axes instance.\n",
      "/home/ppjanka/anaconda3/envs/intsh2/lib/python3.6/site-packages/ipykernel_launcher.py:137: MatplotlibDeprecationWarning: Adding an axes using the same arguments as a previous axes currently reuses the earlier instance.  In a future version, a new instance will always be created and returned.  Meanwhile, this warning can be suppressed, and the future behavior ensured, by passing a unique label to each axes instance.\n"
     ]
    },
    {
     "name": "stdout",
     "output_type": "stream",
     "text": [
      " - frame done.\n",
      "Processing vtk no 12, vtk_time = 1.20e+00..\n",
      " - frame done.\n",
      "Processing vtk no 33, vtk_time = 3.30e+00..\n",
      " - frame done.\n",
      "Processing vtk no 133, vtk_time = 1.33e+01..\n"
     ]
    },
    {
     "name": "stderr",
     "output_type": "stream",
     "text": [
      "/home/ppjanka/anaconda3/envs/intsh2/lib/python3.6/site-packages/ipykernel_launcher.py:137: MatplotlibDeprecationWarning: Adding an axes using the same arguments as a previous axes currently reuses the earlier instance.  In a future version, a new instance will always be created and returned.  Meanwhile, this warning can be suppressed, and the future behavior ensured, by passing a unique label to each axes instance.\n"
     ]
    },
    {
     "name": "stdout",
     "output_type": "stream",
     "text": [
      " - frame done.\n",
      "Processing vtk no 153, vtk_time = 1.53e+01..\n",
      " - frame done.\n",
      "Processing vtk no 53, vtk_time = 5.30e+00..\n"
     ]
    },
    {
     "name": "stderr",
     "output_type": "stream",
     "text": [
      "/home/ppjanka/anaconda3/envs/intsh2/lib/python3.6/site-packages/ipykernel_launcher.py:137: MatplotlibDeprecationWarning: Adding an axes using the same arguments as a previous axes currently reuses the earlier instance.  In a future version, a new instance will always be created and returned.  Meanwhile, this warning can be suppressed, and the future behavior ensured, by passing a unique label to each axes instance.\n",
      "/home/ppjanka/anaconda3/envs/intsh2/lib/python3.6/site-packages/ipykernel_launcher.py:137: MatplotlibDeprecationWarning: Adding an axes using the same arguments as a previous axes currently reuses the earlier instance.  In a future version, a new instance will always be created and returned.  Meanwhile, this warning can be suppressed, and the future behavior ensured, by passing a unique label to each axes instance.\n",
      "/home/ppjanka/anaconda3/envs/intsh2/lib/python3.6/site-packages/ipykernel_launcher.py:137: MatplotlibDeprecationWarning: Adding an axes using the same arguments as a previous axes currently reuses the earlier instance.  In a future version, a new instance will always be created and returned.  Meanwhile, this warning can be suppressed, and the future behavior ensured, by passing a unique label to each axes instance.\n"
     ]
    },
    {
     "name": "stdout",
     "output_type": "stream",
     "text": [
      " - frame done.\n",
      "Processing vtk no 73, vtk_time = 7.30e+00..\n"
     ]
    },
    {
     "name": "stderr",
     "output_type": "stream",
     "text": [
      "/home/ppjanka/anaconda3/envs/intsh2/lib/python3.6/site-packages/ipykernel_launcher.py:137: MatplotlibDeprecationWarning: Adding an axes using the same arguments as a previous axes currently reuses the earlier instance.  In a future version, a new instance will always be created and returned.  Meanwhile, this warning can be suppressed, and the future behavior ensured, by passing a unique label to each axes instance.\n"
     ]
    },
    {
     "name": "stdout",
     "output_type": "stream",
     "text": [
      " - frame done.\n",
      "Processing vtk no 93, vtk_time = 9.30e+00..\n"
     ]
    },
    {
     "name": "stderr",
     "output_type": "stream",
     "text": [
      "/home/ppjanka/anaconda3/envs/intsh2/lib/python3.6/site-packages/ipykernel_launcher.py:137: MatplotlibDeprecationWarning: Adding an axes using the same arguments as a previous axes currently reuses the earlier instance.  In a future version, a new instance will always be created and returned.  Meanwhile, this warning can be suppressed, and the future behavior ensured, by passing a unique label to each axes instance.\n",
      "/home/ppjanka/anaconda3/envs/intsh2/lib/python3.6/site-packages/ipykernel_launcher.py:137: MatplotlibDeprecationWarning: Adding an axes using the same arguments as a previous axes currently reuses the earlier instance.  In a future version, a new instance will always be created and returned.  Meanwhile, this warning can be suppressed, and the future behavior ensured, by passing a unique label to each axes instance.\n"
     ]
    },
    {
     "name": "stdout",
     "output_type": "stream",
     "text": [
      " - frame done.\n",
      "Processing vtk no 114, vtk_time = 1.14e+01..\n",
      " - frame done.\n",
      "Processing vtk no 173, vtk_time = 1.73e+01..\n"
     ]
    },
    {
     "name": "stderr",
     "output_type": "stream",
     "text": [
      "/home/ppjanka/anaconda3/envs/intsh2/lib/python3.6/site-packages/ipykernel_launcher.py:137: MatplotlibDeprecationWarning: Adding an axes using the same arguments as a previous axes currently reuses the earlier instance.  In a future version, a new instance will always be created and returned.  Meanwhile, this warning can be suppressed, and the future behavior ensured, by passing a unique label to each axes instance.\n"
     ]
    },
    {
     "name": "stdout",
     "output_type": "stream",
     "text": [
      " - frame done.\n",
      "Processing vtk no 193, vtk_time = 1.93e+01..\n"
     ]
    },
    {
     "name": "stderr",
     "output_type": "stream",
     "text": [
      "/home/ppjanka/anaconda3/envs/intsh2/lib/python3.6/site-packages/ipykernel_launcher.py:137: MatplotlibDeprecationWarning: Adding an axes using the same arguments as a previous axes currently reuses the earlier instance.  In a future version, a new instance will always be created and returned.  Meanwhile, this warning can be suppressed, and the future behavior ensured, by passing a unique label to each axes instance.\n",
      "/home/ppjanka/anaconda3/envs/intsh2/lib/python3.6/site-packages/ipykernel_launcher.py:137: MatplotlibDeprecationWarning: Adding an axes using the same arguments as a previous axes currently reuses the earlier instance.  In a future version, a new instance will always be created and returned.  Meanwhile, this warning can be suppressed, and the future behavior ensured, by passing a unique label to each axes instance.\n"
     ]
    },
    {
     "name": "stdout",
     "output_type": "stream",
     "text": [
      " - frame done.\n",
      "Processing vtk no 13, vtk_time = 1.30e+00..\n",
      " - frame done.\n",
      "Processing vtk no 154, vtk_time = 1.54e+01..\n",
      " - frame done.\n",
      "Processing vtk no 134, vtk_time = 1.34e+01..\n"
     ]
    },
    {
     "name": "stderr",
     "output_type": "stream",
     "text": [
      "/home/ppjanka/anaconda3/envs/intsh2/lib/python3.6/site-packages/ipykernel_launcher.py:137: MatplotlibDeprecationWarning: Adding an axes using the same arguments as a previous axes currently reuses the earlier instance.  In a future version, a new instance will always be created and returned.  Meanwhile, this warning can be suppressed, and the future behavior ensured, by passing a unique label to each axes instance.\n",
      "/home/ppjanka/anaconda3/envs/intsh2/lib/python3.6/site-packages/ipykernel_launcher.py:137: MatplotlibDeprecationWarning: Adding an axes using the same arguments as a previous axes currently reuses the earlier instance.  In a future version, a new instance will always be created and returned.  Meanwhile, this warning can be suppressed, and the future behavior ensured, by passing a unique label to each axes instance.\n"
     ]
    },
    {
     "name": "stdout",
     "output_type": "stream",
     "text": [
      " - frame done.\n",
      "Processing vtk no 34, vtk_time = 3.40e+00..\n"
     ]
    },
    {
     "name": "stderr",
     "output_type": "stream",
     "text": [
      "/home/ppjanka/anaconda3/envs/intsh2/lib/python3.6/site-packages/ipykernel_launcher.py:137: MatplotlibDeprecationWarning: Adding an axes using the same arguments as a previous axes currently reuses the earlier instance.  In a future version, a new instance will always be created and returned.  Meanwhile, this warning can be suppressed, and the future behavior ensured, by passing a unique label to each axes instance.\n"
     ]
    },
    {
     "name": "stdout",
     "output_type": "stream",
     "text": [
      " - frame done.\n",
      "Processing vtk no 54, vtk_time = 5.40e+00..\n",
      " - frame done.\n",
      "Processing vtk no 94, vtk_time = 9.40e+00..\n"
     ]
    },
    {
     "name": "stderr",
     "output_type": "stream",
     "text": [
      "/home/ppjanka/anaconda3/envs/intsh2/lib/python3.6/site-packages/ipykernel_launcher.py:137: MatplotlibDeprecationWarning: Adding an axes using the same arguments as a previous axes currently reuses the earlier instance.  In a future version, a new instance will always be created and returned.  Meanwhile, this warning can be suppressed, and the future behavior ensured, by passing a unique label to each axes instance.\n",
      "/home/ppjanka/anaconda3/envs/intsh2/lib/python3.6/site-packages/ipykernel_launcher.py:137: MatplotlibDeprecationWarning: Adding an axes using the same arguments as a previous axes currently reuses the earlier instance.  In a future version, a new instance will always be created and returned.  Meanwhile, this warning can be suppressed, and the future behavior ensured, by passing a unique label to each axes instance.\n"
     ]
    },
    {
     "name": "stdout",
     "output_type": "stream",
     "text": [
      " - frame done.\n",
      "Processing vtk no 74, vtk_time = 7.40e+00..\n",
      " - frame done.\n",
      "Processing vtk no 115, vtk_time = 1.15e+01..\n"
     ]
    },
    {
     "name": "stderr",
     "output_type": "stream",
     "text": [
      "/home/ppjanka/anaconda3/envs/intsh2/lib/python3.6/site-packages/ipykernel_launcher.py:137: MatplotlibDeprecationWarning: Adding an axes using the same arguments as a previous axes currently reuses the earlier instance.  In a future version, a new instance will always be created and returned.  Meanwhile, this warning can be suppressed, and the future behavior ensured, by passing a unique label to each axes instance.\n",
      "/home/ppjanka/anaconda3/envs/intsh2/lib/python3.6/site-packages/ipykernel_launcher.py:137: MatplotlibDeprecationWarning: Adding an axes using the same arguments as a previous axes currently reuses the earlier instance.  In a future version, a new instance will always be created and returned.  Meanwhile, this warning can be suppressed, and the future behavior ensured, by passing a unique label to each axes instance.\n",
      "/home/ppjanka/anaconda3/envs/intsh2/lib/python3.6/site-packages/ipykernel_launcher.py:137: MatplotlibDeprecationWarning: Adding an axes using the same arguments as a previous axes currently reuses the earlier instance.  In a future version, a new instance will always be created and returned.  Meanwhile, this warning can be suppressed, and the future behavior ensured, by passing a unique label to each axes instance.\n"
     ]
    },
    {
     "name": "stdout",
     "output_type": "stream",
     "text": [
      " - frame done.\n",
      "Processing vtk no 194, vtk_time = 1.94e+01..\n",
      " - frame done.\n",
      "Processing vtk no 174, vtk_time = 1.74e+01..\n",
      " - frame done.\n",
      "Processing vtk no 135, vtk_time = 1.35e+01..\n"
     ]
    },
    {
     "name": "stderr",
     "output_type": "stream",
     "text": [
      "/home/ppjanka/anaconda3/envs/intsh2/lib/python3.6/site-packages/ipykernel_launcher.py:137: MatplotlibDeprecationWarning: Adding an axes using the same arguments as a previous axes currently reuses the earlier instance.  In a future version, a new instance will always be created and returned.  Meanwhile, this warning can be suppressed, and the future behavior ensured, by passing a unique label to each axes instance.\n"
     ]
    },
    {
     "name": "stdout",
     "output_type": "stream",
     "text": [
      " - frame done.\n",
      "Processing vtk no 155, vtk_time = 1.55e+01..\n"
     ]
    },
    {
     "name": "stderr",
     "output_type": "stream",
     "text": [
      "/home/ppjanka/anaconda3/envs/intsh2/lib/python3.6/site-packages/ipykernel_launcher.py:137: MatplotlibDeprecationWarning: Adding an axes using the same arguments as a previous axes currently reuses the earlier instance.  In a future version, a new instance will always be created and returned.  Meanwhile, this warning can be suppressed, and the future behavior ensured, by passing a unique label to each axes instance.\n",
      "/home/ppjanka/anaconda3/envs/intsh2/lib/python3.6/site-packages/ipykernel_launcher.py:137: MatplotlibDeprecationWarning: Adding an axes using the same arguments as a previous axes currently reuses the earlier instance.  In a future version, a new instance will always be created and returned.  Meanwhile, this warning can be suppressed, and the future behavior ensured, by passing a unique label to each axes instance.\n"
     ]
    },
    {
     "name": "stdout",
     "output_type": "stream",
     "text": [
      " - frame done.\n",
      "Processing vtk no 14, vtk_time = 1.40e+00..\n"
     ]
    },
    {
     "name": "stderr",
     "output_type": "stream",
     "text": [
      "/home/ppjanka/anaconda3/envs/intsh2/lib/python3.6/site-packages/ipykernel_launcher.py:137: MatplotlibDeprecationWarning: Adding an axes using the same arguments as a previous axes currently reuses the earlier instance.  In a future version, a new instance will always be created and returned.  Meanwhile, this warning can be suppressed, and the future behavior ensured, by passing a unique label to each axes instance.\n"
     ]
    },
    {
     "name": "stdout",
     "output_type": "stream",
     "text": [
      " - frame done.\n",
      "Processing vtk no 35, vtk_time = 3.50e+00..\n",
      " - frame done.\n",
      "Processing vtk no 55, vtk_time = 5.50e+00..\n"
     ]
    },
    {
     "name": "stderr",
     "output_type": "stream",
     "text": [
      "/home/ppjanka/anaconda3/envs/intsh2/lib/python3.6/site-packages/ipykernel_launcher.py:137: MatplotlibDeprecationWarning: Adding an axes using the same arguments as a previous axes currently reuses the earlier instance.  In a future version, a new instance will always be created and returned.  Meanwhile, this warning can be suppressed, and the future behavior ensured, by passing a unique label to each axes instance.\n",
      "/home/ppjanka/anaconda3/envs/intsh2/lib/python3.6/site-packages/ipykernel_launcher.py:137: MatplotlibDeprecationWarning: Adding an axes using the same arguments as a previous axes currently reuses the earlier instance.  In a future version, a new instance will always be created and returned.  Meanwhile, this warning can be suppressed, and the future behavior ensured, by passing a unique label to each axes instance.\n"
     ]
    },
    {
     "name": "stdout",
     "output_type": "stream",
     "text": [
      " - frame done.\n",
      "Processing vtk no 95, vtk_time = 9.50e+00..\n",
      " - frame done.\n",
      "Processing vtk no 75, vtk_time = 7.50e+00..\n"
     ]
    },
    {
     "name": "stderr",
     "output_type": "stream",
     "text": [
      "/home/ppjanka/anaconda3/envs/intsh2/lib/python3.6/site-packages/ipykernel_launcher.py:137: MatplotlibDeprecationWarning: Adding an axes using the same arguments as a previous axes currently reuses the earlier instance.  In a future version, a new instance will always be created and returned.  Meanwhile, this warning can be suppressed, and the future behavior ensured, by passing a unique label to each axes instance.\n"
     ]
    },
    {
     "name": "stdout",
     "output_type": "stream",
     "text": [
      " - frame done.\n",
      "Processing vtk no 116, vtk_time = 1.16e+01..\n"
     ]
    },
    {
     "name": "stderr",
     "output_type": "stream",
     "text": [
      "/home/ppjanka/anaconda3/envs/intsh2/lib/python3.6/site-packages/ipykernel_launcher.py:137: MatplotlibDeprecationWarning: Adding an axes using the same arguments as a previous axes currently reuses the earlier instance.  In a future version, a new instance will always be created and returned.  Meanwhile, this warning can be suppressed, and the future behavior ensured, by passing a unique label to each axes instance.\n",
      "/home/ppjanka/anaconda3/envs/intsh2/lib/python3.6/site-packages/ipykernel_launcher.py:137: MatplotlibDeprecationWarning: Adding an axes using the same arguments as a previous axes currently reuses the earlier instance.  In a future version, a new instance will always be created and returned.  Meanwhile, this warning can be suppressed, and the future behavior ensured, by passing a unique label to each axes instance.\n",
      "/home/ppjanka/anaconda3/envs/intsh2/lib/python3.6/site-packages/ipykernel_launcher.py:137: MatplotlibDeprecationWarning: Adding an axes using the same arguments as a previous axes currently reuses the earlier instance.  In a future version, a new instance will always be created and returned.  Meanwhile, this warning can be suppressed, and the future behavior ensured, by passing a unique label to each axes instance.\n"
     ]
    },
    {
     "name": "stdout",
     "output_type": "stream",
     "text": [
      " - frame done.\n",
      "Processing vtk no 195, vtk_time = 1.95e+01..\n",
      " - frame done.\n",
      "Processing vtk no 136, vtk_time = 1.36e+01..\n"
     ]
    },
    {
     "name": "stderr",
     "output_type": "stream",
     "text": [
      "/home/ppjanka/anaconda3/envs/intsh2/lib/python3.6/site-packages/ipykernel_launcher.py:137: MatplotlibDeprecationWarning: Adding an axes using the same arguments as a previous axes currently reuses the earlier instance.  In a future version, a new instance will always be created and returned.  Meanwhile, this warning can be suppressed, and the future behavior ensured, by passing a unique label to each axes instance.\n"
     ]
    },
    {
     "name": "stdout",
     "output_type": "stream",
     "text": [
      " - frame done.\n",
      "Processing vtk no 175, vtk_time = 1.75e+01..\n",
      " - frame done.\n",
      "Processing vtk no 156, vtk_time = 1.56e+01..\n"
     ]
    },
    {
     "name": "stderr",
     "output_type": "stream",
     "text": [
      "/home/ppjanka/anaconda3/envs/intsh2/lib/python3.6/site-packages/ipykernel_launcher.py:137: MatplotlibDeprecationWarning: Adding an axes using the same arguments as a previous axes currently reuses the earlier instance.  In a future version, a new instance will always be created and returned.  Meanwhile, this warning can be suppressed, and the future behavior ensured, by passing a unique label to each axes instance.\n"
     ]
    },
    {
     "name": "stdout",
     "output_type": "stream",
     "text": [
      " - frame done.\n",
      "Processing vtk no 15, vtk_time = 1.50e+00..\n",
      " - frame done.\n",
      " - frame done.\n",
      "Processing vtk no 36, vtk_time = 3.60e+00..\n",
      "Processing vtk no 76, vtk_time = 7.60e+00..\n"
     ]
    },
    {
     "name": "stderr",
     "output_type": "stream",
     "text": [
      "/home/ppjanka/anaconda3/envs/intsh2/lib/python3.6/site-packages/ipykernel_launcher.py:137: MatplotlibDeprecationWarning: Adding an axes using the same arguments as a previous axes currently reuses the earlier instance.  In a future version, a new instance will always be created and returned.  Meanwhile, this warning can be suppressed, and the future behavior ensured, by passing a unique label to each axes instance.\n",
      "/home/ppjanka/anaconda3/envs/intsh2/lib/python3.6/site-packages/ipykernel_launcher.py:137: MatplotlibDeprecationWarning: Adding an axes using the same arguments as a previous axes currently reuses the earlier instance.  In a future version, a new instance will always be created and returned.  Meanwhile, this warning can be suppressed, and the future behavior ensured, by passing a unique label to each axes instance.\n",
      "/home/ppjanka/anaconda3/envs/intsh2/lib/python3.6/site-packages/ipykernel_launcher.py:137: MatplotlibDeprecationWarning: Adding an axes using the same arguments as a previous axes currently reuses the earlier instance.  In a future version, a new instance will always be created and returned.  Meanwhile, this warning can be suppressed, and the future behavior ensured, by passing a unique label to each axes instance.\n",
      "/home/ppjanka/anaconda3/envs/intsh2/lib/python3.6/site-packages/ipykernel_launcher.py:137: MatplotlibDeprecationWarning: Adding an axes using the same arguments as a previous axes currently reuses the earlier instance.  In a future version, a new instance will always be created and returned.  Meanwhile, this warning can be suppressed, and the future behavior ensured, by passing a unique label to each axes instance.\n"
     ]
    },
    {
     "name": "stdout",
     "output_type": "stream",
     "text": [
      " - frame done.\n",
      "Processing vtk no 56, vtk_time = 5.60e+00..\n"
     ]
    },
    {
     "name": "stderr",
     "output_type": "stream",
     "text": [
      "/home/ppjanka/anaconda3/envs/intsh2/lib/python3.6/site-packages/ipykernel_launcher.py:137: MatplotlibDeprecationWarning: Adding an axes using the same arguments as a previous axes currently reuses the earlier instance.  In a future version, a new instance will always be created and returned.  Meanwhile, this warning can be suppressed, and the future behavior ensured, by passing a unique label to each axes instance.\n"
     ]
    },
    {
     "name": "stdout",
     "output_type": "stream",
     "text": [
      " - frame done.\n",
      "Processing vtk no 117, vtk_time = 1.17e+01..\n",
      " - frame done.\n",
      "Processing vtk no 96, vtk_time = 9.60e+00..\n"
     ]
    },
    {
     "name": "stderr",
     "output_type": "stream",
     "text": [
      "/home/ppjanka/anaconda3/envs/intsh2/lib/python3.6/site-packages/ipykernel_launcher.py:137: MatplotlibDeprecationWarning: Adding an axes using the same arguments as a previous axes currently reuses the earlier instance.  In a future version, a new instance will always be created and returned.  Meanwhile, this warning can be suppressed, and the future behavior ensured, by passing a unique label to each axes instance.\n",
      "/home/ppjanka/anaconda3/envs/intsh2/lib/python3.6/site-packages/ipykernel_launcher.py:137: MatplotlibDeprecationWarning: Adding an axes using the same arguments as a previous axes currently reuses the earlier instance.  In a future version, a new instance will always be created and returned.  Meanwhile, this warning can be suppressed, and the future behavior ensured, by passing a unique label to each axes instance.\n",
      "/home/ppjanka/anaconda3/envs/intsh2/lib/python3.6/site-packages/ipykernel_launcher.py:137: MatplotlibDeprecationWarning: Adding an axes using the same arguments as a previous axes currently reuses the earlier instance.  In a future version, a new instance will always be created and returned.  Meanwhile, this warning can be suppressed, and the future behavior ensured, by passing a unique label to each axes instance.\n"
     ]
    },
    {
     "name": "stdout",
     "output_type": "stream",
     "text": [
      " - frame done.\n",
      "Processing vtk no 196, vtk_time = 1.96e+01..\n"
     ]
    },
    {
     "name": "stderr",
     "output_type": "stream",
     "text": [
      "/home/ppjanka/anaconda3/envs/intsh2/lib/python3.6/site-packages/ipykernel_launcher.py:137: MatplotlibDeprecationWarning: Adding an axes using the same arguments as a previous axes currently reuses the earlier instance.  In a future version, a new instance will always be created and returned.  Meanwhile, this warning can be suppressed, and the future behavior ensured, by passing a unique label to each axes instance.\n"
     ]
    },
    {
     "name": "stdout",
     "output_type": "stream",
     "text": [
      " - frame done.\n",
      "Processing vtk no 77, vtk_time = 7.70e+00..\n",
      " - frame done.\n",
      "Processing vtk no 176, vtk_time = 1.76e+01..\n",
      " - frame done.\n",
      "Processing vtk no 137, vtk_time = 1.37e+01..\n"
     ]
    },
    {
     "name": "stderr",
     "output_type": "stream",
     "text": [
      "/home/ppjanka/anaconda3/envs/intsh2/lib/python3.6/site-packages/ipykernel_launcher.py:137: MatplotlibDeprecationWarning: Adding an axes using the same arguments as a previous axes currently reuses the earlier instance.  In a future version, a new instance will always be created and returned.  Meanwhile, this warning can be suppressed, and the future behavior ensured, by passing a unique label to each axes instance.\n"
     ]
    },
    {
     "name": "stdout",
     "output_type": "stream",
     "text": [
      " - frame done.\n",
      "Processing vtk no 157, vtk_time = 1.57e+01..\n"
     ]
    },
    {
     "name": "stderr",
     "output_type": "stream",
     "text": [
      "/home/ppjanka/anaconda3/envs/intsh2/lib/python3.6/site-packages/ipykernel_launcher.py:137: MatplotlibDeprecationWarning: Adding an axes using the same arguments as a previous axes currently reuses the earlier instance.  In a future version, a new instance will always be created and returned.  Meanwhile, this warning can be suppressed, and the future behavior ensured, by passing a unique label to each axes instance.\n",
      "/home/ppjanka/anaconda3/envs/intsh2/lib/python3.6/site-packages/ipykernel_launcher.py:137: MatplotlibDeprecationWarning: Adding an axes using the same arguments as a previous axes currently reuses the earlier instance.  In a future version, a new instance will always be created and returned.  Meanwhile, this warning can be suppressed, and the future behavior ensured, by passing a unique label to each axes instance.\n"
     ]
    },
    {
     "name": "stdout",
     "output_type": "stream",
     "text": [
      " - frame done.\n",
      "Processing vtk no 16, vtk_time = 1.60e+00..\n",
      " - frame done.\n",
      "Processing vtk no 37, vtk_time = 3.70e+00..\n",
      " - frame done.\n",
      "Processing vtk no 97, vtk_time = 9.70e+00..\n"
     ]
    },
    {
     "name": "stderr",
     "output_type": "stream",
     "text": [
      "/home/ppjanka/anaconda3/envs/intsh2/lib/python3.6/site-packages/ipykernel_launcher.py:137: MatplotlibDeprecationWarning: Adding an axes using the same arguments as a previous axes currently reuses the earlier instance.  In a future version, a new instance will always be created and returned.  Meanwhile, this warning can be suppressed, and the future behavior ensured, by passing a unique label to each axes instance.\n"
     ]
    },
    {
     "name": "stdout",
     "output_type": "stream",
     "text": [
      " - frame done.\n",
      "Processing vtk no 57, vtk_time = 5.70e+00..\n"
     ]
    },
    {
     "name": "stderr",
     "output_type": "stream",
     "text": [
      "/home/ppjanka/anaconda3/envs/intsh2/lib/python3.6/site-packages/ipykernel_launcher.py:137: MatplotlibDeprecationWarning: Adding an axes using the same arguments as a previous axes currently reuses the earlier instance.  In a future version, a new instance will always be created and returned.  Meanwhile, this warning can be suppressed, and the future behavior ensured, by passing a unique label to each axes instance.\n",
      "/home/ppjanka/anaconda3/envs/intsh2/lib/python3.6/site-packages/ipykernel_launcher.py:137: MatplotlibDeprecationWarning: Adding an axes using the same arguments as a previous axes currently reuses the earlier instance.  In a future version, a new instance will always be created and returned.  Meanwhile, this warning can be suppressed, and the future behavior ensured, by passing a unique label to each axes instance.\n"
     ]
    },
    {
     "name": "stdout",
     "output_type": "stream",
     "text": [
      " - frame done.\n",
      "Processing vtk no 118, vtk_time = 1.18e+01..\n"
     ]
    },
    {
     "name": "stderr",
     "output_type": "stream",
     "text": [
      "/home/ppjanka/anaconda3/envs/intsh2/lib/python3.6/site-packages/ipykernel_launcher.py:137: MatplotlibDeprecationWarning: Adding an axes using the same arguments as a previous axes currently reuses the earlier instance.  In a future version, a new instance will always be created and returned.  Meanwhile, this warning can be suppressed, and the future behavior ensured, by passing a unique label to each axes instance.\n",
      "/home/ppjanka/anaconda3/envs/intsh2/lib/python3.6/site-packages/ipykernel_launcher.py:137: MatplotlibDeprecationWarning: Adding an axes using the same arguments as a previous axes currently reuses the earlier instance.  In a future version, a new instance will always be created and returned.  Meanwhile, this warning can be suppressed, and the future behavior ensured, by passing a unique label to each axes instance.\n",
      "/home/ppjanka/anaconda3/envs/intsh2/lib/python3.6/site-packages/ipykernel_launcher.py:137: MatplotlibDeprecationWarning: Adding an axes using the same arguments as a previous axes currently reuses the earlier instance.  In a future version, a new instance will always be created and returned.  Meanwhile, this warning can be suppressed, and the future behavior ensured, by passing a unique label to each axes instance.\n"
     ]
    },
    {
     "name": "stdout",
     "output_type": "stream",
     "text": [
      " - frame done.\n",
      "Processing vtk no 197, vtk_time = 1.97e+01..\n"
     ]
    },
    {
     "name": "stderr",
     "output_type": "stream",
     "text": [
      "/home/ppjanka/anaconda3/envs/intsh2/lib/python3.6/site-packages/ipykernel_launcher.py:137: MatplotlibDeprecationWarning: Adding an axes using the same arguments as a previous axes currently reuses the earlier instance.  In a future version, a new instance will always be created and returned.  Meanwhile, this warning can be suppressed, and the future behavior ensured, by passing a unique label to each axes instance.\n"
     ]
    },
    {
     "name": "stdout",
     "output_type": "stream",
     "text": [
      " - frame done.\n",
      "Processing vtk no 138, vtk_time = 1.38e+01..\n",
      " - frame done.\n",
      "Processing vtk no 78, vtk_time = 7.80e+00..\n",
      " - frame done.\n",
      "Processing vtk no 177, vtk_time = 1.77e+01..\n"
     ]
    },
    {
     "name": "stderr",
     "output_type": "stream",
     "text": [
      "/home/ppjanka/anaconda3/envs/intsh2/lib/python3.6/site-packages/ipykernel_launcher.py:137: MatplotlibDeprecationWarning: Adding an axes using the same arguments as a previous axes currently reuses the earlier instance.  In a future version, a new instance will always be created and returned.  Meanwhile, this warning can be suppressed, and the future behavior ensured, by passing a unique label to each axes instance.\n",
      "/home/ppjanka/anaconda3/envs/intsh2/lib/python3.6/site-packages/ipykernel_launcher.py:137: MatplotlibDeprecationWarning: Adding an axes using the same arguments as a previous axes currently reuses the earlier instance.  In a future version, a new instance will always be created and returned.  Meanwhile, this warning can be suppressed, and the future behavior ensured, by passing a unique label to each axes instance.\n"
     ]
    },
    {
     "name": "stdout",
     "output_type": "stream",
     "text": [
      " - frame done.\n",
      "Processing vtk no 98, vtk_time = 9.80e+00..\n",
      " - frame done.\n",
      "Processing vtk no 158, vtk_time = 1.58e+01..\n"
     ]
    },
    {
     "name": "stderr",
     "output_type": "stream",
     "text": [
      "/home/ppjanka/anaconda3/envs/intsh2/lib/python3.6/site-packages/ipykernel_launcher.py:137: MatplotlibDeprecationWarning: Adding an axes using the same arguments as a previous axes currently reuses the earlier instance.  In a future version, a new instance will always be created and returned.  Meanwhile, this warning can be suppressed, and the future behavior ensured, by passing a unique label to each axes instance.\n"
     ]
    },
    {
     "name": "stdout",
     "output_type": "stream",
     "text": [
      " - frame done.\n",
      "Processing vtk no 17, vtk_time = 1.70e+00..\n",
      " - frame done.\n",
      "Processing vtk no 58, vtk_time = 5.80e+00..\n"
     ]
    },
    {
     "name": "stderr",
     "output_type": "stream",
     "text": [
      "/home/ppjanka/anaconda3/envs/intsh2/lib/python3.6/site-packages/ipykernel_launcher.py:137: MatplotlibDeprecationWarning: Adding an axes using the same arguments as a previous axes currently reuses the earlier instance.  In a future version, a new instance will always be created and returned.  Meanwhile, this warning can be suppressed, and the future behavior ensured, by passing a unique label to each axes instance.\n"
     ]
    },
    {
     "name": "stdout",
     "output_type": "stream",
     "text": [
      " - frame done.\n",
      "Processing vtk no 38, vtk_time = 3.80e+00..\n"
     ]
    },
    {
     "name": "stderr",
     "output_type": "stream",
     "text": [
      "/home/ppjanka/anaconda3/envs/intsh2/lib/python3.6/site-packages/ipykernel_launcher.py:137: MatplotlibDeprecationWarning: Adding an axes using the same arguments as a previous axes currently reuses the earlier instance.  In a future version, a new instance will always be created and returned.  Meanwhile, this warning can be suppressed, and the future behavior ensured, by passing a unique label to each axes instance.\n",
      "/home/ppjanka/anaconda3/envs/intsh2/lib/python3.6/site-packages/ipykernel_launcher.py:137: MatplotlibDeprecationWarning: Adding an axes using the same arguments as a previous axes currently reuses the earlier instance.  In a future version, a new instance will always be created and returned.  Meanwhile, this warning can be suppressed, and the future behavior ensured, by passing a unique label to each axes instance.\n",
      "/home/ppjanka/anaconda3/envs/intsh2/lib/python3.6/site-packages/ipykernel_launcher.py:137: MatplotlibDeprecationWarning: Adding an axes using the same arguments as a previous axes currently reuses the earlier instance.  In a future version, a new instance will always be created and returned.  Meanwhile, this warning can be suppressed, and the future behavior ensured, by passing a unique label to each axes instance.\n"
     ]
    },
    {
     "name": "stdout",
     "output_type": "stream",
     "text": [
      " - frame done.\n",
      "Processing vtk no 119, vtk_time = 1.19e+01..\n"
     ]
    },
    {
     "name": "stderr",
     "output_type": "stream",
     "text": [
      "/home/ppjanka/anaconda3/envs/intsh2/lib/python3.6/site-packages/ipykernel_launcher.py:137: MatplotlibDeprecationWarning: Adding an axes using the same arguments as a previous axes currently reuses the earlier instance.  In a future version, a new instance will always be created and returned.  Meanwhile, this warning can be suppressed, and the future behavior ensured, by passing a unique label to each axes instance.\n"
     ]
    },
    {
     "name": "stdout",
     "output_type": "stream",
     "text": [
      " - frame done.\n",
      "Processing vtk no 198, vtk_time = 1.98e+01..\n"
     ]
    },
    {
     "name": "stderr",
     "output_type": "stream",
     "text": [
      "/home/ppjanka/anaconda3/envs/intsh2/lib/python3.6/site-packages/ipykernel_launcher.py:137: MatplotlibDeprecationWarning: Adding an axes using the same arguments as a previous axes currently reuses the earlier instance.  In a future version, a new instance will always be created and returned.  Meanwhile, this warning can be suppressed, and the future behavior ensured, by passing a unique label to each axes instance.\n",
      "/home/ppjanka/anaconda3/envs/intsh2/lib/python3.6/site-packages/ipykernel_launcher.py:137: MatplotlibDeprecationWarning: Adding an axes using the same arguments as a previous axes currently reuses the earlier instance.  In a future version, a new instance will always be created and returned.  Meanwhile, this warning can be suppressed, and the future behavior ensured, by passing a unique label to each axes instance.\n"
     ]
    },
    {
     "name": "stdout",
     "output_type": "stream",
     "text": [
      " - frame done.\n",
      "Processing vtk no 139, vtk_time = 1.39e+01..\n",
      " - frame done.\n",
      "Processing vtk no 178, vtk_time = 1.78e+01..\n",
      " - frame done.\n",
      "Processing vtk no 79, vtk_time = 7.90e+00..\n",
      " - frame done.\n",
      "Processing vtk no 99, vtk_time = 9.90e+00..\n"
     ]
    },
    {
     "name": "stderr",
     "output_type": "stream",
     "text": [
      "/home/ppjanka/anaconda3/envs/intsh2/lib/python3.6/site-packages/ipykernel_launcher.py:137: MatplotlibDeprecationWarning: Adding an axes using the same arguments as a previous axes currently reuses the earlier instance.  In a future version, a new instance will always be created and returned.  Meanwhile, this warning can be suppressed, and the future behavior ensured, by passing a unique label to each axes instance.\n",
      "/home/ppjanka/anaconda3/envs/intsh2/lib/python3.6/site-packages/ipykernel_launcher.py:137: MatplotlibDeprecationWarning: Adding an axes using the same arguments as a previous axes currently reuses the earlier instance.  In a future version, a new instance will always be created and returned.  Meanwhile, this warning can be suppressed, and the future behavior ensured, by passing a unique label to each axes instance.\n",
      "/home/ppjanka/anaconda3/envs/intsh2/lib/python3.6/site-packages/ipykernel_launcher.py:137: MatplotlibDeprecationWarning: Adding an axes using the same arguments as a previous axes currently reuses the earlier instance.  In a future version, a new instance will always be created and returned.  Meanwhile, this warning can be suppressed, and the future behavior ensured, by passing a unique label to each axes instance.\n",
      "/home/ppjanka/anaconda3/envs/intsh2/lib/python3.6/site-packages/ipykernel_launcher.py:137: MatplotlibDeprecationWarning: Adding an axes using the same arguments as a previous axes currently reuses the earlier instance.  In a future version, a new instance will always be created and returned.  Meanwhile, this warning can be suppressed, and the future behavior ensured, by passing a unique label to each axes instance.\n"
     ]
    },
    {
     "name": "stdout",
     "output_type": "stream",
     "text": [
      " - frame done.\n",
      "Processing vtk no 59, vtk_time = 5.90e+00..\n",
      " - frame done.\n",
      "Processing vtk no 159, vtk_time = 1.59e+01..\n",
      " - frame done.\n",
      "Processing vtk no 18, vtk_time = 1.80e+00..\n",
      " - frame done.\n",
      "Processing vtk no 39, vtk_time = 3.90e+00..\n"
     ]
    },
    {
     "name": "stderr",
     "output_type": "stream",
     "text": [
      "/home/ppjanka/anaconda3/envs/intsh2/lib/python3.6/site-packages/ipykernel_launcher.py:137: MatplotlibDeprecationWarning: Adding an axes using the same arguments as a previous axes currently reuses the earlier instance.  In a future version, a new instance will always be created and returned.  Meanwhile, this warning can be suppressed, and the future behavior ensured, by passing a unique label to each axes instance.\n",
      "/home/ppjanka/anaconda3/envs/intsh2/lib/python3.6/site-packages/ipykernel_launcher.py:137: MatplotlibDeprecationWarning: Adding an axes using the same arguments as a previous axes currently reuses the earlier instance.  In a future version, a new instance will always be created and returned.  Meanwhile, this warning can be suppressed, and the future behavior ensured, by passing a unique label to each axes instance.\n",
      "/home/ppjanka/anaconda3/envs/intsh2/lib/python3.6/site-packages/ipykernel_launcher.py:137: MatplotlibDeprecationWarning: Adding an axes using the same arguments as a previous axes currently reuses the earlier instance.  In a future version, a new instance will always be created and returned.  Meanwhile, this warning can be suppressed, and the future behavior ensured, by passing a unique label to each axes instance.\n",
      "/home/ppjanka/anaconda3/envs/intsh2/lib/python3.6/site-packages/ipykernel_launcher.py:137: MatplotlibDeprecationWarning: Adding an axes using the same arguments as a previous axes currently reuses the earlier instance.  In a future version, a new instance will always be created and returned.  Meanwhile, this warning can be suppressed, and the future behavior ensured, by passing a unique label to each axes instance.\n"
     ]
    },
    {
     "name": "stdout",
     "output_type": "stream",
     "text": [
      " - frame done.\n",
      "Processing vtk no 120, vtk_time = 1.20e+01..\n",
      " - frame done.\n",
      "Processing vtk no 199, vtk_time = 1.99e+01..\n"
     ]
    },
    {
     "name": "stderr",
     "output_type": "stream",
     "text": [
      "/home/ppjanka/anaconda3/envs/intsh2/lib/python3.6/site-packages/ipykernel_launcher.py:137: MatplotlibDeprecationWarning: Adding an axes using the same arguments as a previous axes currently reuses the earlier instance.  In a future version, a new instance will always be created and returned.  Meanwhile, this warning can be suppressed, and the future behavior ensured, by passing a unique label to each axes instance.\n",
      "/home/ppjanka/anaconda3/envs/intsh2/lib/python3.6/site-packages/ipykernel_launcher.py:137: MatplotlibDeprecationWarning: Adding an axes using the same arguments as a previous axes currently reuses the earlier instance.  In a future version, a new instance will always be created and returned.  Meanwhile, this warning can be suppressed, and the future behavior ensured, by passing a unique label to each axes instance.\n"
     ]
    },
    {
     "name": "stdout",
     "output_type": "stream",
     "text": [
      " - frame done.\n",
      "Processing vtk no 19, vtk_time = 1.90e+00..\n",
      " - frame done.\n",
      "Processing vtk no 140, vtk_time = 1.40e+01..\n",
      " - frame done.\n",
      "Processing vtk no 80, vtk_time = 8.00e+00..\n",
      " - frame done.\n",
      "Processing vtk no 179, vtk_time = 1.79e+01..\n",
      " - frame done.\n",
      "Processing vtk no 160, vtk_time = 1.60e+01..\n",
      " - frame done.\n",
      "Processing vtk no 100, vtk_time = 1.00e+01..\n"
     ]
    },
    {
     "name": "stderr",
     "output_type": "stream",
     "text": [
      "/home/ppjanka/anaconda3/envs/intsh2/lib/python3.6/site-packages/ipykernel_launcher.py:137: MatplotlibDeprecationWarning: Adding an axes using the same arguments as a previous axes currently reuses the earlier instance.  In a future version, a new instance will always be created and returned.  Meanwhile, this warning can be suppressed, and the future behavior ensured, by passing a unique label to each axes instance.\n",
      "/home/ppjanka/anaconda3/envs/intsh2/lib/python3.6/site-packages/ipykernel_launcher.py:137: MatplotlibDeprecationWarning: Adding an axes using the same arguments as a previous axes currently reuses the earlier instance.  In a future version, a new instance will always be created and returned.  Meanwhile, this warning can be suppressed, and the future behavior ensured, by passing a unique label to each axes instance.\n",
      "/home/ppjanka/anaconda3/envs/intsh2/lib/python3.6/site-packages/ipykernel_launcher.py:137: MatplotlibDeprecationWarning: Adding an axes using the same arguments as a previous axes currently reuses the earlier instance.  In a future version, a new instance will always be created and returned.  Meanwhile, this warning can be suppressed, and the future behavior ensured, by passing a unique label to each axes instance.\n",
      "/home/ppjanka/anaconda3/envs/intsh2/lib/python3.6/site-packages/ipykernel_launcher.py:137: MatplotlibDeprecationWarning: Adding an axes using the same arguments as a previous axes currently reuses the earlier instance.  In a future version, a new instance will always be created and returned.  Meanwhile, this warning can be suppressed, and the future behavior ensured, by passing a unique label to each axes instance.\n",
      "/home/ppjanka/anaconda3/envs/intsh2/lib/python3.6/site-packages/ipykernel_launcher.py:137: MatplotlibDeprecationWarning: Adding an axes using the same arguments as a previous axes currently reuses the earlier instance.  In a future version, a new instance will always be created and returned.  Meanwhile, this warning can be suppressed, and the future behavior ensured, by passing a unique label to each axes instance.\n"
     ]
    },
    {
     "name": "stdout",
     "output_type": "stream",
     "text": [
      " - frame done.\n",
      "Processing vtk no 60, vtk_time = 6.00e+00..\n"
     ]
    },
    {
     "name": "stderr",
     "output_type": "stream",
     "text": [
      "/home/ppjanka/anaconda3/envs/intsh2/lib/python3.6/site-packages/ipykernel_launcher.py:137: MatplotlibDeprecationWarning: Adding an axes using the same arguments as a previous axes currently reuses the earlier instance.  In a future version, a new instance will always be created and returned.  Meanwhile, this warning can be suppressed, and the future behavior ensured, by passing a unique label to each axes instance.\n"
     ]
    },
    {
     "name": "stdout",
     "output_type": "stream",
     "text": [
      " - frame done.\n",
      "Processing vtk no 40, vtk_time = 4.00e+00..\n"
     ]
    },
    {
     "name": "stderr",
     "output_type": "stream",
     "text": [
      "/home/ppjanka/anaconda3/envs/intsh2/lib/python3.6/site-packages/ipykernel_launcher.py:137: MatplotlibDeprecationWarning: Adding an axes using the same arguments as a previous axes currently reuses the earlier instance.  In a future version, a new instance will always be created and returned.  Meanwhile, this warning can be suppressed, and the future behavior ensured, by passing a unique label to each axes instance.\n"
     ]
    },
    {
     "name": "stdout",
     "output_type": "stream",
     "text": [
      " - frame done.\n"
     ]
    },
    {
     "name": "stderr",
     "output_type": "stream",
     "text": [
      "/home/ppjanka/anaconda3/envs/intsh2/lib/python3.6/site-packages/ipykernel_launcher.py:137: MatplotlibDeprecationWarning: Adding an axes using the same arguments as a previous axes currently reuses the earlier instance.  In a future version, a new instance will always be created and returned.  Meanwhile, this warning can be suppressed, and the future behavior ensured, by passing a unique label to each axes instance.\n"
     ]
    },
    {
     "name": "stdout",
     "output_type": "stream",
     "text": [
      " - frame done.\n",
      "Processing vtk no 200, vtk_time = 2.00e+01..\n",
      " - frame done.\n",
      "Processing vtk no 20, vtk_time = 2.00e+00..\n"
     ]
    },
    {
     "name": "stderr",
     "output_type": "stream",
     "text": [
      "/home/ppjanka/anaconda3/envs/intsh2/lib/python3.6/site-packages/ipykernel_launcher.py:137: MatplotlibDeprecationWarning: Adding an axes using the same arguments as a previous axes currently reuses the earlier instance.  In a future version, a new instance will always be created and returned.  Meanwhile, this warning can be suppressed, and the future behavior ensured, by passing a unique label to each axes instance.\n"
     ]
    },
    {
     "name": "stdout",
     "output_type": "stream",
     "text": [
      " - frame done.\n",
      " - frame done.\n",
      " - frame done.\n",
      "Processing vtk no 180, vtk_time = 1.80e+01..\n"
     ]
    },
    {
     "name": "stderr",
     "output_type": "stream",
     "text": [
      "/home/ppjanka/anaconda3/envs/intsh2/lib/python3.6/site-packages/ipykernel_launcher.py:137: MatplotlibDeprecationWarning: Adding an axes using the same arguments as a previous axes currently reuses the earlier instance.  In a future version, a new instance will always be created and returned.  Meanwhile, this warning can be suppressed, and the future behavior ensured, by passing a unique label to each axes instance.\n"
     ]
    },
    {
     "name": "stdout",
     "output_type": "stream",
     "text": [
      " - frame done.\n",
      " - frame done.\n"
     ]
    },
    {
     "name": "stderr",
     "output_type": "stream",
     "text": [
      "/home/ppjanka/anaconda3/envs/intsh2/lib/python3.6/site-packages/ipykernel_launcher.py:137: MatplotlibDeprecationWarning: Adding an axes using the same arguments as a previous axes currently reuses the earlier instance.  In a future version, a new instance will always be created and returned.  Meanwhile, this warning can be suppressed, and the future behavior ensured, by passing a unique label to each axes instance.\n"
     ]
    },
    {
     "name": "stdout",
     "output_type": "stream",
     "text": [
      " - frame done.\n",
      " - frame done.\n",
      " - frame done.\n",
      " - frame done.\n",
      " - frame done.\n"
     ]
    }
   ],
   "source": [
    "# now, parallelize the frame generation\n",
    "from pathos.pools import ProcessPool # an alternative to Python's multiprocessing\n",
    "nproc = 10\n",
    "chunks = np.array_split(range(len(vtk_filenames)), nproc)\n",
    "def worker (ichunk):\n",
    "    indices = chunks[ichunk]\n",
    "    data_vtk = None\n",
    "    for i in indices:\n",
    "        data_vtk = dashboard_frame(i_vtk=i, recalculate=force_recalc, previous_data_vtk=data_vtk, history=history, augment_kwargs=default_augment_kwargs, verbose=False)\n",
    "with ProcessPool(nproc) as pool:\n",
    "    _ = pool.map(worker, list(range(nproc)))"
   ]
  },
  {
   "cell_type": "code",
   "execution_count": 16,
   "metadata": {},
   "outputs": [
    {
     "name": "stdout",
     "output_type": "stream",
     "text": [
      "Rendering the movie..\n",
      "ffmpeg -threads 10 -y -r 20 -f image2 -i \"./temp_dashboard/dashboard_%*.png\" -f mp4 -q:v 0 -vcodec mpeg4 -r 20 dashboard.mp4\n"
     ]
    }
   ],
   "source": [
    "# render the movie\n",
    "try:\n",
    "    print(\"Rendering the movie..\", flush=True)\n",
    "    command = (\"ffmpeg -threads %i -y -r 20 -f image2 -i \\\"%sdashboard_%%*.png\\\" -f mp4 -q:v 0 -vcodec mpeg4 -r 20 dashboard.mp4\" % (nproc, outpath,))\n",
    "    print(command, flush=True)\n",
    "    os.system(command)\n",
    "except Exception as e:\n",
    "    print('Error while rendering movie:\\n%s\\n -- please try to manually convert the .png files generated in %s.' % (e, tempdir), flush=True)"
   ]
  },
  {
   "cell_type": "code",
   "execution_count": 17,
   "metadata": {
    "scrolled": false
   },
   "outputs": [
    {
     "ename": "IndexError",
     "evalue": "list index out of range",
     "output_type": "error",
     "traceback": [
      "\u001b[0;31m---------------------------------------------------------------------------\u001b[0m",
      "\u001b[0;31mIndexError\u001b[0m                                Traceback (most recent call last)",
      "\u001b[0;32m<ipython-input-17-b932266cabbf>\u001b[0m in \u001b[0;36m<module>\u001b[0;34m()\u001b[0m\n\u001b[1;32m      1\u001b[0m \u001b[0;31m#data_vtk =\u001b[0m\u001b[0;34m\u001b[0m\u001b[0;34m\u001b[0m\u001b[0;34m\u001b[0m\u001b[0m\n\u001b[0;32m----> 2\u001b[0;31m \u001b[0mdashboard_frame\u001b[0m\u001b[0;34m(\u001b[0m\u001b[0;36m800\u001b[0m\u001b[0;34m,\u001b[0m \u001b[0msave\u001b[0m\u001b[0;34m=\u001b[0m\u001b[0;32mFalse\u001b[0m\u001b[0;34m,\u001b[0m \u001b[0mhistory\u001b[0m\u001b[0;34m=\u001b[0m\u001b[0;32mNone\u001b[0m\u001b[0;34m)\u001b[0m\u001b[0;34m\u001b[0m\u001b[0;34m\u001b[0m\u001b[0m\n\u001b[0m",
      "\u001b[0;32m<ipython-input-13-abe2bc52343b>\u001b[0m in \u001b[0;36mdashboard_frame\u001b[0;34m(i_vtk, verbose, save, recalculate, previous_data_vtk, history, augment_kwargs)\u001b[0m\n\u001b[1;32m      8\u001b[0m     \u001b[0;32mfrom\u001b[0m \u001b[0mread_vtk\u001b[0m \u001b[0;32mimport\u001b[0m \u001b[0mvtk\u001b[0m\u001b[0;34m\u001b[0m\u001b[0;34m\u001b[0m\u001b[0m\n\u001b[1;32m      9\u001b[0m \u001b[0;34m\u001b[0m\u001b[0m\n\u001b[0;32m---> 10\u001b[0;31m     \u001b[0mfileno\u001b[0m \u001b[0;34m=\u001b[0m \u001b[0mint\u001b[0m\u001b[0;34m(\u001b[0m\u001b[0mvtk_filenames\u001b[0m\u001b[0;34m[\u001b[0m\u001b[0mi_vtk\u001b[0m\u001b[0;34m]\u001b[0m\u001b[0;34m.\u001b[0m\u001b[0msplit\u001b[0m\u001b[0;34m(\u001b[0m\u001b[0;34m'/'\u001b[0m\u001b[0;34m)\u001b[0m\u001b[0;34m[\u001b[0m\u001b[0;34m-\u001b[0m\u001b[0;36m1\u001b[0m\u001b[0;34m]\u001b[0m\u001b[0;34m.\u001b[0m\u001b[0msplit\u001b[0m\u001b[0;34m(\u001b[0m\u001b[0;34m'.'\u001b[0m\u001b[0;34m)\u001b[0m\u001b[0;34m[\u001b[0m\u001b[0;34m-\u001b[0m\u001b[0;36m2\u001b[0m\u001b[0;34m]\u001b[0m\u001b[0;34m)\u001b[0m\u001b[0;34m\u001b[0m\u001b[0;34m\u001b[0m\u001b[0m\n\u001b[0m\u001b[1;32m     11\u001b[0m     \u001b[0mvtk_time\u001b[0m \u001b[0;34m=\u001b[0m \u001b[0mfileno\u001b[0m \u001b[0;34m*\u001b[0m \u001b[0mout_dt_vtk\u001b[0m \u001b[0;31m# presumably we can trust this..\u001b[0m\u001b[0;34m\u001b[0m\u001b[0;34m\u001b[0m\u001b[0m\n\u001b[1;32m     12\u001b[0m \u001b[0;34m\u001b[0m\u001b[0m\n",
      "\u001b[0;31mIndexError\u001b[0m: list index out of range"
     ]
    }
   ],
   "source": [
    "#data_vtk = \n",
    "dashboard_frame(800, save=False, history=None)"
   ]
  },
  {
   "cell_type": "code",
   "execution_count": null,
   "metadata": {},
   "outputs": [],
   "source": [
    "import sys; sys.exit()\n",
    "data_vtk.keys()"
   ]
  },
  {
   "cell_type": "code",
   "execution_count": null,
   "metadata": {},
   "outputs": [],
   "source": [
    "import matplotlib.pyplot as plt\n",
    "plt.clf()\n",
    "ax = plt.gca()\n",
    "plt.plot(data_vtk['x1v'], data_vtk['j_nu_vsZ'] * sim2phys['j_nu_vsZ'], 'k-')\n",
    "plt.gca().axes.xaxis.set_ticklabels([])\n",
    "plt.ylabel('$j_{\\\\nu}(1.4$ PHz$)$ [ erg $/$ cm$^3$ ]')\n",
    "ax.set_xlim(min(data_vtk['x1v']), max(data_vtk['x1v']))\n",
    "\n",
    "ax2 = plt.twinx()\n",
    "if False:\n",
    "    plt.plot(data_vtk['x1v'], data_vtk['j_over_alpha_nu_vsZ'] * sim2phys['j_over_alpha_nu_vsZ'], 'b-')\n",
    "    plt.ylabel('$j_{\\\\nu}/\\\\alpha_{\\\\nu}(1.4$ PHz$)$ [ erg $/$ cm$^2$ ]')\n",
    "elif False:\n",
    "    plt.plot(data_vtk['x1v'], data_vtk['alpha_nu_vsZ'], 'b-')\n",
    "    plt.ylabel('$\\\\alpha_{\\\\nu}(1.4$ PHz$)$ [...]')\n",
    "else:\n",
    "    plt.plot(data_vtk['x1v'], data_vtk['flux_density_vsZ'], 'b-')\n",
    "    plt.ylabel('F [...]')\n",
    "ax2.spines['right'].set_color('b')\n",
    "ax2.tick_params(axis='y', which='both', colors='b')\n",
    "ax2.yaxis.label.set_color('b')\n",
    "\n",
    "ax3 = plt.twinx()\n",
    "plt.plot(data_vtk['x1v'], data_vtk['rho'][0,:], 'r-')\n",
    "plt.ylabel('rho')\n",
    "ax3.spines['right'].set_color('b')\n",
    "ax3.tick_params(axis='y', which='both', colors='r')\n",
    "ax3.yaxis.label.set_color('r')\n",
    "\n",
    "plt.show()\n",
    "plt.close()"
   ]
  },
  {
   "cell_type": "code",
   "execution_count": null,
   "metadata": {},
   "outputs": [],
   "source": [
    "plt.clf()\n",
    "#mask = (data_vtk['rho'][0,:] > 2.01e-6)\n",
    "data_to_plot = data_vtk['rho'][0,:]\n",
    "#data_to_plot = data_to_plot[mask]\n",
    "plt.plot(data_vtk['x1v'], data_to_plot)\n",
    "plt.gca().set_yscale('log')\n",
    "plt.show()\n",
    "plt.close()"
   ]
  },
  {
   "cell_type": "code",
   "execution_count": null,
   "metadata": {},
   "outputs": [],
   "source": [
    "print(data_vtk['j_over_alpha_nu_vsZ'][data_vtk['j_over_alpha_nu_vsZ'] < np.inf])\n",
    "print(data_vtk['j_nu_vsZ'][data_vtk['j_over_alpha_nu_vsZ'] < np.inf])\n",
    "print(data_vtk['alpha_nu_vsZ'][data_vtk['j_over_alpha_nu_vsZ'] < np.inf])\n",
    "print(data_vtk['Bcc_fluid_tot_vsZ'][data_vtk['j_over_alpha_nu_vsZ'] < np.inf])\n",
    "print(data_vtk['flux_density'][:,data_vtk['j_over_alpha_nu_vsZ'] < np.inf])"
   ]
  },
  {
   "cell_type": "code",
   "execution_count": null,
   "metadata": {},
   "outputs": [],
   "source": [
    "force_recalc"
   ]
  },
  {
   "cell_type": "code",
   "execution_count": null,
   "metadata": {},
   "outputs": [],
   "source": []
  }
 ],
 "metadata": {
  "kernelspec": {
   "display_name": "Python 3",
   "language": "python",
   "name": "python3"
  },
  "language_info": {
   "codemirror_mode": {
    "name": "ipython",
    "version": 3
   },
   "file_extension": ".py",
   "mimetype": "text/x-python",
   "name": "python",
   "nbconvert_exporter": "python",
   "pygments_lexer": "ipython3",
   "version": "3.6.13"
  }
 },
 "nbformat": 4,
 "nbformat_minor": 2
}
