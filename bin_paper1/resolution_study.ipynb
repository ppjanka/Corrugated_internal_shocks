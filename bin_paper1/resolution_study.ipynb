{
 "cells": [
  {
   "cell_type": "code",
   "execution_count": 27,
   "metadata": {},
   "outputs": [],
   "source": [
    "import numpy as np\n",
    "import pickle as pkl\n",
    "import matplotlib.pyplot as plt\n",
    "from matplotlib.gridspec import GridSpec\n",
    "import os\n",
    "import glob\n",
    "import sys\n",
    "from tqdm import tqdm\n",
    "from scipy import signal\n",
    "import pandas as pd"
   ]
  },
  {
   "cell_type": "code",
   "execution_count": 37,
   "metadata": {},
   "outputs": [],
   "source": [
    "def measure_shocks (suite, amplitudes=(1,2,5,10,20,50,75,100)):\n",
    "    \n",
    "    for ampl in amplitudes:\n",
    "\n",
    "        print(f'Amplitude: {ampl}', flush=True)\n",
    "\n",
    "        plt.figure(figsize=(8,8))\n",
    "        gs = GridSpec(3,2)\n",
    "\n",
    "        # first, find the collision time using 1D data\n",
    "\n",
    "        rhomax = []\n",
    "        rho_prev = np.inf; i_start = 0\n",
    "        for i in tqdm(range(len(os.listdir(f'/DATA/Dropbox/LOOTRPV/astro_projects/2020_IntSh2/athena4p2/bin_paper1/{suite}/prod1_corr_ampl/results_corr0ampl{ampl}/joined_vtk')))):\n",
    "            with open(f'/DATA/Dropbox/LOOTRPV/astro_projects/2020_IntSh2/athena4p2/bin_paper1/{suite}/prod1_corr_ampl/results_corr0ampl{ampl}/joined_vtk/IntSh2-p1.{i:04d}.vtk.pkl', 'rb') as f:\n",
    "                data = pkl.load(f)[0]\n",
    "            rho = np.max(data['rho'])\n",
    "            if rho > rho_prev: # ignore the initial decompression\n",
    "                rhomax.append(rho)\n",
    "                rho_prev = -np.inf\n",
    "                if not i_start: i_start = i\n",
    "            else:\n",
    "                rho_prev = rho\n",
    "                continue\n",
    "            del data\n",
    "\n",
    "        i_coll = np.argmax(rhomax)+i_start\n",
    "        print(f' - maximum shock compression at i = {i_coll}', flush=True)\n",
    "\n",
    "        plt.subplot(gs[0,0])\n",
    "        plt.plot(range(len(rhomax)), rhomax)\n",
    "        plt.axvline(i_coll-i_start, color='r')\n",
    "\n",
    "        with open(f'/DATA/Dropbox/LOOTRPV/astro_projects/2020_IntSh2/athena4p2/bin_paper1/{suite}/prod1_corr_ampl/results_corr0ampl{ampl}/joined_vtk/IntSh2-p1.{i_coll:04d}.vtk.pkl', 'rb') as f:\n",
    "            data = pkl.load(f)[0]\n",
    "        rho = np.max(data['rho'])\n",
    "\n",
    "        plt.subplot(gs[0,1])\n",
    "        plt.contourf(data['x1v'], data['x2v'], data['rho'], 64)\n",
    "        plt.xlim(-1,1)\n",
    "\n",
    "        # then, fine-tune on 2D data ------------------------------------------\n",
    "        try:\n",
    "\n",
    "            margin = 1.0 # how far from the center do we expect the shock\n",
    "            dvel_threshold = 0.1\n",
    "            rhomax = []\n",
    "            rho_prev = np.inf; i_start = 0\n",
    "\n",
    "            # load the snapshot\n",
    "            with open(f'/DATA/Dropbox/LOOTRPV/astro_projects/2020_IntSh2/athena4p2/bin_paper1/{suite}/prod1_corr_ampl/results_corr1ampl{ampl}/joined_vtk/IntSh2-p1.{i_coll:04d}.vtk.pkl', 'rb') as f:\n",
    "                data = pkl.load(f)[0]\n",
    "\n",
    "            # basic properties\n",
    "            dx = data['x1v'][1] - data['x1v'][0]\n",
    "            middle = len(data['x1v']) // 2\n",
    "            idx_margin = int(margin / dx)\n",
    "\n",
    "            # find the shock front by local extrema of dvx/dx\n",
    "            vel = data['vel1'][:,(middle-idx_margin):(middle+idx_margin)]\n",
    "            dvel = signal.convolve2d(vel, [[-1,1]], mode='valid')\n",
    "            xavg = 0.5*(data['x1v'][(middle-idx_margin+1):(middle+idx_margin)] + data['x1v'][(middle-idx_margin):(middle+idx_margin-1)])\n",
    "\n",
    "            shock_y, shock_x = map(np.array, np.where(np.abs(dvel) > dvel_threshold))\n",
    "\n",
    "            plt.subplot(gs[1,0])\n",
    "            plt.plot(xavg, dvel[10,:])\n",
    "            plt.xlim(-margin,margin)\n",
    "\n",
    "            plt.subplot(gs[1,1])\n",
    "            plt.contourf(xavg, data['x2v'], dvel, 64)\n",
    "            plt.scatter(\n",
    "                [xavg[x] for x in shock_x],\n",
    "                [data['x2v'][y] for y in shock_y],\n",
    "                color='r', s=0.05\n",
    "            )\n",
    "\n",
    "            # calculate the shock centroid\n",
    "            df_shocks = pd.DataFrame(data=np.transpose((shock_y, shock_x)), columns=('shock_y', 'shock_x'))\n",
    "            shock_x = df_shocks.groupby('shock_y').mean().shock_x.to_numpy()\n",
    "\n",
    "            plt.scatter(\n",
    "                [xavg[x] for x in shock_x.astype(int)],\n",
    "                [data['x2v'][y] for y in df_shocks.shock_y.unique().astype(int)],\n",
    "                color='g', s=0.05\n",
    "            )\n",
    "            plt.xlim(-1,1)\n",
    "\n",
    "            # discard outliers, calculate corrugation resolution\n",
    "            plt.subplot(gs[2,:])\n",
    "            n, bins, patches = plt.hist(shock_x, idx_margin // 4)\n",
    "\n",
    "            bins = 0.5*(bins[1:] + bins[:-1])\n",
    "            shock_x = bins[np.where(n > np.mean(n))[0]]\n",
    "            shock_edges = np.min(shock_x), np.max(shock_x)\n",
    "\n",
    "            for e in shock_edges:\n",
    "                plt.axvline(e, color='r')\n",
    "\n",
    "            shock_width = shock_edges[1] - shock_edges[0]\n",
    "            print(f' - shock width is {shock_width:.1f}', flush=True)\n",
    "\n",
    "            plt.show(); plt.close()\n",
    "\n",
    "        except FileNotFoundError:\n",
    "            plt.close()\n",
    "            print(' - 2D snapshot not found. Continuing.', flush=True)\n",
    "\n",
    "    print('Done.', flush=True)"
   ]
  },
  {
   "cell_type": "code",
   "execution_count": 38,
   "metadata": {
    "scrolled": false
   },
   "outputs": [
    {
     "name": "stdout",
     "output_type": "stream",
     "text": [
      "Amplitude: 1\n"
     ]
    },
    {
     "name": "stderr",
     "output_type": "stream",
     "text": [
      "100%|██████████| 201/201 [00:00<00:00, 624.26it/s]\n"
     ]
    },
    {
     "name": "stdout",
     "output_type": "stream",
     "text": [
      " - maximum shock compression at i = 52\n",
      " - shock width is 14.8\n"
     ]
    },
    {
     "data": {
      "image/png": "[encoded data removed]",
      "text/plain": [
       "<Figure size 576x576 with 5 Axes>"
      ]
     },
     "metadata": {},
     "output_type": "display_data"
    },
    {
     "name": "stdout",
     "output_type": "stream",
     "text": [
      "Amplitude: 2\n"
     ]
    },
    {
     "name": "stderr",
     "output_type": "stream",
     "text": [
      "100%|██████████| 201/201 [00:00<00:00, 731.29it/s]\n"
     ]
    },
    {
     "name": "stdout",
     "output_type": "stream",
     "text": [
      " - maximum shock compression at i = 42\n",
      " - 2D snapshot not found. Continuing.\n",
      "Amplitude: 5\n"
     ]
    },
    {
     "name": "stderr",
     "output_type": "stream",
     "text": [
      "100%|██████████| 201/201 [00:00<00:00, 942.23it/s] \n"
     ]
    },
    {
     "name": "stdout",
     "output_type": "stream",
     "text": [
      " - maximum shock compression at i = 38\n",
      " - 2D snapshot not found. Continuing.\n",
      "Amplitude: 10\n"
     ]
    },
    {
     "name": "stderr",
     "output_type": "stream",
     "text": [
      "100%|██████████| 201/201 [00:00<00:00, 1028.69it/s]\n"
     ]
    },
    {
     "name": "stdout",
     "output_type": "stream",
     "text": [
      " - maximum shock compression at i = 44\n",
      " - 2D snapshot not found. Continuing.\n",
      "Amplitude: 20\n"
     ]
    },
    {
     "name": "stderr",
     "output_type": "stream",
     "text": [
      "100%|██████████| 201/201 [00:00<00:00, 559.57it/s]\n"
     ]
    },
    {
     "name": "stdout",
     "output_type": "stream",
     "text": [
      " - maximum shock compression at i = 49\n",
      " - 2D snapshot not found. Continuing.\n",
      "Amplitude: 50\n"
     ]
    },
    {
     "name": "stderr",
     "output_type": "stream",
     "text": [
      "100%|██████████| 201/201 [00:00<00:00, 694.70it/s]\n"
     ]
    },
    {
     "name": "stdout",
     "output_type": "stream",
     "text": [
      " - maximum shock compression at i = 58\n",
      " - 2D snapshot not found. Continuing.\n",
      "Amplitude: 75\n"
     ]
    },
    {
     "name": "stderr",
     "output_type": "stream",
     "text": [
      "100%|██████████| 201/201 [00:00<00:00, 673.29it/s]\n"
     ]
    },
    {
     "name": "stdout",
     "output_type": "stream",
     "text": [
      " - maximum shock compression at i = 61\n",
      " - 2D snapshot not found. Continuing.\n",
      "Amplitude: 100\n"
     ]
    },
    {
     "name": "stderr",
     "output_type": "stream",
     "text": [
      "100%|██████████| 201/201 [00:00<00:00, 1151.92it/s]\n"
     ]
    },
    {
     "name": "stdout",
     "output_type": "stream",
     "text": [
      " - maximum shock compression at i = 65\n",
      " - 2D snapshot not found. Continuing.\n",
      "Done.\n"
     ]
    }
   ],
   "source": [
    "measure_shocks('corrT1_dens')"
   ]
  },
  {
   "cell_type": "code",
   "execution_count": 39,
   "metadata": {},
   "outputs": [
    {
     "name": "stdout",
     "output_type": "stream",
     "text": [
      "Amplitude: 20\n"
     ]
    },
    {
     "name": "stderr",
     "output_type": "stream",
     "text": [
      "100%|██████████| 201/201 [00:00<00:00, 1167.31it/s]"
     ]
    },
    {
     "name": "stdout",
     "output_type": "stream",
     "text": [
      " - maximum shock compression at i = 47\n"
     ]
    },
    {
     "name": "stderr",
     "output_type": "stream",
     "text": [
      "\n"
     ]
    },
    {
     "name": "stdout",
     "output_type": "stream",
     "text": [
      " - 2D snapshot not found. Continuing.\n",
      "Done.\n"
     ]
    }
   ],
   "source": [
    "measure_shocks('corrT2_press', amplitudes=[20,])"
   ]
  },
  {
   "cell_type": "code",
   "execution_count": 55,
   "metadata": {},
   "outputs": [
    {
     "name": "stderr",
     "output_type": "stream",
     "text": [
      "100%|██████████| 201/201 [00:00<00:00, 1114.78it/s]\n"
     ]
    },
    {
     "name": "stdout",
     "output_type": "stream",
     "text": [
      "Maximum shock compression at i = 48\n"
     ]
    },
    {
     "data": {
      "image/png": "[encoded data removed]",
      "text/plain": [
       "<Figure size 432x288 with 1 Axes>"
      ]
     },
     "metadata": {},
     "output_type": "display_data"
    },
    {
     "data": {
      "image/png": "[encoded data removed]",
      "text/plain": [
       "<Figure size 432x288 with 1 Axes>"
      ]
     },
     "metadata": {},
     "output_type": "display_data"
    }
   ],
   "source": [
    "measure_shocks('corrT3_vel')"
   ]
  },
  {
   "cell_type": "code",
   "execution_count": null,
   "metadata": {},
   "outputs": [],
   "source": []
  }
 ],
 "metadata": {
  "kernelspec": {
   "display_name": "Python 3",
   "language": "python",
   "name": "python3"
  },
  "language_info": {
   "codemirror_mode": {
    "name": "ipython",
    "version": 3
   },
   "file_extension": ".py",
   "mimetype": "text/x-python",
   "name": "python",
   "nbconvert_exporter": "python",
   "pygments_lexer": "ipython3",
   "version": "3.6.13"
  }
 },
 "nbformat": 4,
 "nbformat_minor": 2
}
