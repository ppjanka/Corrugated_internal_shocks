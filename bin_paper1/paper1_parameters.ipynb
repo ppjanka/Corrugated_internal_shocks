{
 "cells": [
  {
   "cell_type": "code",
   "execution_count": 1,
   "metadata": {},
   "outputs": [],
   "source": [
    "import numpy as np\n",
    "import matplotlib.pyplot as plt"
   ]
  },
  {
   "cell_type": "code",
   "execution_count": 3,
   "metadata": {},
   "outputs": [],
   "source": [
    "def gamma2v (gamma):\n",
    "    return np.sqrt(1.-1./(gamma**2))\n",
    "def v2gamma (v):\n",
    "    return 1./np.sqrt(1.-v**2)"
   ]
  },
  {
   "cell_type": "code",
   "execution_count": 61,
   "metadata": {},
   "outputs": [],
   "source": [
    "# From Drappeau (2015) for GX339-4\n",
    "rel_rms = 0.356 # RMS(d(gamma-1))/(<gamma>-1)\n",
    "gamma_j = np.array([1.5,2,4])\n",
    "# we have selected 2 in our estimations (see Overleaf)\n",
    "gamma_j = 2.0"
   ]
  },
  {
   "cell_type": "code",
   "execution_count": 72,
   "metadata": {},
   "outputs": [
    {
     "name": "stdout",
     "output_type": "stream",
     "text": [
      "[2.356 1.644]\n",
      "[0.90545221 0.79372826]\n"
     ]
    }
   ],
   "source": [
    "# calculate the speeds of two shells each rms away from the mean flow speed\n",
    "gamma_sh = np.array([(2.0+rel_rms) * (gamma_j-1.0), (2.0-rel_rms) * (gamma_j-1.0)])\n",
    "v_sh = gamma2v(gamma_sh)\n",
    "print(gamma_sh)\n",
    "print(v_sh)"
   ]
  },
  {
   "cell_type": "code",
   "execution_count": 73,
   "metadata": {},
   "outputs": [
    {
     "name": "stdout",
     "output_type": "stream",
     "text": [
      "0.8595336705469252\n",
      "[ 0.20708904 -0.20708904]\n",
      "[1.02215824 1.02215824]\n"
     ]
    }
   ],
   "source": [
    "# transform to the center-of-momentum frame\n",
    "v_com = np.sum(gamma_sh*v_sh) / np.sum(gamma_sh)\n",
    "print(v_com)\n",
    "v_sh_com = (v_sh-v_com) / (1.0 - v_sh*v_com)\n",
    "print(v_sh_com)\n",
    "gamma_sh_com = v2gamma(v_sh_com)\n",
    "print(gamma_sh_com)"
   ]
  },
  {
   "cell_type": "code",
   "execution_count": 74,
   "metadata": {},
   "outputs": [
    {
     "name": "stdout",
     "output_type": "stream",
     "text": [
      "-0.3971461173219567\n",
      "1.0896149535690385\n"
     ]
    }
   ],
   "source": [
    "# what is the relative speed of the shells\n",
    "v_rel = (v_sh[1]-v_sh[0]) / (1.0 - np.product(v_sh))\n",
    "print(v_rel)\n",
    "gamma_rel = v2gamma(v_rel)\n",
    "print(gamma_rel)"
   ]
  },
  {
   "cell_type": "code",
   "execution_count": 79,
   "metadata": {},
   "outputs": [
    {
     "data": {
      "image/png": "[encoded data removed]",
      "text/plain": [
       "<Figure size 432x288 with 1 Axes>"
      ]
     },
     "metadata": {},
     "output_type": "display_data"
    }
   ],
   "source": [
    "def sigmoid (x):\n",
    "    return 1./(1.+np.exp(-x))\n",
    "\n",
    "spread = 2.\n",
    "x = np.linspace(-0.5*spread, 0.5*spread, 32)\n",
    "y = sigmoid(x*(2.*np.pi/spread)) * (v_sh_com[1]-v_sh_com[0]) + v_sh_com[0]\n",
    "\n",
    "plt.plot(x,y)\n",
    "plt.show()\n",
    "plt.close()"
   ]
  },
  {
   "cell_type": "code",
   "execution_count": null,
   "metadata": {},
   "outputs": [],
   "source": []
  }
 ],
 "metadata": {
  "kernelspec": {
   "display_name": "Python 3",
   "language": "python",
   "name": "python3"
  },
  "language_info": {
   "codemirror_mode": {
    "name": "ipython",
    "version": 3
   },
   "file_extension": ".py",
   "mimetype": "text/x-python",
   "name": "python",
   "nbconvert_exporter": "python",
   "pygments_lexer": "ipython3",
   "version": "3.6.13"
  }
 },
 "nbformat": 4,
 "nbformat_minor": 2
}
