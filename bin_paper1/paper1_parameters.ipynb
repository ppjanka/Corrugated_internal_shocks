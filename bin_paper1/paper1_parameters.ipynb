{
 "cells": [
  {
   "cell_type": "code",
   "execution_count": 1,
   "metadata": {},
   "outputs": [],
   "source": [
    "import numpy as np\n",
    "import matplotlib.pyplot as plt"
   ]
  },
  {
   "cell_type": "code",
   "execution_count": 3,
   "metadata": {},
   "outputs": [],
   "source": [
    "def gamma2v (gamma):\n",
    "    return np.sqrt(1.-1./(gamma**2))\n",
    "def v2gamma (v):\n",
    "    return 1./np.sqrt(1.-v**2)"
   ]
  },
  {
   "cell_type": "code",
   "execution_count": 61,
   "metadata": {},
   "outputs": [],
   "source": [
    "# From Drappeau (2015) for GX339-4\n",
    "rel_rms = 0.356 # RMS(d(gamma-1))/(<gamma>-1)\n",
    "gamma_j = np.array([1.5,2,4])\n",
    "# we have selected 2 in our estimations (see Overleaf)\n",
    "gamma_j = 2.0"
   ]
  },
  {
   "cell_type": "code",
   "execution_count": 72,
   "metadata": {},
   "outputs": [
    {
     "name": "stdout",
     "output_type": "stream",
     "text": [
      "[2.356 1.644]\n",
      "[0.90545221 0.79372826]\n"
     ]
    }
   ],
   "source": [
    "# calculate the speeds of two shells each rms away from the mean flow speed\n",
    "gamma_sh = np.array([(2.0+rel_rms) * (gamma_j-1.0), (2.0-rel_rms) * (gamma_j-1.0)])\n",
    "v_sh = gamma2v(gamma_sh)\n",
    "print(gamma_sh)\n",
    "print(v_sh)"
   ]
  },
  {
   "cell_type": "code",
   "execution_count": 73,
   "metadata": {},
   "outputs": [
    {
     "name": "stdout",
     "output_type": "stream",
     "text": [
      "0.8595336705469252\n",
      "[ 0.20708904 -0.20708904]\n",
      "[1.02215824 1.02215824]\n"
     ]
    }
   ],
   "source": [
    "# transform to the center-of-momentum frame\n",
    "v_com = np.sum(gamma_sh*v_sh) / np.sum(gamma_sh)\n",
    "print(v_com)\n",
    "v_sh_com = (v_sh-v_com) / (1.0 - v_sh*v_com)\n",
    "print(v_sh_com)\n",
    "gamma_sh_com = v2gamma(v_sh_com)\n",
    "print(gamma_sh_com)"
   ]
  },
  {
   "cell_type": "code",
   "execution_count": 74,
   "metadata": {},
   "outputs": [
    {
     "name": "stdout",
     "output_type": "stream",
     "text": [
      "-0.3971461173219567\n",
      "1.0896149535690385\n"
     ]
    }
   ],
   "source": [
    "# what is the relative speed of the shells\n",
    "v_rel = (v_sh[1]-v_sh[0]) / (1.0 - np.product(v_sh))\n",
    "print(v_rel)\n",
    "gamma_rel = v2gamma(v_rel)\n",
    "print(gamma_rel)"
   ]
  },
  {
   "cell_type": "code",
   "execution_count": 79,
   "metadata": {},
   "outputs": [
    {
     "data": {
      "image/png": "[encoded data removed]",
      "text/plain": [
       "<Figure size 432x288 with 1 Axes>"
      ]
     },
     "metadata": {},
     "output_type": "display_data"
    }
   ],
   "source": [
    "def sigmoid (x):\n",
    "    return 1./(1.+np.exp(-x))\n",
    "\n",
    "spread = 2.\n",
    "x = np.linspace(-0.5*spread, 0.5*spread, 32)\n",
    "y = sigmoid(x*(2.*np.pi/spread)) * (v_sh_com[1]-v_sh_com[0]) + v_sh_com[0]\n",
    "\n",
    "plt.plot(x,y)\n",
    "plt.show()\n",
    "plt.close()"
   ]
  },
  {
   "cell_type": "code",
   "execution_count": 86,
   "metadata": {},
   "outputs": [],
   "source": [
    "import sympy as sym\n",
    "import numpy as np\n",
    "import matplotlib.pyplot as plt\n",
    "from tqdm import tqdm"
   ]
  },
  {
   "cell_type": "code",
   "execution_count": 127,
   "metadata": {},
   "outputs": [
    {
     "name": "stdout",
     "output_type": "stream",
     "text": [
      "A₀⋅sin(c⋅y + d)⋅cos(a⋅x + b)\n",
      "⎡⎛   π⎞  ⎛   3⋅π⎞  ⎛  -π     π⋅(3⋅x₁ - x₂)⎞  ⎛   π     π⋅(x₁ - 3⋅x₂)⎞⎤\n",
      "⎢⎜0, ─⎟, ⎜0, ───⎟, ⎜───────, ─────────────⎟, ⎜───────, ─────────────⎟⎥\n",
      "⎣⎝   2⎠  ⎝    2 ⎠  ⎝x₁ - x₂   2⋅(x₁ - x₂) ⎠  ⎝x₁ - x₂   2⋅(x₁ - x₂) ⎠⎦\n",
      "      ⎛ π⋅n⋅y      π⋅n⋅y₁ ⎞    ⎛  π⋅x     π⋅(x₁ - 3⋅x₂)⎞\n",
      "A₀⋅sin⎜──────── - ────────⎟⋅cos⎜─────── + ─────────────⎟\n",
      "      ⎝-y₁ + y₂   -y₁ + y₂⎠    ⎝x₁ - x₂    2⋅(x₁ - x₂) ⎠\n",
      " 2   2  2    2⎛  π⋅x     π⋅(x₁ - 3⋅x₂)⎞    2⎛ π⋅n⋅y      π⋅n⋅y₁ ⎞    2   2    \n",
      "π ⋅A₀ ⋅n ⋅cos ⎜─────── + ─────────────⎟⋅cos ⎜──────── - ────────⎟   π ⋅A₀ ⋅sin\n",
      "              ⎝x₁ - x₂    2⋅(x₁ - x₂) ⎠     ⎝-y₁ + y₂   -y₁ + y₂⎠             \n",
      "───────────────────────────────────────────────────────────────── + ──────────\n",
      "                                     2                                        \n",
      "                           (-y₁ + y₂)                                         \n",
      "\n",
      "2⎛  π⋅x     π⋅(x₁ - 3⋅x₂)⎞    2⎛ π⋅n⋅y      π⋅n⋅y₁ ⎞\n",
      " ⎜─────── + ─────────────⎟⋅sin ⎜──────── - ────────⎟\n",
      " ⎝x₁ - x₂    2⋅(x₁ - x₂) ⎠     ⎝-y₁ + y₂   -y₁ + y₂⎠\n",
      "────────────────────────────────────────────────────\n",
      "                         2                          \n",
      "                (x₁ - x₂)                           \n",
      "A_0*sin(M_PI*n*y/(-y_1 + y_2) - M_PI*n*y_1/(-y_1 + y_2))*cos(M_PI*x/(x_1 - x_2) + (1.0/2.0)*M_PI*(x_1 - 3*x_2)/(x_1 - x_2))\n"
     ]
    }
   ],
   "source": [
    "A0 = sym.Symbol('A_0')\n",
    "a, b, c, d = sym.symbols('a b c d')\n",
    "x,y = sym.symbols('x y')\n",
    "x1,x2, y1,y2 = sym.symbols('x_1 x_2 y_1 y_2')\n",
    "Az = sym.symbols('A_z', cls=sym.Function)(x,y)\n",
    "\n",
    "Az = A0 * sym.cos(a*x+b) * sym.sin(c*y+d)\n",
    "sym.pprint(Az)\n",
    "\n",
    "# check boundary conditions\n",
    "bcond = sym.solve(\n",
    "    (\n",
    "        sym.diff(Az.subs({x:x1}),y), # const on left boundary\n",
    "        sym.diff(Az.subs({x:x2}),y), # const on right boundary\n",
    "    ),\n",
    "    (a,b)\n",
    ")\n",
    "sym.pprint(bcond)\n",
    "isol = 3\n",
    "Az = Az.subs({a:bcond[isol][0], b:bcond[isol][1]})\n",
    "\n",
    "# choose a solution for y-periodicity\n",
    "n = sym.Symbol('n')\n",
    "Az = Az.subs({c:n*sym.pi/(y2-y1), d:-y1*n*sym.pi/(y2-y1)})\n",
    "sym.pprint(Az)\n",
    "\n",
    "# calculate B components\n",
    "Bx = sym.diff(Az,y)\n",
    "By = -sym.diff(Az,x)\n",
    "\n",
    "# calculate the Bfield strength profile\n",
    "#Bsqr = sym.diff(Az,x)**2 + sym.diff(Az,y)**2\n",
    "Bsqr = Bx**2 + By**2\n",
    "sym.pprint(Bsqr)\n",
    "\n",
    "# calculate the total magnetic energy -- needed to normalize the profile and ensure fair comparison\n",
    "# might need to do this numerically in the problem gen\n",
    "#Btot = sym.integrate(Bsqr, (x,x1,x2), (y,y1,y2))\n",
    "#sym.pprint(Btot)\n",
    "\n",
    "sym.print_ccode(Az)"
   ]
  },
  {
   "cell_type": "code",
   "execution_count": 125,
   "metadata": {},
   "outputs": [
    {
     "name": "stderr",
     "output_type": "stream",
     "text": [
      "100%|██████████| 256/256 [00:00<00:00, 117016.33it/s]\n",
      "100%|██████████| 256/256 [00:00<00:00, 99117.68it/s]\n",
      "100%|██████████| 16384/16384 [00:00<00:00, 129737.48it/s]\n",
      "100%|██████████| 256/256 [00:00<00:00, 271146.93it/s]"
     ]
    },
    {
     "name": "stdout",
     "output_type": "stream",
     "text": [
      "     2    2         2                     2    2         2                 \n",
      "1.0⋅π ⋅sin (π⋅y)⋅sin (1.0⋅π⋅x - 2.0⋅π) + π ⋅cos (π⋅y)⋅cos (1.0⋅π⋅x - 2.0⋅π)\n"
     ]
    },
    {
     "name": "stderr",
     "output_type": "stream",
     "text": [
      "\n",
      "/home/ppjanka/anaconda3/envs/intsh2/lib/python3.6/site-packages/ipykernel_launcher.py:42: RuntimeWarning: invalid value encountered in true_divide\n",
      "/home/ppjanka/anaconda3/envs/intsh2/lib/python3.6/site-packages/ipykernel_launcher.py:43: RuntimeWarning: invalid value encountered in true_divide\n"
     ]
    },
    {
     "data": {
      "image/png": "[encoded data removed]",
      "text/plain": [
       "<Figure size 432x288 with 2 Axes>"
      ]
     },
     "metadata": {},
     "output_type": "display_data"
    }
   ],
   "source": [
    "# set values\n",
    "x1ex = 0.5\n",
    "x2ex = 1.5\n",
    "y1ex = -1\n",
    "y2ex = 1\n",
    "nex = 2\n",
    "A0ex = 1\n",
    "\n",
    "# generate variables as functions from symbolic data\n",
    "Bx_ex = Bx.subs({x1:x1ex, x2:x2ex, y1:y1ex,y2:y2ex, n:nex, A0:A0ex})\n",
    "By_ex = By.subs({x1:x1ex, x2:x2ex, y1:y1ex,y2:y2ex, n:nex, A0:A0ex})\n",
    "Bsqr_ex = Bsqr.subs({x1:x1ex, x2:x2ex, y1:y1ex,y2:y2ex, n:nex, A0:A0ex})\n",
    "sym.pprint(Bsqr_ex)\n",
    "\n",
    "calc_Bx = sym.utilities.lambdify((x,y), Bx_ex)\n",
    "calc_By = sym.utilities.lambdify((x,y), By_ex)\n",
    "calc_Bsqr = sym.utilities.lambdify((x,y), Bsqr_ex)\n",
    "\n",
    "# prepare parameter space\n",
    "xlin = np.linspace(0.,2.,128)\n",
    "ylin = np.linspace(-1.5,1.5,128)\n",
    "xm, ym = list(map(lambda x : x.flatten(), np.meshgrid(xlin,ylin,indexing='ij')))\n",
    "vecshape = (16,16)\n",
    "xlinvec = np.linspace(0.,2.,vecshape[0])\n",
    "ylinvec = np.linspace(-1.5,1.5,vecshape[1])\n",
    "xmv, ymv = list(map(lambda x : x.flatten(), np.meshgrid(xlinvec,ylinvec,indexing='ij')))\n",
    "\n",
    "# calculate variables\n",
    "Bx_vals = np.array([calc_Bx(xx,yy) if (xx > x1ex and xx < x2ex and yy > y1ex and yy < y2ex) else 0.0 for (xx,yy) in tqdm(zip(xmv, ymv), total=len(xmv))])\n",
    "By_vals = np.array([calc_By(xx,yy) if (xx > x1ex and xx < x2ex and yy > y1ex and yy < y2ex) else 0.0 for (xx,yy) in tqdm(zip(xmv, ymv), total=len(xmv))])\n",
    "Bsqr_vals = np.array([calc_Bsqr(xx,yy) if (xx > x1ex and xx < x2ex and yy > y1ex and yy < y2ex) else 0.0 for (xx,yy) in tqdm(zip(xm, ym), total=len(xm))])\n",
    "Bsqr_vals_vec = np.array([calc_Bsqr(xx,yy) if (xx > x1ex and xx < x2ex and yy > y1ex and yy < y2ex) else 0.0 for (xx,yy) in tqdm(zip(xmv, ymv), total=len(xmv))])\n",
    "\n",
    "# plot the data\n",
    "plt.figure()\n",
    "# plot Bfield sqr\n",
    "plt.tricontourf(xm,ym, Bsqr_vals)\n",
    "# plot Bfield direction\n",
    "arrow_size = 0.1\n",
    "plt.quiver(\n",
    "    *np.meshgrid(xlinvec,ylinvec,indexing='ij'),\n",
    "    (arrow_size * Bx_vals / np.sqrt(Bsqr_vals_vec)).reshape(vecshape),\n",
    "    (arrow_size * By_vals / np.sqrt(Bsqr_vals_vec)).reshape(vecshape),\n",
    "    color='r'\n",
    ")\n",
    "plt.colorbar()\n",
    "plt.show()\n",
    "plt.close()"
   ]
  },
  {
   "cell_type": "code",
   "execution_count": null,
   "metadata": {},
   "outputs": [],
   "source": []
  }
 ],
 "metadata": {
  "kernelspec": {
   "display_name": "Python 3",
   "language": "python",
   "name": "python3"
  },
  "language_info": {
   "codemirror_mode": {
    "name": "ipython",
    "version": 3
   },
   "file_extension": ".py",
   "mimetype": "text/x-python",
   "name": "python",
   "nbconvert_exporter": "python",
   "pygments_lexer": "ipython3",
   "version": "3.6.13"
  }
 },
 "nbformat": 4,
 "nbformat_minor": 2
}
