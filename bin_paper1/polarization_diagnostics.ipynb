{
 "cells": [
  {
   "cell_type": "code",
   "execution_count": 3,
   "metadata": {},
   "outputs": [],
   "source": [
    "import pickle as pkl\n",
    "import numpy as np\n",
    "import matplotlib.pyplot as plt\n",
    "from tqdm import tqdm\n",
    "\n",
    "from scipy.interpolate import interp1d\n",
    "\n",
    "nproc = 4\n",
    "if nproc > 1:\n",
    "    from pathos.multiprocessing import ProcessPool as Pool"
   ]
  },
  {
   "cell_type": "code",
   "execution_count": 4,
   "metadata": {},
   "outputs": [],
   "source": [
    "with open('/DATA/Dropbox/LOOTRPV/astro_projects/2020_IntSh2/athena4p2/bin_paper1/corrT2_press/prod1_corr_ampl/results_corr1ampl20/joined_vtk/IntSh2-p1.0058.vtk.pkl', 'rb') as f:\n",
    "    data = pkl.load(f)[0]"
   ]
  },
  {
   "cell_type": "code",
   "execution_count": 5,
   "metadata": {},
   "outputs": [
    {
     "data": {
      "text/plain": [
       "dict_keys(['Time', 'x1f', 'x2f', 'x3f', 'x1v', 'x2v', 'x3v', 'rho', 'press', 'vel1', 'vel2', 'vel3', 'Bcc1', 'Bcc2', 'Bcc3', 'vel_tot', 'gamma', 'Bcc_tot', 'Bcc_fluid_0', 'Bcc_fluid_1', 'Bcc_fluid_2', 'Bcc_fluid_3', 'Bcc_fluid_tot', 'Bcc_fluid_tot_vsZ', 'plasma_beta', 'magnetization', 'enthalpy', 'internal_energy', 'internal_energy_vsZ', 'j_nu', 'j_nu_vsZ', 'alpha_nu', 'alpha_nu_vsZ', 'j_over_alpha_nu', 'j_over_alpha_nu_vsZ', 'flux_density', 'flux_density_vsZ', 'spectrum', 'ddt_internal_energy', 'ddt_internal_energy_vsZ'])"
      ]
     },
     "execution_count": 5,
     "metadata": {},
     "output_type": "execute_result"
    }
   ],
   "source": [
    "data.keys()"
   ]
  },
  {
   "cell_type": "code",
   "execution_count": 109,
   "metadata": {},
   "outputs": [],
   "source": [
    "def _vector_orientation (vectors):\n",
    "    '''Returns orientation phi (Arc tan(y/x)) of the vector field.'''\n",
    "    result = np.arctan(vectors[...,1] / vectors[...,0])\n",
    "    result = np.where(\n",
    "        vectors[...,0] > 0,\n",
    "        result,\n",
    "        result - np.pi\n",
    "    )\n",
    "    result = np.mod(result, 2.*np.pi)\n",
    "    return result\n",
    "\n",
    "# we look at Bfield in counterclockwise manner, shifting by (dx,dy)\n",
    "# note the margin to ensure periodicity\n",
    "_phi_angles = tuple(np.arange(-0.75*np.pi, 2.75*np.pi, 0.25*np.pi))\n",
    "_shifts = (\n",
    "    (-1,-1), (0,-1), (1,-1),\n",
    "    (1,0), (1,1), (0,1), (-1,1), (-1,0), (-1,-1), (0,-1), (1,-1),\n",
    "    (1,0), (1,1), (0,1)\n",
    ")\n",
    "def _bfield_angles (bfield, bfield_phi):\n",
    "    '''For each cell, we limit ourselves to the three neighbours closest to the direction of Bfield in that cell. Then, we report the angles between center cell's Bfield and Bfield at these neighbours.'''\n",
    "    # calculate which neighbouring cells are closest to where Bfield is pointing\n",
    "    direction_distances = np.repeat(np.expand_dims(bfield_phi,-1),len(_phi_angles), axis=-1) - _phi_angles\n",
    "    direction_idxs = np.argpartition(\n",
    "        np.reshape(np.abs(direction_distances), (-1,len(_phi_angles))),\n",
    "        3, axis=-1\n",
    "    )[...,:3]\n",
    "    direction_idxs = np.reshape(direction_idxs, (*(direction_distances.shape[:-1]),3))\n",
    "    np.sort(direction_idxs, axis=-1)\n",
    "    direction_distances = np.take_along_axis(\n",
    "        direction_distances,\n",
    "        direction_idxs,\n",
    "        axis=-1\n",
    "    )\n",
    "    # calculate angles between Bfield vectors\n",
    "    shift_vectors = np.take(\n",
    "        np.array(_shifts),\n",
    "        direction_idxs.flatten(),\n",
    "        axis=0\n",
    "    )\n",
    "    shift_vectors = np.reshape(np.array(\n",
    "        shift_vectors\n",
    "    ), (*(bfield_phi.shape),3,2))\n",
    "    shift_vectors = np.transpose(shift_vectors, (-2,-1,0,1))\n",
    "    indices = np.meshgrid(range(bfield.shape[0]), range(bfield.shape[1]), indexing='ij')\n",
    "    indices = np.stack(indices)\n",
    "    indices = np.stack(3*[indices,])[...,1:-1,1:-1]\n",
    "    rolled_indices = indices + shift_vectors\n",
    "    bfield_rolled = np.array([\n",
    "        bfield[i,j] for i,j in rolled_indices\n",
    "    ])\n",
    "    bfield_here = np.stack(3*[bfield[...,1:-1,1:-1,:],])\n",
    "    bfield_angles = np.arccos(\n",
    "        np.sum(\n",
    "            bfield_here * bfield_rolled, axis=-1\n",
    "        ) / np.sqrt(np.sum(bfield_here**2, -1) * np.sum(bfield_rolled**2, -1))\n",
    "    )\n",
    "    bfield_angles = np.transpose(np.swapaxes(bfield_angles, 0,-1), (1,0,2))\n",
    "    return direction_distances, bfield_angles\n",
    "    \n",
    "def bfield_curvature (data):\n",
    "    # collect bfields as vectors\n",
    "    bfield = np.swapaxes(np.array((\n",
    "        data['Bcc_fluid_1'],\n",
    "        data['Bcc_fluid_2'],\n",
    "        #data['Bcc_fluid_3'], # == 0\n",
    "    )), 0,-1)\n",
    "    # at each cell, collect angles between the cell's Bfield direction, and Bfield directions in the neighbouring cells\n",
    "    print('Calculating angles.. ', end='', flush=True)\n",
    "    bfield_phi = _vector_orientation(bfield)[1:-1,1:-1]\n",
    "    direction_distance, bfield_angles = _bfield_angles(bfield, bfield_phi)\n",
    "    print('done.', flush=True)\n",
    "    # now, interpolate these values as a function of position angle\n",
    "    # we'll use simple piecewise parabolic interpolation (y = ax2+bx+c)\n",
    "    print('Interpolating.. ', end='', flush=True)\n",
    "    x,y = direction_distance, bfield_angles\n",
    "    a = ( 1./(x[...,2]-x[...,0]) ) * ( (y[...,2]-y[...,1])/(x[...,2]-x[...,1]) - (y[...,1]-y[...,0])/(x[...,1]-x[...,0]) )\n",
    "    b = (y[...,1]-y[...,0])/(x[...,1]-x[...,0]) - a*(x[...,0]-x[...,1])\n",
    "    c = y[...,0] - a*x[...,0]**2 - b*x[...,0]\n",
    "    bfield_rotation = c\n",
    "    del bfield, direction_distance, bfield_angles, x,y, a,b\n",
    "    print('Calculating curvature radius.. ', end='', flush=True)\n",
    "    # we also need a length scale, we take it from the square-neighbourhood of our bfield\n",
    "    vectors = np.stack((\n",
    "        np.cos(bfield_phi), np.sin(bfield_phi)\n",
    "    ))\n",
    "    # normalize so that one coordinate ==1 (i.e., we're on a unit square)\n",
    "    vectors /= np.where(\n",
    "        vectors[0] > vectors[1],\n",
    "        vectors[0],\n",
    "        vectors[1]\n",
    "    )\n",
    "    length = np.sqrt(np.sum(\n",
    "        vectors**2, axis=0\n",
    "    ))\n",
    "    del vectors\n",
    "    # calculate curvature radius\n",
    "    curvature = bfield_rotation / length\n",
    "    print('done.', flush=True)\n",
    "    \n",
    "    return np.transpose(curvature)"
   ]
  },
  {
   "cell_type": "code",
   "execution_count": 110,
   "metadata": {},
   "outputs": [
    {
     "name": "stdout",
     "output_type": "stream",
     "text": [
      "Calculating angles.. "
     ]
    },
    {
     "name": "stderr",
     "output_type": "stream",
     "text": [
      "/home/ppjanka/anaconda3/envs/intsh2/lib/python3.6/site-packages/ipykernel_launcher.py:3: RuntimeWarning: divide by zero encountered in true_divide\n",
      "  This is separate from the ipykernel package so we can avoid doing imports until\n",
      "/home/ppjanka/anaconda3/envs/intsh2/lib/python3.6/site-packages/ipykernel_launcher.py:3: RuntimeWarning: invalid value encountered in true_divide\n",
      "  This is separate from the ipykernel package so we can avoid doing imports until\n",
      "/home/ppjanka/anaconda3/envs/intsh2/lib/python3.6/site-packages/ipykernel_launcher.py:3: RuntimeWarning: invalid value encountered in arctan\n",
      "  This is separate from the ipykernel package so we can avoid doing imports until\n",
      "/home/ppjanka/anaconda3/envs/intsh2/lib/python3.6/site-packages/ipykernel_launcher.py:9: RuntimeWarning: invalid value encountered in remainder\n",
      "  if __name__ == '__main__':\n"
     ]
    },
    {
     "name": "stdout",
     "output_type": "stream",
     "text": [
      "done.\n",
      "Interpolating.. "
     ]
    },
    {
     "name": "stderr",
     "output_type": "stream",
     "text": [
      "/home/ppjanka/anaconda3/envs/intsh2/lib/python3.6/site-packages/ipykernel_launcher.py:56: RuntimeWarning: divide by zero encountered in true_divide\n",
      "/home/ppjanka/anaconda3/envs/intsh2/lib/python3.6/site-packages/ipykernel_launcher.py:56: RuntimeWarning: invalid value encountered in true_divide\n",
      "/home/ppjanka/anaconda3/envs/intsh2/lib/python3.6/site-packages/ipykernel_launcher.py:56: RuntimeWarning: invalid value encountered in arccos\n"
     ]
    },
    {
     "name": "stdout",
     "output_type": "stream",
     "text": [
      "Calculating curvature radius.. "
     ]
    },
    {
     "name": "stderr",
     "output_type": "stream",
     "text": [
      "/home/ppjanka/anaconda3/envs/intsh2/lib/python3.6/site-packages/ipykernel_launcher.py:89: RuntimeWarning: invalid value encountered in greater\n"
     ]
    },
    {
     "name": "stdout",
     "output_type": "stream",
     "text": [
      "done.\n",
      "(1022, 8190)\n"
     ]
    }
   ],
   "source": [
    "curvature = bfield_curvature(data)"
   ]
  },
  {
   "cell_type": "code",
   "execution_count": 111,
   "metadata": {},
   "outputs": [
    {
     "name": "stderr",
     "output_type": "stream",
     "text": [
      "/home/ppjanka/anaconda3/envs/intsh2/lib/python3.6/site-packages/ipykernel_launcher.py:4: RuntimeWarning: invalid value encountered in greater\n",
      "  after removing the cwd from sys.path.\n",
      "/home/ppjanka/anaconda3/envs/intsh2/lib/python3.6/site-packages/ipykernel_launcher.py:7: UserWarning: The following kwargs were not used by contour: 'vlim', 'bins'\n",
      "  import sys\n"
     ]
    },
    {
     "data": {
      "text/plain": [
       "<Figure size 1080x360 with 0 Axes>"
      ]
     },
     "metadata": {},
     "output_type": "display_data"
    },
    {
     "data": {
      "image/png": "[encoded data removed]",
      "text/plain": [
       "<Figure size 1080x360 with 2 Axes>"
      ]
     },
     "metadata": {},
     "output_type": "display_data"
    }
   ],
   "source": [
    "plt.figure(figsize=(15,5))\n",
    "plt.contourf(\n",
    "    data['x1v'][1:-1], data['x2v'][1:-1],\n",
    "    np.where(curvature > np.exp(-15), np.log(curvature), -15),\n",
    "    vlim=(-15,0),\n",
    "    bins=128,\n",
    "    cmap='magma')\n",
    "plt.xlim(-10,10)\n",
    "plt.gca().set_aspect(1)\n",
    "plt.colorbar()\n",
    "plt.show(); plt.close()"
   ]
  },
  {
   "cell_type": "code",
   "execution_count": null,
   "metadata": {},
   "outputs": [],
   "source": []
  }
 ],
 "metadata": {
  "kernelspec": {
   "display_name": "Python 3",
   "language": "python",
   "name": "python3"
  },
  "language_info": {
   "codemirror_mode": {
    "name": "ipython",
    "version": 3
   },
   "file_extension": ".py",
   "mimetype": "text/x-python",
   "name": "python",
   "nbconvert_exporter": "python",
   "pygments_lexer": "ipython3",
   "version": "3.6.13"
  }
 },
 "nbformat": 4,
 "nbformat_minor": 2
}
