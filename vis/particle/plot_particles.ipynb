{
 "cells": [
  {
   "cell_type": "markdown",
   "metadata": {},
   "source": [
    "This notebook is an example of using the Particles class in particles.py to read, process, and plot data from .lis files."
   ]
  },
  {
   "cell_type": "code",
   "execution_count": null,
   "metadata": {},
   "outputs": [],
   "source": [
    "from particles import *\n",
    "\n",
    "plotting_movies = True\n",
    "\n",
    "if not plotting_movies:\n",
    "     # WARNING: movie plots will not work in parallel if matplotlib is imported before plot_Ekin_distribution_movie\n",
    "    import matplotlib.pyplot as plt\n",
    "    import matplotlib.gridspec as gridspec"
   ]
  },
  {
   "cell_type": "code",
   "execution_count": null,
   "metadata": {},
   "outputs": [
    {
     "name": "stderr",
     "output_type": "stream",
     "text": [
      " 51%|█████▏    | 3434/6668 [00:00<00:00, 3801.13it/s]"
     ]
    }
   ],
   "source": [
    "# path to folder containing the .lis files\n",
    "datapath = '/DATA/Dropbox/LOOTRPV/astro_projects/2020_IntSh2/athena4p2-particles/bin/test021_VL-SR-MPI_2D/joined_lis/'\n",
    "\n",
    "filenames = sorted(glob.glob(datapath + '*.lis'))\n",
    "\n",
    "particles = Particles(relativistic=False)\n",
    "for filename in tqdm(filenames):\n",
    "    particles.add_snapshot(filename, verbose=False)"
   ]
  },
  {
   "cell_type": "code",
   "execution_count": null,
   "metadata": {},
   "outputs": [],
   "source": [
    "if not plotting_movies:\n",
    "    \n",
    "    fig = plt.figure(figsize=(18,6))\n",
    "    gs = gridspec.GridSpec(1,3)\n",
    "\n",
    "    plt.subplot(gs[0,0])\n",
    "    particles.plot_pos2D(plt.gca(), color_by='time')\n",
    "\n",
    "    particles.update_aux_data()\n",
    "\n",
    "    plt.subplot(gs[0,1])\n",
    "    particles.plot_Ekin_vs_time(plt.gca())\n",
    "\n",
    "    plt.subplot(gs[0,2])\n",
    "    particles.plot_Ekin_vs_time(plt.gca(), residuals=True)\n",
    "\n",
    "    plt.show()\n",
    "    plt.close()"
   ]
  },
  {
   "cell_type": "code",
   "execution_count": null,
   "metadata": {},
   "outputs": [],
   "source": [
    "if not plotting_movies:\n",
    "    fig = plt.figure(figsize=[8,6])\n",
    "    gs = gridspec.GridSpec(1,2, width_ratios=[1,0.1])\n",
    "\n",
    "    plt.subplot(gs[0,0])\n",
    "    particles.plot_Ekin_distribution(plt.gca(), average=False, navg=6660, cax=plt.subplot(gs[0,1]))\n",
    "\n",
    "    plt.show()\n",
    "    plt.close()"
   ]
  },
  {
   "cell_type": "code",
   "execution_count": null,
   "metadata": {},
   "outputs": [],
   "source": [
    "# WARNING: movie plots will not work in parallel if matplotlib is imported before calling this function!\n",
    "#  - if plt is loaded, you will (sadly... :/) need to restart the kernel or use a separate session to call this function\n",
    "if plotting_movies:\n",
    "    particles.plot_Ekin_distribution_movie(nproc=8, navg=6600, force=True, xmin=0., xmax=0.01)"
   ]
  },
  {
   "cell_type": "code",
   "execution_count": null,
   "metadata": {},
   "outputs": [],
   "source": []
  }
 ],
 "metadata": {
  "kernelspec": {
   "display_name": "Python 3",
   "language": "python",
   "name": "python3"
  },
  "language_info": {
   "codemirror_mode": {
    "name": "ipython",
    "version": 3
   },
   "file_extension": ".py",
   "mimetype": "text/x-python",
   "name": "python",
   "nbconvert_exporter": "python",
   "pygments_lexer": "ipython3",
   "version": "3.6.9"
  }
 },
 "nbformat": 4,
 "nbformat_minor": 2
}
